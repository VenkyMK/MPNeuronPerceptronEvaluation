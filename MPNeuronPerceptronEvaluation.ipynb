{
  "nbformat": 4,
  "nbformat_minor": 0,
  "metadata": {
    "colab": {
      "name": "MPNeuronPerceptronEvaluation.ipynb",
      "version": "0.3.2",
      "provenance": [],
      "collapsed_sections": [],
      "toc_visible": true,
      "include_colab_link": true
    },
    "kernelspec": {
      "name": "python3",
      "display_name": "Python 3"
    }
  },
  "cells": [
    {
      "cell_type": "markdown",
      "metadata": {
        "id": "view-in-github",
        "colab_type": "text"
      },
      "source": [
        "<a href=\"https://colab.research.google.com/github/VenkyMK/MPNeuronPerceptronEvaluation/blob/master/MPNeuronPerceptronEvaluation.ipynb\" target=\"_parent\"><img src=\"https://colab.research.google.com/assets/colab-badge.svg\" alt=\"Open In Colab\"/></a>"
      ]
    },
    {
      "cell_type": "markdown",
      "metadata": {
        "id": "cadeU9uaSQMX",
        "colab_type": "text"
      },
      "source": [
        "##Purpose of the exercise\n",
        "\n",
        "1.   Change the test and training size values and study the corresponding impact\n",
        "2.   Change the threshold of the binarisation and study the corresponding impact\n",
        "3.   Plot the parameter space in the X-axis and Accuracy (Train and Test) in the Y-axis and study the same\n",
        "4.   Changing the hyper parameters, different combinations of epochs and learning rate and study the same\n",
        "5.   Use random initializer for w and b, Use seed to re-produce the scenario\n",
        "6.   Use animated plots and check if it could be applied for any of the hyperparameters"
      ]
    },
    {
      "cell_type": "markdown",
      "metadata": {
        "id": "GitB-VvQNUWg",
        "colab_type": "text"
      },
      "source": [
        "##Loading Dataset"
      ]
    },
    {
      "cell_type": "markdown",
      "metadata": {
        "id": "Q8W1juDIOnTn",
        "colab_type": "text"
      },
      "source": [
        "\n",
        "1.   The data set is loaded into input and output arrays\n",
        "2.   The attributes of the data such as shape, contents and so on is seen to understand the data\n",
        "\n",
        "\n",
        "\n",
        "\n",
        "\n"
      ]
    },
    {
      "cell_type": "code",
      "metadata": {
        "id": "zMaQ6_ITLDm6",
        "colab_type": "code",
        "colab": {}
      },
      "source": [
        "import sklearn.datasets\n",
        "import numpy as np"
      ],
      "execution_count": 0,
      "outputs": []
    },
    {
      "cell_type": "code",
      "metadata": {
        "id": "2MnCfJ25QJRR",
        "colab_type": "code",
        "colab": {}
      },
      "source": [
        "breast_cancer = sklearn.datasets.load_breast_cancer()"
      ],
      "execution_count": 0,
      "outputs": []
    },
    {
      "cell_type": "code",
      "metadata": {
        "id": "f981O3vIML4Q",
        "colab_type": "code",
        "colab": {}
      },
      "source": [
        "X = breast_cancer.data\n",
        "Y = breast_cancer.target"
      ],
      "execution_count": 0,
      "outputs": []
    },
    {
      "cell_type": "code",
      "metadata": {
        "id": "CMCTBNhkNLmC",
        "colab_type": "code",
        "outputId": "a7b62b38-cb5d-4fa0-c336-8fd77a4ba973",
        "colab": {
          "base_uri": "https://localhost:8080/",
          "height": 403
        }
      },
      "source": [
        "print(X)\n",
        "print(Y)"
      ],
      "execution_count": 0,
      "outputs": [
        {
          "output_type": "stream",
          "text": [
            "[[1.799e+01 1.038e+01 1.228e+02 ... 2.654e-01 4.601e-01 1.189e-01]\n",
            " [2.057e+01 1.777e+01 1.329e+02 ... 1.860e-01 2.750e-01 8.902e-02]\n",
            " [1.969e+01 2.125e+01 1.300e+02 ... 2.430e-01 3.613e-01 8.758e-02]\n",
            " ...\n",
            " [1.660e+01 2.808e+01 1.083e+02 ... 1.418e-01 2.218e-01 7.820e-02]\n",
            " [2.060e+01 2.933e+01 1.401e+02 ... 2.650e-01 4.087e-01 1.240e-01]\n",
            " [7.760e+00 2.454e+01 4.792e+01 ... 0.000e+00 2.871e-01 7.039e-02]]\n",
            "[0 0 0 0 0 0 0 0 0 0 0 0 0 0 0 0 0 0 0 1 1 1 0 0 0 0 0 0 0 0 0 0 0 0 0 0 0\n",
            " 1 0 0 0 0 0 0 0 0 1 0 1 1 1 1 1 0 0 1 0 0 1 1 1 1 0 1 0 0 1 1 1 1 0 1 0 0\n",
            " 1 0 1 0 0 1 1 1 0 0 1 0 0 0 1 1 1 0 1 1 0 0 1 1 1 0 0 1 1 1 1 0 1 1 0 1 1\n",
            " 1 1 1 1 1 1 0 0 0 1 0 0 1 1 1 0 0 1 0 1 0 0 1 0 0 1 1 0 1 1 0 1 1 1 1 0 1\n",
            " 1 1 1 1 1 1 1 1 0 1 1 1 1 0 0 1 0 1 1 0 0 1 1 0 0 1 1 1 1 0 1 1 0 0 0 1 0\n",
            " 1 0 1 1 1 0 1 1 0 0 1 0 0 0 0 1 0 0 0 1 0 1 0 1 1 0 1 0 0 0 0 1 1 0 0 1 1\n",
            " 1 0 1 1 1 1 1 0 0 1 1 0 1 1 0 0 1 0 1 1 1 1 0 1 1 1 1 1 0 1 0 0 0 0 0 0 0\n",
            " 0 0 0 0 0 0 0 1 1 1 1 1 1 0 1 0 1 1 0 1 1 0 1 0 0 1 1 1 1 1 1 1 1 1 1 1 1\n",
            " 1 0 1 1 0 1 0 1 1 1 1 1 1 1 1 1 1 1 1 1 1 0 1 1 1 0 1 0 1 1 1 1 0 0 0 1 1\n",
            " 1 1 0 1 0 1 0 1 1 1 0 1 1 1 1 1 1 1 0 0 0 1 1 1 1 1 1 1 1 1 1 1 0 0 1 0 0\n",
            " 0 1 0 0 1 1 1 1 1 0 1 1 1 1 1 0 1 1 1 0 1 1 0 0 1 1 1 1 1 1 0 1 1 1 1 1 1\n",
            " 1 0 1 1 1 1 1 0 1 1 0 1 1 1 1 1 1 1 1 1 1 1 1 0 1 0 0 1 0 1 1 1 1 1 0 1 1\n",
            " 0 1 0 1 1 0 1 0 1 1 1 1 1 1 1 1 0 0 1 1 1 1 1 1 0 1 1 1 1 1 1 1 1 1 1 0 1\n",
            " 1 1 1 1 1 1 0 1 0 1 1 0 1 1 1 1 1 0 0 1 0 1 0 1 1 1 1 1 0 1 1 0 1 0 1 0 0\n",
            " 1 1 1 0 1 1 1 1 1 1 1 1 1 1 1 0 1 0 0 1 1 1 1 1 1 1 1 1 1 1 1 1 1 1 1 1 1\n",
            " 1 1 1 1 1 1 1 0 0 0 0 0 0 1]\n"
          ],
          "name": "stdout"
        }
      ]
    },
    {
      "cell_type": "code",
      "metadata": {
        "id": "lq43UT2TPExG",
        "colab_type": "code",
        "outputId": "1a690339-25b8-43ca-82b5-1290731abbde",
        "colab": {
          "base_uri": "https://localhost:8080/",
          "height": 34
        }
      },
      "source": [
        "print(X.shape, Y.shape)"
      ],
      "execution_count": 0,
      "outputs": [
        {
          "output_type": "stream",
          "text": [
            "(569, 30) (569,)\n"
          ],
          "name": "stdout"
        }
      ]
    },
    {
      "cell_type": "markdown",
      "metadata": {
        "id": "fYMsEDztPlD-",
        "colab_type": "text"
      },
      "source": [
        "## Data to Pandas DataFrame"
      ]
    },
    {
      "cell_type": "markdown",
      "metadata": {
        "id": "d-q0PZchPtpp",
        "colab_type": "text"
      },
      "source": [
        "\n",
        "\n",
        "1.   The data is loaded into the pandas dataframe with columns as the feature names\n",
        "2.   The attributes of the data is checked\n",
        "\n"
      ]
    },
    {
      "cell_type": "code",
      "metadata": {
        "id": "qVQbDQIPPefi",
        "colab_type": "code",
        "colab": {}
      },
      "source": [
        "import pandas as pd"
      ],
      "execution_count": 0,
      "outputs": []
    },
    {
      "cell_type": "code",
      "metadata": {
        "id": "3Iqussr4Q1Vf",
        "colab_type": "code",
        "colab": {}
      },
      "source": [
        "data = pd.DataFrame(breast_cancer.data, columns=breast_cancer.feature_names)"
      ],
      "execution_count": 0,
      "outputs": []
    },
    {
      "cell_type": "code",
      "metadata": {
        "id": "PH-T3e6_RpLv",
        "colab_type": "code",
        "colab": {}
      },
      "source": [
        "data['class'] = breast_cancer.target"
      ],
      "execution_count": 0,
      "outputs": []
    },
    {
      "cell_type": "code",
      "metadata": {
        "id": "dANEiDW7RlzV",
        "colab_type": "code",
        "outputId": "62532132-478e-4a5b-baa0-c167c7f79438",
        "colab": {
          "base_uri": "https://localhost:8080/",
          "height": 249
        }
      },
      "source": [
        "data.head()"
      ],
      "execution_count": 0,
      "outputs": [
        {
          "output_type": "execute_result",
          "data": {
            "text/html": [
              "<div>\n",
              "<style scoped>\n",
              "    .dataframe tbody tr th:only-of-type {\n",
              "        vertical-align: middle;\n",
              "    }\n",
              "\n",
              "    .dataframe tbody tr th {\n",
              "        vertical-align: top;\n",
              "    }\n",
              "\n",
              "    .dataframe thead th {\n",
              "        text-align: right;\n",
              "    }\n",
              "</style>\n",
              "<table border=\"1\" class=\"dataframe\">\n",
              "  <thead>\n",
              "    <tr style=\"text-align: right;\">\n",
              "      <th></th>\n",
              "      <th>mean radius</th>\n",
              "      <th>mean texture</th>\n",
              "      <th>mean perimeter</th>\n",
              "      <th>mean area</th>\n",
              "      <th>mean smoothness</th>\n",
              "      <th>mean compactness</th>\n",
              "      <th>mean concavity</th>\n",
              "      <th>mean concave points</th>\n",
              "      <th>mean symmetry</th>\n",
              "      <th>mean fractal dimension</th>\n",
              "      <th>radius error</th>\n",
              "      <th>texture error</th>\n",
              "      <th>perimeter error</th>\n",
              "      <th>area error</th>\n",
              "      <th>smoothness error</th>\n",
              "      <th>compactness error</th>\n",
              "      <th>concavity error</th>\n",
              "      <th>concave points error</th>\n",
              "      <th>symmetry error</th>\n",
              "      <th>fractal dimension error</th>\n",
              "      <th>worst radius</th>\n",
              "      <th>worst texture</th>\n",
              "      <th>worst perimeter</th>\n",
              "      <th>worst area</th>\n",
              "      <th>worst smoothness</th>\n",
              "      <th>worst compactness</th>\n",
              "      <th>worst concavity</th>\n",
              "      <th>worst concave points</th>\n",
              "      <th>worst symmetry</th>\n",
              "      <th>worst fractal dimension</th>\n",
              "      <th>class</th>\n",
              "    </tr>\n",
              "  </thead>\n",
              "  <tbody>\n",
              "    <tr>\n",
              "      <th>0</th>\n",
              "      <td>17.99</td>\n",
              "      <td>10.38</td>\n",
              "      <td>122.80</td>\n",
              "      <td>1001.0</td>\n",
              "      <td>0.11840</td>\n",
              "      <td>0.27760</td>\n",
              "      <td>0.3001</td>\n",
              "      <td>0.14710</td>\n",
              "      <td>0.2419</td>\n",
              "      <td>0.07871</td>\n",
              "      <td>1.0950</td>\n",
              "      <td>0.9053</td>\n",
              "      <td>8.589</td>\n",
              "      <td>153.40</td>\n",
              "      <td>0.006399</td>\n",
              "      <td>0.04904</td>\n",
              "      <td>0.05373</td>\n",
              "      <td>0.01587</td>\n",
              "      <td>0.03003</td>\n",
              "      <td>0.006193</td>\n",
              "      <td>25.38</td>\n",
              "      <td>17.33</td>\n",
              "      <td>184.60</td>\n",
              "      <td>2019.0</td>\n",
              "      <td>0.1622</td>\n",
              "      <td>0.6656</td>\n",
              "      <td>0.7119</td>\n",
              "      <td>0.2654</td>\n",
              "      <td>0.4601</td>\n",
              "      <td>0.11890</td>\n",
              "      <td>0</td>\n",
              "    </tr>\n",
              "    <tr>\n",
              "      <th>1</th>\n",
              "      <td>20.57</td>\n",
              "      <td>17.77</td>\n",
              "      <td>132.90</td>\n",
              "      <td>1326.0</td>\n",
              "      <td>0.08474</td>\n",
              "      <td>0.07864</td>\n",
              "      <td>0.0869</td>\n",
              "      <td>0.07017</td>\n",
              "      <td>0.1812</td>\n",
              "      <td>0.05667</td>\n",
              "      <td>0.5435</td>\n",
              "      <td>0.7339</td>\n",
              "      <td>3.398</td>\n",
              "      <td>74.08</td>\n",
              "      <td>0.005225</td>\n",
              "      <td>0.01308</td>\n",
              "      <td>0.01860</td>\n",
              "      <td>0.01340</td>\n",
              "      <td>0.01389</td>\n",
              "      <td>0.003532</td>\n",
              "      <td>24.99</td>\n",
              "      <td>23.41</td>\n",
              "      <td>158.80</td>\n",
              "      <td>1956.0</td>\n",
              "      <td>0.1238</td>\n",
              "      <td>0.1866</td>\n",
              "      <td>0.2416</td>\n",
              "      <td>0.1860</td>\n",
              "      <td>0.2750</td>\n",
              "      <td>0.08902</td>\n",
              "      <td>0</td>\n",
              "    </tr>\n",
              "    <tr>\n",
              "      <th>2</th>\n",
              "      <td>19.69</td>\n",
              "      <td>21.25</td>\n",
              "      <td>130.00</td>\n",
              "      <td>1203.0</td>\n",
              "      <td>0.10960</td>\n",
              "      <td>0.15990</td>\n",
              "      <td>0.1974</td>\n",
              "      <td>0.12790</td>\n",
              "      <td>0.2069</td>\n",
              "      <td>0.05999</td>\n",
              "      <td>0.7456</td>\n",
              "      <td>0.7869</td>\n",
              "      <td>4.585</td>\n",
              "      <td>94.03</td>\n",
              "      <td>0.006150</td>\n",
              "      <td>0.04006</td>\n",
              "      <td>0.03832</td>\n",
              "      <td>0.02058</td>\n",
              "      <td>0.02250</td>\n",
              "      <td>0.004571</td>\n",
              "      <td>23.57</td>\n",
              "      <td>25.53</td>\n",
              "      <td>152.50</td>\n",
              "      <td>1709.0</td>\n",
              "      <td>0.1444</td>\n",
              "      <td>0.4245</td>\n",
              "      <td>0.4504</td>\n",
              "      <td>0.2430</td>\n",
              "      <td>0.3613</td>\n",
              "      <td>0.08758</td>\n",
              "      <td>0</td>\n",
              "    </tr>\n",
              "    <tr>\n",
              "      <th>3</th>\n",
              "      <td>11.42</td>\n",
              "      <td>20.38</td>\n",
              "      <td>77.58</td>\n",
              "      <td>386.1</td>\n",
              "      <td>0.14250</td>\n",
              "      <td>0.28390</td>\n",
              "      <td>0.2414</td>\n",
              "      <td>0.10520</td>\n",
              "      <td>0.2597</td>\n",
              "      <td>0.09744</td>\n",
              "      <td>0.4956</td>\n",
              "      <td>1.1560</td>\n",
              "      <td>3.445</td>\n",
              "      <td>27.23</td>\n",
              "      <td>0.009110</td>\n",
              "      <td>0.07458</td>\n",
              "      <td>0.05661</td>\n",
              "      <td>0.01867</td>\n",
              "      <td>0.05963</td>\n",
              "      <td>0.009208</td>\n",
              "      <td>14.91</td>\n",
              "      <td>26.50</td>\n",
              "      <td>98.87</td>\n",
              "      <td>567.7</td>\n",
              "      <td>0.2098</td>\n",
              "      <td>0.8663</td>\n",
              "      <td>0.6869</td>\n",
              "      <td>0.2575</td>\n",
              "      <td>0.6638</td>\n",
              "      <td>0.17300</td>\n",
              "      <td>0</td>\n",
              "    </tr>\n",
              "    <tr>\n",
              "      <th>4</th>\n",
              "      <td>20.29</td>\n",
              "      <td>14.34</td>\n",
              "      <td>135.10</td>\n",
              "      <td>1297.0</td>\n",
              "      <td>0.10030</td>\n",
              "      <td>0.13280</td>\n",
              "      <td>0.1980</td>\n",
              "      <td>0.10430</td>\n",
              "      <td>0.1809</td>\n",
              "      <td>0.05883</td>\n",
              "      <td>0.7572</td>\n",
              "      <td>0.7813</td>\n",
              "      <td>5.438</td>\n",
              "      <td>94.44</td>\n",
              "      <td>0.011490</td>\n",
              "      <td>0.02461</td>\n",
              "      <td>0.05688</td>\n",
              "      <td>0.01885</td>\n",
              "      <td>0.01756</td>\n",
              "      <td>0.005115</td>\n",
              "      <td>22.54</td>\n",
              "      <td>16.67</td>\n",
              "      <td>152.20</td>\n",
              "      <td>1575.0</td>\n",
              "      <td>0.1374</td>\n",
              "      <td>0.2050</td>\n",
              "      <td>0.4000</td>\n",
              "      <td>0.1625</td>\n",
              "      <td>0.2364</td>\n",
              "      <td>0.07678</td>\n",
              "      <td>0</td>\n",
              "    </tr>\n",
              "  </tbody>\n",
              "</table>\n",
              "</div>"
            ],
            "text/plain": [
              "   mean radius  mean texture  ...  worst fractal dimension  class\n",
              "0        17.99         10.38  ...                  0.11890      0\n",
              "1        20.57         17.77  ...                  0.08902      0\n",
              "2        19.69         21.25  ...                  0.08758      0\n",
              "3        11.42         20.38  ...                  0.17300      0\n",
              "4        20.29         14.34  ...                  0.07678      0\n",
              "\n",
              "[5 rows x 31 columns]"
            ]
          },
          "metadata": {
            "tags": []
          },
          "execution_count": 128
        }
      ]
    },
    {
      "cell_type": "code",
      "metadata": {
        "id": "H2tB2-1-R9Aj",
        "colab_type": "code",
        "outputId": "104ab57d-47f7-471f-90f6-9e89841a6fd7",
        "colab": {
          "base_uri": "https://localhost:8080/",
          "height": 338
        }
      },
      "source": [
        "data.describe()"
      ],
      "execution_count": 0,
      "outputs": [
        {
          "output_type": "execute_result",
          "data": {
            "text/html": [
              "<div>\n",
              "<style scoped>\n",
              "    .dataframe tbody tr th:only-of-type {\n",
              "        vertical-align: middle;\n",
              "    }\n",
              "\n",
              "    .dataframe tbody tr th {\n",
              "        vertical-align: top;\n",
              "    }\n",
              "\n",
              "    .dataframe thead th {\n",
              "        text-align: right;\n",
              "    }\n",
              "</style>\n",
              "<table border=\"1\" class=\"dataframe\">\n",
              "  <thead>\n",
              "    <tr style=\"text-align: right;\">\n",
              "      <th></th>\n",
              "      <th>mean radius</th>\n",
              "      <th>mean texture</th>\n",
              "      <th>mean perimeter</th>\n",
              "      <th>mean area</th>\n",
              "      <th>mean smoothness</th>\n",
              "      <th>mean compactness</th>\n",
              "      <th>mean concavity</th>\n",
              "      <th>mean concave points</th>\n",
              "      <th>mean symmetry</th>\n",
              "      <th>mean fractal dimension</th>\n",
              "      <th>radius error</th>\n",
              "      <th>texture error</th>\n",
              "      <th>perimeter error</th>\n",
              "      <th>area error</th>\n",
              "      <th>smoothness error</th>\n",
              "      <th>compactness error</th>\n",
              "      <th>concavity error</th>\n",
              "      <th>concave points error</th>\n",
              "      <th>symmetry error</th>\n",
              "      <th>fractal dimension error</th>\n",
              "      <th>worst radius</th>\n",
              "      <th>worst texture</th>\n",
              "      <th>worst perimeter</th>\n",
              "      <th>worst area</th>\n",
              "      <th>worst smoothness</th>\n",
              "      <th>worst compactness</th>\n",
              "      <th>worst concavity</th>\n",
              "      <th>worst concave points</th>\n",
              "      <th>worst symmetry</th>\n",
              "      <th>worst fractal dimension</th>\n",
              "      <th>class</th>\n",
              "    </tr>\n",
              "  </thead>\n",
              "  <tbody>\n",
              "    <tr>\n",
              "      <th>count</th>\n",
              "      <td>569.000000</td>\n",
              "      <td>569.000000</td>\n",
              "      <td>569.000000</td>\n",
              "      <td>569.000000</td>\n",
              "      <td>569.000000</td>\n",
              "      <td>569.000000</td>\n",
              "      <td>569.000000</td>\n",
              "      <td>569.000000</td>\n",
              "      <td>569.000000</td>\n",
              "      <td>569.000000</td>\n",
              "      <td>569.000000</td>\n",
              "      <td>569.000000</td>\n",
              "      <td>569.000000</td>\n",
              "      <td>569.000000</td>\n",
              "      <td>569.000000</td>\n",
              "      <td>569.000000</td>\n",
              "      <td>569.000000</td>\n",
              "      <td>569.000000</td>\n",
              "      <td>569.000000</td>\n",
              "      <td>569.000000</td>\n",
              "      <td>569.000000</td>\n",
              "      <td>569.000000</td>\n",
              "      <td>569.000000</td>\n",
              "      <td>569.000000</td>\n",
              "      <td>569.000000</td>\n",
              "      <td>569.000000</td>\n",
              "      <td>569.000000</td>\n",
              "      <td>569.000000</td>\n",
              "      <td>569.000000</td>\n",
              "      <td>569.000000</td>\n",
              "      <td>569.000000</td>\n",
              "    </tr>\n",
              "    <tr>\n",
              "      <th>mean</th>\n",
              "      <td>14.127292</td>\n",
              "      <td>19.289649</td>\n",
              "      <td>91.969033</td>\n",
              "      <td>654.889104</td>\n",
              "      <td>0.096360</td>\n",
              "      <td>0.104341</td>\n",
              "      <td>0.088799</td>\n",
              "      <td>0.048919</td>\n",
              "      <td>0.181162</td>\n",
              "      <td>0.062798</td>\n",
              "      <td>0.405172</td>\n",
              "      <td>1.216853</td>\n",
              "      <td>2.866059</td>\n",
              "      <td>40.337079</td>\n",
              "      <td>0.007041</td>\n",
              "      <td>0.025478</td>\n",
              "      <td>0.031894</td>\n",
              "      <td>0.011796</td>\n",
              "      <td>0.020542</td>\n",
              "      <td>0.003795</td>\n",
              "      <td>16.269190</td>\n",
              "      <td>25.677223</td>\n",
              "      <td>107.261213</td>\n",
              "      <td>880.583128</td>\n",
              "      <td>0.132369</td>\n",
              "      <td>0.254265</td>\n",
              "      <td>0.272188</td>\n",
              "      <td>0.114606</td>\n",
              "      <td>0.290076</td>\n",
              "      <td>0.083946</td>\n",
              "      <td>0.627417</td>\n",
              "    </tr>\n",
              "    <tr>\n",
              "      <th>std</th>\n",
              "      <td>3.524049</td>\n",
              "      <td>4.301036</td>\n",
              "      <td>24.298981</td>\n",
              "      <td>351.914129</td>\n",
              "      <td>0.014064</td>\n",
              "      <td>0.052813</td>\n",
              "      <td>0.079720</td>\n",
              "      <td>0.038803</td>\n",
              "      <td>0.027414</td>\n",
              "      <td>0.007060</td>\n",
              "      <td>0.277313</td>\n",
              "      <td>0.551648</td>\n",
              "      <td>2.021855</td>\n",
              "      <td>45.491006</td>\n",
              "      <td>0.003003</td>\n",
              "      <td>0.017908</td>\n",
              "      <td>0.030186</td>\n",
              "      <td>0.006170</td>\n",
              "      <td>0.008266</td>\n",
              "      <td>0.002646</td>\n",
              "      <td>4.833242</td>\n",
              "      <td>6.146258</td>\n",
              "      <td>33.602542</td>\n",
              "      <td>569.356993</td>\n",
              "      <td>0.022832</td>\n",
              "      <td>0.157336</td>\n",
              "      <td>0.208624</td>\n",
              "      <td>0.065732</td>\n",
              "      <td>0.061867</td>\n",
              "      <td>0.018061</td>\n",
              "      <td>0.483918</td>\n",
              "    </tr>\n",
              "    <tr>\n",
              "      <th>min</th>\n",
              "      <td>6.981000</td>\n",
              "      <td>9.710000</td>\n",
              "      <td>43.790000</td>\n",
              "      <td>143.500000</td>\n",
              "      <td>0.052630</td>\n",
              "      <td>0.019380</td>\n",
              "      <td>0.000000</td>\n",
              "      <td>0.000000</td>\n",
              "      <td>0.106000</td>\n",
              "      <td>0.049960</td>\n",
              "      <td>0.111500</td>\n",
              "      <td>0.360200</td>\n",
              "      <td>0.757000</td>\n",
              "      <td>6.802000</td>\n",
              "      <td>0.001713</td>\n",
              "      <td>0.002252</td>\n",
              "      <td>0.000000</td>\n",
              "      <td>0.000000</td>\n",
              "      <td>0.007882</td>\n",
              "      <td>0.000895</td>\n",
              "      <td>7.930000</td>\n",
              "      <td>12.020000</td>\n",
              "      <td>50.410000</td>\n",
              "      <td>185.200000</td>\n",
              "      <td>0.071170</td>\n",
              "      <td>0.027290</td>\n",
              "      <td>0.000000</td>\n",
              "      <td>0.000000</td>\n",
              "      <td>0.156500</td>\n",
              "      <td>0.055040</td>\n",
              "      <td>0.000000</td>\n",
              "    </tr>\n",
              "    <tr>\n",
              "      <th>25%</th>\n",
              "      <td>11.700000</td>\n",
              "      <td>16.170000</td>\n",
              "      <td>75.170000</td>\n",
              "      <td>420.300000</td>\n",
              "      <td>0.086370</td>\n",
              "      <td>0.064920</td>\n",
              "      <td>0.029560</td>\n",
              "      <td>0.020310</td>\n",
              "      <td>0.161900</td>\n",
              "      <td>0.057700</td>\n",
              "      <td>0.232400</td>\n",
              "      <td>0.833900</td>\n",
              "      <td>1.606000</td>\n",
              "      <td>17.850000</td>\n",
              "      <td>0.005169</td>\n",
              "      <td>0.013080</td>\n",
              "      <td>0.015090</td>\n",
              "      <td>0.007638</td>\n",
              "      <td>0.015160</td>\n",
              "      <td>0.002248</td>\n",
              "      <td>13.010000</td>\n",
              "      <td>21.080000</td>\n",
              "      <td>84.110000</td>\n",
              "      <td>515.300000</td>\n",
              "      <td>0.116600</td>\n",
              "      <td>0.147200</td>\n",
              "      <td>0.114500</td>\n",
              "      <td>0.064930</td>\n",
              "      <td>0.250400</td>\n",
              "      <td>0.071460</td>\n",
              "      <td>0.000000</td>\n",
              "    </tr>\n",
              "    <tr>\n",
              "      <th>50%</th>\n",
              "      <td>13.370000</td>\n",
              "      <td>18.840000</td>\n",
              "      <td>86.240000</td>\n",
              "      <td>551.100000</td>\n",
              "      <td>0.095870</td>\n",
              "      <td>0.092630</td>\n",
              "      <td>0.061540</td>\n",
              "      <td>0.033500</td>\n",
              "      <td>0.179200</td>\n",
              "      <td>0.061540</td>\n",
              "      <td>0.324200</td>\n",
              "      <td>1.108000</td>\n",
              "      <td>2.287000</td>\n",
              "      <td>24.530000</td>\n",
              "      <td>0.006380</td>\n",
              "      <td>0.020450</td>\n",
              "      <td>0.025890</td>\n",
              "      <td>0.010930</td>\n",
              "      <td>0.018730</td>\n",
              "      <td>0.003187</td>\n",
              "      <td>14.970000</td>\n",
              "      <td>25.410000</td>\n",
              "      <td>97.660000</td>\n",
              "      <td>686.500000</td>\n",
              "      <td>0.131300</td>\n",
              "      <td>0.211900</td>\n",
              "      <td>0.226700</td>\n",
              "      <td>0.099930</td>\n",
              "      <td>0.282200</td>\n",
              "      <td>0.080040</td>\n",
              "      <td>1.000000</td>\n",
              "    </tr>\n",
              "    <tr>\n",
              "      <th>75%</th>\n",
              "      <td>15.780000</td>\n",
              "      <td>21.800000</td>\n",
              "      <td>104.100000</td>\n",
              "      <td>782.700000</td>\n",
              "      <td>0.105300</td>\n",
              "      <td>0.130400</td>\n",
              "      <td>0.130700</td>\n",
              "      <td>0.074000</td>\n",
              "      <td>0.195700</td>\n",
              "      <td>0.066120</td>\n",
              "      <td>0.478900</td>\n",
              "      <td>1.474000</td>\n",
              "      <td>3.357000</td>\n",
              "      <td>45.190000</td>\n",
              "      <td>0.008146</td>\n",
              "      <td>0.032450</td>\n",
              "      <td>0.042050</td>\n",
              "      <td>0.014710</td>\n",
              "      <td>0.023480</td>\n",
              "      <td>0.004558</td>\n",
              "      <td>18.790000</td>\n",
              "      <td>29.720000</td>\n",
              "      <td>125.400000</td>\n",
              "      <td>1084.000000</td>\n",
              "      <td>0.146000</td>\n",
              "      <td>0.339100</td>\n",
              "      <td>0.382900</td>\n",
              "      <td>0.161400</td>\n",
              "      <td>0.317900</td>\n",
              "      <td>0.092080</td>\n",
              "      <td>1.000000</td>\n",
              "    </tr>\n",
              "    <tr>\n",
              "      <th>max</th>\n",
              "      <td>28.110000</td>\n",
              "      <td>39.280000</td>\n",
              "      <td>188.500000</td>\n",
              "      <td>2501.000000</td>\n",
              "      <td>0.163400</td>\n",
              "      <td>0.345400</td>\n",
              "      <td>0.426800</td>\n",
              "      <td>0.201200</td>\n",
              "      <td>0.304000</td>\n",
              "      <td>0.097440</td>\n",
              "      <td>2.873000</td>\n",
              "      <td>4.885000</td>\n",
              "      <td>21.980000</td>\n",
              "      <td>542.200000</td>\n",
              "      <td>0.031130</td>\n",
              "      <td>0.135400</td>\n",
              "      <td>0.396000</td>\n",
              "      <td>0.052790</td>\n",
              "      <td>0.078950</td>\n",
              "      <td>0.029840</td>\n",
              "      <td>36.040000</td>\n",
              "      <td>49.540000</td>\n",
              "      <td>251.200000</td>\n",
              "      <td>4254.000000</td>\n",
              "      <td>0.222600</td>\n",
              "      <td>1.058000</td>\n",
              "      <td>1.252000</td>\n",
              "      <td>0.291000</td>\n",
              "      <td>0.663800</td>\n",
              "      <td>0.207500</td>\n",
              "      <td>1.000000</td>\n",
              "    </tr>\n",
              "  </tbody>\n",
              "</table>\n",
              "</div>"
            ],
            "text/plain": [
              "       mean radius  mean texture  ...  worst fractal dimension       class\n",
              "count   569.000000    569.000000  ...               569.000000  569.000000\n",
              "mean     14.127292     19.289649  ...                 0.083946    0.627417\n",
              "std       3.524049      4.301036  ...                 0.018061    0.483918\n",
              "min       6.981000      9.710000  ...                 0.055040    0.000000\n",
              "25%      11.700000     16.170000  ...                 0.071460    0.000000\n",
              "50%      13.370000     18.840000  ...                 0.080040    1.000000\n",
              "75%      15.780000     21.800000  ...                 0.092080    1.000000\n",
              "max      28.110000     39.280000  ...                 0.207500    1.000000\n",
              "\n",
              "[8 rows x 31 columns]"
            ]
          },
          "metadata": {
            "tags": []
          },
          "execution_count": 129
        }
      ]
    },
    {
      "cell_type": "code",
      "metadata": {
        "id": "NIQYxBjCuctm",
        "colab_type": "code",
        "outputId": "bff0dacc-22c8-49dc-e086-05591074d0b3",
        "colab": {
          "base_uri": "https://localhost:8080/",
          "height": 67
        }
      },
      "source": [
        "print(data['class'].value_counts())"
      ],
      "execution_count": 0,
      "outputs": [
        {
          "output_type": "stream",
          "text": [
            "1    357\n",
            "0    212\n",
            "Name: class, dtype: int64\n"
          ],
          "name": "stdout"
        }
      ]
    },
    {
      "cell_type": "code",
      "metadata": {
        "id": "ft7Kx34ZxJCR",
        "colab_type": "code",
        "outputId": "fcbe13c3-7982-4497-daf4-f61fedcd484c",
        "colab": {
          "base_uri": "https://localhost:8080/",
          "height": 34
        }
      },
      "source": [
        "print(breast_cancer.target_names)"
      ],
      "execution_count": 0,
      "outputs": [
        {
          "output_type": "stream",
          "text": [
            "['malignant' 'benign']\n"
          ],
          "name": "stdout"
        }
      ]
    },
    {
      "cell_type": "code",
      "metadata": {
        "id": "mkyD0D87yY3q",
        "colab_type": "code",
        "outputId": "be16eacd-2628-477e-8cff-667cab4808d3",
        "colab": {
          "base_uri": "https://localhost:8080/",
          "height": 190
        }
      },
      "source": [
        "data.groupby('class').mean()"
      ],
      "execution_count": 0,
      "outputs": [
        {
          "output_type": "execute_result",
          "data": {
            "text/html": [
              "<div>\n",
              "<style scoped>\n",
              "    .dataframe tbody tr th:only-of-type {\n",
              "        vertical-align: middle;\n",
              "    }\n",
              "\n",
              "    .dataframe tbody tr th {\n",
              "        vertical-align: top;\n",
              "    }\n",
              "\n",
              "    .dataframe thead th {\n",
              "        text-align: right;\n",
              "    }\n",
              "</style>\n",
              "<table border=\"1\" class=\"dataframe\">\n",
              "  <thead>\n",
              "    <tr style=\"text-align: right;\">\n",
              "      <th></th>\n",
              "      <th>mean radius</th>\n",
              "      <th>mean texture</th>\n",
              "      <th>mean perimeter</th>\n",
              "      <th>mean area</th>\n",
              "      <th>mean smoothness</th>\n",
              "      <th>mean compactness</th>\n",
              "      <th>mean concavity</th>\n",
              "      <th>mean concave points</th>\n",
              "      <th>mean symmetry</th>\n",
              "      <th>mean fractal dimension</th>\n",
              "      <th>radius error</th>\n",
              "      <th>texture error</th>\n",
              "      <th>perimeter error</th>\n",
              "      <th>area error</th>\n",
              "      <th>smoothness error</th>\n",
              "      <th>compactness error</th>\n",
              "      <th>concavity error</th>\n",
              "      <th>concave points error</th>\n",
              "      <th>symmetry error</th>\n",
              "      <th>fractal dimension error</th>\n",
              "      <th>worst radius</th>\n",
              "      <th>worst texture</th>\n",
              "      <th>worst perimeter</th>\n",
              "      <th>worst area</th>\n",
              "      <th>worst smoothness</th>\n",
              "      <th>worst compactness</th>\n",
              "      <th>worst concavity</th>\n",
              "      <th>worst concave points</th>\n",
              "      <th>worst symmetry</th>\n",
              "      <th>worst fractal dimension</th>\n",
              "    </tr>\n",
              "    <tr>\n",
              "      <th>class</th>\n",
              "      <th></th>\n",
              "      <th></th>\n",
              "      <th></th>\n",
              "      <th></th>\n",
              "      <th></th>\n",
              "      <th></th>\n",
              "      <th></th>\n",
              "      <th></th>\n",
              "      <th></th>\n",
              "      <th></th>\n",
              "      <th></th>\n",
              "      <th></th>\n",
              "      <th></th>\n",
              "      <th></th>\n",
              "      <th></th>\n",
              "      <th></th>\n",
              "      <th></th>\n",
              "      <th></th>\n",
              "      <th></th>\n",
              "      <th></th>\n",
              "      <th></th>\n",
              "      <th></th>\n",
              "      <th></th>\n",
              "      <th></th>\n",
              "      <th></th>\n",
              "      <th></th>\n",
              "      <th></th>\n",
              "      <th></th>\n",
              "      <th></th>\n",
              "      <th></th>\n",
              "    </tr>\n",
              "  </thead>\n",
              "  <tbody>\n",
              "    <tr>\n",
              "      <th>0</th>\n",
              "      <td>17.462830</td>\n",
              "      <td>21.604906</td>\n",
              "      <td>115.365377</td>\n",
              "      <td>978.376415</td>\n",
              "      <td>0.102898</td>\n",
              "      <td>0.145188</td>\n",
              "      <td>0.160775</td>\n",
              "      <td>0.087990</td>\n",
              "      <td>0.192909</td>\n",
              "      <td>0.062680</td>\n",
              "      <td>0.609083</td>\n",
              "      <td>1.210915</td>\n",
              "      <td>4.323929</td>\n",
              "      <td>72.672406</td>\n",
              "      <td>0.006780</td>\n",
              "      <td>0.032281</td>\n",
              "      <td>0.041824</td>\n",
              "      <td>0.015060</td>\n",
              "      <td>0.020472</td>\n",
              "      <td>0.004062</td>\n",
              "      <td>21.134811</td>\n",
              "      <td>29.318208</td>\n",
              "      <td>141.370330</td>\n",
              "      <td>1422.286321</td>\n",
              "      <td>0.144845</td>\n",
              "      <td>0.374824</td>\n",
              "      <td>0.450606</td>\n",
              "      <td>0.182237</td>\n",
              "      <td>0.323468</td>\n",
              "      <td>0.091530</td>\n",
              "    </tr>\n",
              "    <tr>\n",
              "      <th>1</th>\n",
              "      <td>12.146524</td>\n",
              "      <td>17.914762</td>\n",
              "      <td>78.075406</td>\n",
              "      <td>462.790196</td>\n",
              "      <td>0.092478</td>\n",
              "      <td>0.080085</td>\n",
              "      <td>0.046058</td>\n",
              "      <td>0.025717</td>\n",
              "      <td>0.174186</td>\n",
              "      <td>0.062867</td>\n",
              "      <td>0.284082</td>\n",
              "      <td>1.220380</td>\n",
              "      <td>2.000321</td>\n",
              "      <td>21.135148</td>\n",
              "      <td>0.007196</td>\n",
              "      <td>0.021438</td>\n",
              "      <td>0.025997</td>\n",
              "      <td>0.009858</td>\n",
              "      <td>0.020584</td>\n",
              "      <td>0.003636</td>\n",
              "      <td>13.379801</td>\n",
              "      <td>23.515070</td>\n",
              "      <td>87.005938</td>\n",
              "      <td>558.899440</td>\n",
              "      <td>0.124959</td>\n",
              "      <td>0.182673</td>\n",
              "      <td>0.166238</td>\n",
              "      <td>0.074444</td>\n",
              "      <td>0.270246</td>\n",
              "      <td>0.079442</td>\n",
              "    </tr>\n",
              "  </tbody>\n",
              "</table>\n",
              "</div>"
            ],
            "text/plain": [
              "       mean radius  mean texture  ...  worst symmetry  worst fractal dimension\n",
              "class                             ...                                         \n",
              "0        17.462830     21.604906  ...        0.323468                 0.091530\n",
              "1        12.146524     17.914762  ...        0.270246                 0.079442\n",
              "\n",
              "[2 rows x 30 columns]"
            ]
          },
          "metadata": {
            "tags": []
          },
          "execution_count": 132
        }
      ]
    },
    {
      "cell_type": "markdown",
      "metadata": {
        "id": "ghOj5DV3zWIK",
        "colab_type": "text"
      },
      "source": [
        "##Train Test Split\n",
        "The first requirement is to play with the test and training split size values:\n",
        "\n",
        "1.   Change the test and training size split values and study the corresponding impact\n",
        "\n",
        "\n",
        "\n"
      ]
    },
    {
      "cell_type": "code",
      "metadata": {
        "id": "zcwMFNV4zOKw",
        "colab_type": "code",
        "colab": {}
      },
      "source": [
        "from sklearn.model_selection import train_test_split"
      ],
      "execution_count": 0,
      "outputs": []
    },
    {
      "cell_type": "code",
      "metadata": {
        "id": "Nrpx5yEz1YTI",
        "colab_type": "code",
        "colab": {}
      },
      "source": [
        "X = data.drop('class', axis=1)\n",
        "Y = data['class']"
      ],
      "execution_count": 0,
      "outputs": []
    },
    {
      "cell_type": "code",
      "metadata": {
        "id": "qMilHyNb1n9n",
        "colab_type": "code",
        "outputId": "c71b9a57-9ca3-4079-dbca-7b668b11de46",
        "colab": {
          "base_uri": "https://localhost:8080/",
          "height": 34
        }
      },
      "source": [
        "type(X)"
      ],
      "execution_count": 0,
      "outputs": [
        {
          "output_type": "execute_result",
          "data": {
            "text/plain": [
              "pandas.core.frame.DataFrame"
            ]
          },
          "metadata": {
            "tags": []
          },
          "execution_count": 135
        }
      ]
    },
    {
      "cell_type": "code",
      "metadata": {
        "id": "9j-q8-hV4Hzq",
        "colab_type": "code",
        "colab": {}
      },
      "source": [
        "#X_train, X_test, Y_train, Y_test = train_test_split(X, Y)\n",
        "def set_train_test_split_values(size):\n",
        "  X_train = []\n",
        "  X_test = []\n",
        "  Y_train = []\n",
        "  Y_test = []\n",
        "  for value in size:\n",
        "    a,b,c,d = train_test_split(X, Y, test_size=value, stratify = Y, random_state=1)\n",
        "    X_train.append(a)\n",
        "    X_test.append(b)\n",
        "    Y_train.append(c)\n",
        "    Y_test.append(d)\n",
        "  return X_train, X_test, Y_train, Y_test"
      ],
      "execution_count": 0,
      "outputs": []
    },
    {
      "cell_type": "code",
      "metadata": {
        "id": "ooEbgbBvYQeT",
        "colab_type": "code",
        "colab": {}
      },
      "source": [
        "train_test_split_values = [0.1, 0.15, 0.2, 0.25]\n",
        "X_train_multi, X_test_multi, Y_train_multi, Y_test_multi = set_train_test_split_values(train_test_split_values)"
      ],
      "execution_count": 0,
      "outputs": []
    },
    {
      "cell_type": "code",
      "metadata": {
        "id": "e8g0u97KZdt6",
        "colab_type": "code",
        "outputId": "716d02d9-cf38-486e-8408-766545aa2f27",
        "colab": {
          "base_uri": "https://localhost:8080/",
          "height": 84
        }
      },
      "source": [
        "print(X_train_multi[0].shape, X_test_multi[0].shape, X.shape)\n",
        "print(X_train_multi[1].shape, X_test_multi[1].shape, X.shape)\n",
        "print(X_train_multi[2].shape, X_test_multi[2].shape, X.shape)\n",
        "print(X_train_multi[3].shape, X_test_multi[3].shape, X.shape)"
      ],
      "execution_count": 0,
      "outputs": [
        {
          "output_type": "stream",
          "text": [
            "(512, 30) (57, 30) (569, 30)\n",
            "(483, 30) (86, 30) (569, 30)\n",
            "(455, 30) (114, 30) (569, 30)\n",
            "(426, 30) (143, 30) (569, 30)\n"
          ],
          "name": "stdout"
        }
      ]
    },
    {
      "cell_type": "code",
      "metadata": {
        "id": "2AjVoDmphbQq",
        "colab_type": "code",
        "outputId": "c54095c6-b1d8-4e1e-da9f-d2af781e7979",
        "colab": {
          "base_uri": "https://localhost:8080/",
          "height": 84
        }
      },
      "source": [
        "print(Y_train_multi[0].shape, Y_test_multi[0].shape, Y.shape)\n",
        "print(Y_train_multi[1].shape, Y_test_multi[1].shape, Y.shape)\n",
        "print(Y_train_multi[2].shape, Y_test_multi[2].shape, Y.shape)\n",
        "print(Y_train_multi[3].shape, Y_test_multi[3].shape, Y.shape)"
      ],
      "execution_count": 0,
      "outputs": [
        {
          "output_type": "stream",
          "text": [
            "(512,) (57,) (569,)\n",
            "(483,) (86,) (569,)\n",
            "(455,) (114,) (569,)\n",
            "(426,) (143,) (569,)\n"
          ],
          "name": "stdout"
        }
      ]
    },
    {
      "cell_type": "markdown",
      "metadata": {
        "id": "5yg4XPgTerX1",
        "colab_type": "text"
      },
      "source": [
        "## Binarisation of the Input\n",
        "\n",
        "The second requirement is to play with the binarisation threshold values:\n",
        "\n",
        "1.   Change the threshold value and study the corresponding impact"
      ]
    },
    {
      "cell_type": "code",
      "metadata": {
        "id": "nqd8_SuQjty4",
        "colab_type": "code",
        "colab": {}
      },
      "source": [
        "#def binarisation_manual(input):\n",
        "  #Input_binarised = []\n",
        "  #for value in input:\n",
        "    #Input_binarised.append(value.apply(pd.cut, bins=2, labels=[1,0]))\n",
        "  #return Input_binarised"
      ],
      "execution_count": 0,
      "outputs": []
    },
    {
      "cell_type": "code",
      "metadata": {
        "id": "xkZsJhHJo7Pr",
        "colab_type": "code",
        "colab": {}
      },
      "source": [
        "def binarisation_manual(input):\n",
        "  input1 = input\n",
        "  binary_output = []\n",
        "  for value in input1:\n",
        "    #print(value.shape)\n",
        "    x = len(value.columns)\n",
        "    #print(x)\n",
        "    a = list(value.columns)\n",
        "    #print(a)\n",
        "    for i in range(x):\n",
        "      #print(i)\n",
        "      #b = value.max(axis=0)[i]\n",
        "      b = value.mean(axis=0)[i]\n",
        "      #print(b)\n",
        "      #c = int(b/2)\n",
        "      c = int(b)\n",
        "      #print(c)\n",
        "      d = a[i]\n",
        "      #print(d)\n",
        "      #value.loc[d].map(lambda x: 1 if x < c else 0)\n",
        "      value.loc[:,d] = value.loc[:,d].map(lambda x: 1 if x < c else 0)\n",
        "      #value[:,d].map(lambda x: 1 if x < c else 0)\n",
        "      #print(value[d])\n",
        "    binary_output.append(value)\n",
        "  #print(len(binary_output))\n",
        "  return binary_output"
      ],
      "execution_count": 0,
      "outputs": []
    },
    {
      "cell_type": "code",
      "metadata": {
        "id": "S2voWGGLghS5",
        "colab_type": "code",
        "outputId": "1d919e98-2db4-42d9-e28b-48f936a4b115",
        "colab": {
          "base_uri": "https://localhost:8080/",
          "height": 238
        }
      },
      "source": [
        "#print(len(X_train_multi))\n",
        "X_binarised_train = binarisation_manual(X_train_multi)\n",
        "#print(X_binarised_train)\n",
        "#print(X_binarised_train[0].shape, X_binarised_train[1].shape, X_binarised_train[2].shape, X_binarised_train[3].shape)"
      ],
      "execution_count": 0,
      "outputs": [
        {
          "output_type": "stream",
          "text": [
            "/usr/local/lib/python3.6/dist-packages/pandas/core/indexing.py:635: SettingWithCopyWarning: \n",
            "A value is trying to be set on a copy of a slice from a DataFrame.\n",
            "Try using .loc[row_indexer,col_indexer] = value instead\n",
            "\n",
            "See the caveats in the documentation: http://pandas.pydata.org/pandas-docs/stable/indexing.html#indexing-view-versus-copy\n",
            "  self.obj[item_labels[indexer[info_axis]]] = value\n",
            "/usr/local/lib/python3.6/dist-packages/pandas/core/indexing.py:543: SettingWithCopyWarning: \n",
            "A value is trying to be set on a copy of a slice from a DataFrame.\n",
            "Try using .loc[row_indexer,col_indexer] = value instead\n",
            "\n",
            "See the caveats in the documentation: http://pandas.pydata.org/pandas-docs/stable/indexing.html#indexing-view-versus-copy\n",
            "  self.obj[item] = s\n"
          ],
          "name": "stderr"
        }
      ]
    },
    {
      "cell_type": "code",
      "metadata": {
        "id": "GEuqP0KAV0Lp",
        "colab_type": "code",
        "outputId": "47187f8a-1861-4f87-8aed-33cb25268350",
        "colab": {
          "base_uri": "https://localhost:8080/",
          "height": 238
        }
      },
      "source": [
        "X_binarised_test = binarisation_manual(X_test_multi)\n",
        "#print(X_binarised_test)\n",
        "#print(X_binarised_test[0].shape, X_binarised_test[1].shape, X_binarised_test[2].shape, X_binarised_test[3].shape)"
      ],
      "execution_count": 0,
      "outputs": [
        {
          "output_type": "stream",
          "text": [
            "/usr/local/lib/python3.6/dist-packages/pandas/core/indexing.py:635: SettingWithCopyWarning: \n",
            "A value is trying to be set on a copy of a slice from a DataFrame.\n",
            "Try using .loc[row_indexer,col_indexer] = value instead\n",
            "\n",
            "See the caveats in the documentation: http://pandas.pydata.org/pandas-docs/stable/indexing.html#indexing-view-versus-copy\n",
            "  self.obj[item_labels[indexer[info_axis]]] = value\n",
            "/usr/local/lib/python3.6/dist-packages/pandas/core/indexing.py:543: SettingWithCopyWarning: \n",
            "A value is trying to be set on a copy of a slice from a DataFrame.\n",
            "Try using .loc[row_indexer,col_indexer] = value instead\n",
            "\n",
            "See the caveats in the documentation: http://pandas.pydata.org/pandas-docs/stable/indexing.html#indexing-view-versus-copy\n",
            "  self.obj[item] = s\n"
          ],
          "name": "stderr"
        }
      ]
    },
    {
      "cell_type": "code",
      "metadata": {
        "id": "l907dNKiV3Nf",
        "colab_type": "code",
        "outputId": "ffcd11ef-3313-4a14-8ccb-260c4cd3f6f1",
        "colab": {
          "base_uri": "https://localhost:8080/",
          "height": 34
        }
      },
      "source": [
        "type(X_binarised_test[0])"
      ],
      "execution_count": 0,
      "outputs": [
        {
          "output_type": "execute_result",
          "data": {
            "text/plain": [
              "pandas.core.frame.DataFrame"
            ]
          },
          "metadata": {
            "tags": []
          },
          "execution_count": 144
        }
      ]
    },
    {
      "cell_type": "code",
      "metadata": {
        "id": "_w-Fd74XV6PB",
        "colab_type": "code",
        "colab": {}
      },
      "source": [
        "X_binarised_test[0] = X_binarised_test[0].values\n",
        "X_binarised_train[0] = X_binarised_train[0].values\n",
        "X_binarised_test[1] = X_binarised_test[1].values\n",
        "X_binarised_train[1] = X_binarised_train[1].values\n",
        "X_binarised_test[2] = X_binarised_test[2].values\n",
        "X_binarised_train[2] = X_binarised_train[2].values\n",
        "X_binarised_test[3] = X_binarised_test[3].values\n",
        "X_binarised_train[3] = X_binarised_train[3].values"
      ],
      "execution_count": 0,
      "outputs": []
    },
    {
      "cell_type": "code",
      "metadata": {
        "id": "uZieenxFV9P2",
        "colab_type": "code",
        "outputId": "a40b1162-1bc2-42a0-ad35-5bd2568b6d95",
        "colab": {
          "base_uri": "https://localhost:8080/",
          "height": 34
        }
      },
      "source": [
        "type(X_binarised_test[0])"
      ],
      "execution_count": 0,
      "outputs": [
        {
          "output_type": "execute_result",
          "data": {
            "text/plain": [
              "numpy.ndarray"
            ]
          },
          "metadata": {
            "tags": []
          },
          "execution_count": 146
        }
      ]
    },
    {
      "cell_type": "code",
      "metadata": {
        "id": "IknJxBTuH-cc",
        "colab_type": "code",
        "outputId": "ddce0edb-0694-494b-83c5-6a6d1bf12509",
        "colab": {
          "base_uri": "https://localhost:8080/",
          "height": 269
        }
      },
      "source": [
        "import matplotlib.pyplot as plt\n",
        "plt.plot(X_binarised_train[0].T, \"*\")\n",
        "plt.show()"
      ],
      "execution_count": 0,
      "outputs": [
        {
          "output_type": "display_data",
          "data": {
            "image/png": "[encoded data removed]",
            "text/plain": [
              "<Figure size 432x288 with 1 Axes>"
            ]
          },
          "metadata": {
            "tags": []
          }
        }
      ]
    },
    {
      "cell_type": "markdown",
      "metadata": {
        "id": "2TlfF--ozpo8",
        "colab_type": "text"
      },
      "source": [
        "##MP Neuron Model (McCulloch-Pitts Neuron Model)\n",
        "\n",
        " *Proposed by Warren McCulloch and Walter Pitts in 1943, this model imitates the functionality of a biological neuron, thus is also called Artificial Neuron. An artificial neuron accepts binary inputs and produces a binary output based on a certain threshold value which can be adjusted. This can be mainly used for classification problems.\n",
        "On taking various inputs the function aggregates them and takes decision based on the aggregation. Aggregation simply means sum of these binary inputs. If the aggregated value exceeds the threshold, the output is 1 else it is 0.*"
      ]
    },
    {
      "cell_type": "code",
      "metadata": {
        "id": "t7Cv6prkBIGm",
        "colab_type": "code",
        "colab": {}
      },
      "source": [
        "from sklearn.metrics import accuracy_score"
      ],
      "execution_count": 0,
      "outputs": []
    },
    {
      "cell_type": "code",
      "metadata": {
        "id": "jsd54v7o1oyZ",
        "colab_type": "code",
        "colab": {}
      },
      "source": [
        "class MPNeuron:\n",
        "  \n",
        "  def __init__(self):\n",
        "    self.b = None\n",
        "    \n",
        "  def model(self, x):\n",
        "    return(sum(x) >= self.b)\n",
        "  \n",
        "  def predict(self, X):\n",
        "    Y = []\n",
        "    for x in X:\n",
        "      result = self.model(x)\n",
        "      Y.append(result)\n",
        "    return np.array(Y)\n",
        "  \n",
        "  def fit(self, X, Y):\n",
        "    accuracy = {}\n",
        "    \n",
        "    for b in range(X.shape[1] + 1):\n",
        "      self.b = b\n",
        "      Y_pred = self.predict(X)\n",
        "      accuracy[b] = accuracy_score(Y_pred, Y)\n",
        "      #print(self.b, accuracy[b])\n",
        "      \n",
        "    best_b = max(accuracy, key = accuracy.get)\n",
        "    self.b = best_b\n",
        "    \n",
        "    return accuracy[best_b]\n",
        "    \n",
        "    #print('Optimal value of b is', best_b)\n",
        "    #print('Highest accuracy is', accuracy[best_b])"
      ],
      "execution_count": 0,
      "outputs": []
    },
    {
      "cell_type": "code",
      "metadata": {
        "id": "LUIHI2Tp80qT",
        "colab_type": "code",
        "colab": {}
      },
      "source": [
        "def train_test_accuracy(input_X, input_Y):\n",
        "    mp_neuron = MPNeuron()\n",
        "    return mp_neuron.fit(input_X, input_Y)"
      ],
      "execution_count": 0,
      "outputs": []
    },
    {
      "cell_type": "code",
      "metadata": {
        "id": "mjzyIlpdNF1-",
        "colab_type": "code",
        "outputId": "6b22a8d4-3f9d-4cb4-fc9a-4830411e57ee",
        "colab": {
          "base_uri": "https://localhost:8080/",
          "height": 34
        }
      },
      "source": [
        "train_accuracy = []\n",
        "for i in range(len(X_train_multi)):\n",
        "  train_accuracy.append(train_test_accuracy(X_binarised_train[i], Y_train_multi[i]))\n",
        "  \n",
        "print(train_accuracy, type(train_accuracy))"
      ],
      "execution_count": 0,
      "outputs": [
        {
          "output_type": "stream",
          "text": [
            "[0.91796875, 0.9130434782608695, 0.9120879120879121, 0.9178403755868545] <class 'list'>\n"
          ],
          "name": "stdout"
        }
      ]
    },
    {
      "cell_type": "code",
      "metadata": {
        "id": "xaY9wYPBNaL2",
        "colab_type": "code",
        "outputId": "e99f605b-166a-45cf-e010-69aa772b4e3a",
        "colab": {
          "base_uri": "https://localhost:8080/",
          "height": 34
        }
      },
      "source": [
        "test_accuracy = []\n",
        "for i in range(len(X_train_multi)):\n",
        "  test_accuracy.append(train_test_accuracy(X_binarised_test[i], Y_test_multi[i]))\n",
        "  \n",
        "print(test_accuracy, type(test_accuracy))"
      ],
      "execution_count": 0,
      "outputs": [
        {
          "output_type": "stream",
          "text": [
            "[0.9473684210526315, 0.9651162790697675, 0.956140350877193, 0.9300699300699301] <class 'list'>\n"
          ],
          "name": "stdout"
        }
      ]
    },
    {
      "cell_type": "markdown",
      "metadata": {
        "id": "c-BQ82alK5JN",
        "colab_type": "text"
      },
      "source": [
        "## Plotting Accuracy versus parameters (train_test_split)"
      ]
    },
    {
      "cell_type": "code",
      "metadata": {
        "id": "7TfPeOKhLAJG",
        "colab_type": "code",
        "colab": {}
      },
      "source": [
        "import matplotlib.pyplot as plt\n",
        "import seaborn as sns\n",
        "import numpy as np"
      ],
      "execution_count": 0,
      "outputs": []
    },
    {
      "cell_type": "code",
      "metadata": {
        "id": "cuy65ayWN6h9",
        "colab_type": "code",
        "outputId": "00f52ff2-6708-4ae2-9bb9-3cd94f61f7f8",
        "colab": {
          "base_uri": "https://localhost:8080/",
          "height": 269
        }
      },
      "source": [
        "plt.plot(train_test_split_values, train_accuracy)\n",
        "plt.show()"
      ],
      "execution_count": 0,
      "outputs": [
        {
          "output_type": "display_data",
          "data": {
            "image/png": "[encoded data removed]",
            "text/plain": [
              "<Figure size 432x288 with 1 Axes>"
            ]
          },
          "metadata": {
            "tags": []
          }
        }
      ]
    },
    {
      "cell_type": "code",
      "metadata": {
        "id": "GAnZssrbTFWK",
        "colab_type": "code",
        "outputId": "240e801d-b0e6-4af4-9a70-b4b19f351ad0",
        "colab": {
          "base_uri": "https://localhost:8080/",
          "height": 269
        }
      },
      "source": [
        "plt.plot(train_test_split_values, test_accuracy)\n",
        "plt.show()"
      ],
      "execution_count": 0,
      "outputs": [
        {
          "output_type": "display_data",
          "data": {
            "image/png": "[encoded data removed]",
            "text/plain": [
              "<Figure size 432x288 with 1 Axes>"
            ]
          },
          "metadata": {
            "tags": []
          }
        }
      ]
    },
    {
      "cell_type": "markdown",
      "metadata": {
        "id": "MedngY4nUgtk",
        "colab_type": "text"
      },
      "source": [
        "## Perceptron Model\n",
        "\n",
        "*This model was developed by Frank Rosenblatt in 1957. This is a slightly tweaked version of the Artificial Neuron model we saw earlier. Here, the neurons are also called Linear Threshold Unit (LTU). This model can work on non-boolean values where each input connection gets associated with a weight. Here the function calculates the weighted sum and based on the threshold value provided, it gives a binary output.*\n",
        "\n",
        "\n",
        "1.   Both, MP Neuron Model as well as the Perceptron model work on linearly separable data.\n",
        "2.   MP Neuron Model only accepts boolean input whereas Perceptron Model can process any real input.\n",
        "3.   Inputs aren’t weighted in MP Neuron Model, which makes this model less flexible. On the other hand, Perceptron model can take weights with respective to inputs provided.\n",
        "4.  While using both the models we can adjust threshold input to make the model fit our the dataset."
      ]
    },
    {
      "cell_type": "code",
      "metadata": {
        "id": "hStGXxavUfOe",
        "colab_type": "code",
        "colab": {}
      },
      "source": [
        "import numpy as np\n",
        "class Perceptron:\n",
        "  \n",
        "  def __init__ (self):\n",
        "    self.w = None\n",
        "    self.b = None\n",
        "    \n",
        "  def model(self, x):\n",
        "    return 1 if (np.dot(self.w, x) >= self.b) else 0\n",
        "    \n",
        "  def predict(self, X):\n",
        "    Y = []\n",
        "    for x in X:\n",
        "      result = self.model(x)\n",
        "      Y.append(result)\n",
        "    return np.array(Y)\n",
        "    \n",
        "  def fit(self, X, Y, epochs=1, lr = 1):\n",
        "    \n",
        "    #self.w = np.ones(X.shape[1])\n",
        "    np.random.seed(40)\n",
        "    self.w = np.random.randint(1, 1000, X.shape[1])\n",
        "    self.b = 0\n",
        "    \n",
        "    accuracy = {}\n",
        "    max_accuracy = 0\n",
        "    \n",
        "    wt_matrix = []\n",
        "    \n",
        "    for i in range(epochs):\n",
        "      \n",
        "      for x, y in zip(X, Y):\n",
        "        y_pred = self.model(x)\n",
        "        if y == 1 and y_pred == 0:\n",
        "          self.w = self.w + lr * x\n",
        "          self.b = self.b - lr * 1\n",
        "        elif y == 0 and y_pred == 1:\n",
        "          self.w = self.w - lr * x\n",
        "          self.b = self.b + lr * 1\n",
        "      \n",
        "      wt_matrix.append(self.w)\n",
        "      \n",
        "      accuracy[i] = accuracy_score(self.predict(X), Y)\n",
        "      if (accuracy[i] > max_accuracy):\n",
        "        max_accuracy = accuracy[i]\n",
        "        chkptw = self.w\n",
        "        chkptb = self.b\n",
        "        \n",
        "    self.w = chkptw\n",
        "    self.b = chkptb\n",
        "    \n",
        "    print(max_accuracy)\n",
        "      \n",
        "    plt.plot(accuracy.values())\n",
        "    plt.ylim([0,1])\n",
        "    plt.show()\n",
        "    \n",
        "    return max_accuracy, np.array(wt_matrix)   "
      ],
      "execution_count": 0,
      "outputs": []
    },
    {
      "cell_type": "code",
      "metadata": {
        "id": "raf3uAyQcBaY",
        "colab_type": "code",
        "colab": {}
      },
      "source": [
        "perceptron = Perceptron()"
      ],
      "execution_count": 0,
      "outputs": []
    },
    {
      "cell_type": "code",
      "metadata": {
        "id": "8lFpvQaccM0Y",
        "colab_type": "code",
        "colab": {}
      },
      "source": [
        "X_train_multi[0] = X_train_multi[0].values\n",
        "X_train_multi[1] = X_train_multi[1].values\n",
        "X_train_multi[2] = X_train_multi[2].values\n",
        "X_train_multi[3] = X_train_multi[3].values\n",
        "X_test_multi[0] = X_test_multi[0].values\n",
        "X_test_multi[1] = X_test_multi[1].values\n",
        "X_test_multi[2] = X_test_multi[2].values\n",
        "X_test_multi[3] = X_test_multi[3].values"
      ],
      "execution_count": 0,
      "outputs": []
    },
    {
      "cell_type": "code",
      "metadata": {
        "id": "pzuNyG0uc0Py",
        "colab_type": "code",
        "outputId": "59155462-97d9-47ef-9cab-10a184ee944a",
        "colab": {
          "base_uri": "https://localhost:8080/",
          "height": 1000
        }
      },
      "source": [
        "epochs = [10, 100, 1000, 10000]\n",
        "train_accuracy = []\n",
        "for i in range(len(epochs)):\n",
        "  result = perceptron.fit(X_train_multi[0], Y_train_multi[0], epochs[i], lr = 0.01)[0]\n",
        "  train_accuracy.append(result)\n",
        "  \n",
        "print(train_accuracy)"
      ],
      "execution_count": 0,
      "outputs": [
        {
          "output_type": "stream",
          "text": [
            "0.75\n"
          ],
          "name": "stdout"
        },
        {
          "output_type": "display_data",
          "data": {
            "image/png": "[encoded data removed]",
            "text/plain": [
              "<Figure size 432x288 with 1 Axes>"
            ]
          },
          "metadata": {
            "tags": []
          }
        },
        {
          "output_type": "stream",
          "text": [
            "0.763671875\n"
          ],
          "name": "stdout"
        },
        {
          "output_type": "display_data",
          "data": {
            "image/png": "[encoded data removed]",
            "text/plain": [
              "<Figure size 432x288 with 1 Axes>"
            ]
          },
          "metadata": {
            "tags": []
          }
        },
        {
          "output_type": "stream",
          "text": [
            "0.908203125\n"
          ],
          "name": "stdout"
        },
        {
          "output_type": "display_data",
          "data": {
            "image/png": "[encoded data removed]",
            "text/plain": [
              "<Figure size 432x288 with 1 Axes>"
            ]
          },
          "metadata": {
            "tags": []
          }
        },
        {
          "output_type": "stream",
          "text": [
            "0.9375\n"
          ],
          "name": "stdout"
        },
        {
          "output_type": "display_data",
          "data": {
            "image/png": "[encoded data removed]",
            "text/plain": [
              "<Figure size 432x288 with 1 Axes>"
            ]
          },
          "metadata": {
            "tags": []
          }
        },
        {
          "output_type": "stream",
          "text": [
            "[0.75, 0.763671875, 0.908203125, 0.9375]\n"
          ],
          "name": "stdout"
        }
      ]
    },
    {
      "cell_type": "code",
      "metadata": {
        "id": "D61bdbAHeC35",
        "colab_type": "code",
        "outputId": "e2705228-a07d-4483-dc4c-e9a87302c428",
        "colab": {
          "base_uri": "https://localhost:8080/",
          "height": 269
        }
      },
      "source": [
        "plt.plot(train_accuracy, epochs)\n",
        "plt.show()"
      ],
      "execution_count": 0,
      "outputs": [
        {
          "output_type": "display_data",
          "data": {
            "image/png": "[encoded data removed]",
            "text/plain": [
              "<Figure size 432x288 with 1 Axes>"
            ]
          },
          "metadata": {
            "tags": []
          }
        }
      ]
    },
    {
      "cell_type": "code",
      "metadata": {
        "id": "sFQJLSfYi3Bf",
        "colab_type": "code",
        "outputId": "bce9e760-c36b-485a-b91b-482bd192995b",
        "colab": {
          "base_uri": "https://localhost:8080/",
          "height": 1000
        }
      },
      "source": [
        "lr_list = [0.1, 0.01, 0.001, 0.0001]\n",
        "train_accuracy = []\n",
        "for i in range(len(lr_list)):\n",
        "  result = perceptron.fit(X_train_multi[0], Y_train_multi[0], 1000, lr_list[i])[0]\n",
        "  train_accuracy.append(result)\n",
        "  \n",
        "print(train_accuracy)"
      ],
      "execution_count": 0,
      "outputs": [
        {
          "output_type": "stream",
          "text": [
            "0.9375\n"
          ],
          "name": "stdout"
        },
        {
          "output_type": "display_data",
          "data": {
            "image/png": "[encoded data removed]",
            "text/plain": [
              "<Figure size 432x288 with 1 Axes>"
            ]
          },
          "metadata": {
            "tags": []
          }
        },
        {
          "output_type": "stream",
          "text": [
            "0.908203125\n"
          ],
          "name": "stdout"
        },
        {
          "output_type": "display_data",
          "data": {
            "image/png": "[encoded data removed]",
            "text/plain": [
              "<Figure size 432x288 with 1 Axes>"
            ]
          },
          "metadata": {
            "tags": []
          }
        },
        {
          "output_type": "stream",
          "text": [
            "0.763671875\n"
          ],
          "name": "stdout"
        },
        {
          "output_type": "display_data",
          "data": {
            "image/png": "[encoded data removed]",
            "text/plain": [
              "<Figure size 432x288 with 1 Axes>"
            ]
          },
          "metadata": {
            "tags": []
          }
        },
        {
          "output_type": "stream",
          "text": [
            "0.75\n"
          ],
          "name": "stdout"
        },
        {
          "output_type": "display_data",
          "data": {
            "image/png": "[encoded data removed]",
            "text/plain": [
              "<Figure size 432x288 with 1 Axes>"
            ]
          },
          "metadata": {
            "tags": []
          }
        },
        {
          "output_type": "stream",
          "text": [
            "[0.9375, 0.908203125, 0.763671875, 0.75]\n"
          ],
          "name": "stdout"
        }
      ]
    },
    {
      "cell_type": "code",
      "metadata": {
        "id": "Fc87RxHIjLU2",
        "colab_type": "code",
        "outputId": "5a9514da-6560-4d16-e698-34480a4d2586",
        "colab": {
          "base_uri": "https://localhost:8080/",
          "height": 269
        }
      },
      "source": [
        "plt.plot(train_accuracy, lr_list)\n",
        "plt.show()"
      ],
      "execution_count": 0,
      "outputs": [
        {
          "output_type": "display_data",
          "data": {
            "image/png": "[encoded data removed]",
            "text/plain": [
              "<Figure size 432x288 with 1 Axes>"
            ]
          },
          "metadata": {
            "tags": []
          }
        }
      ]
    },
    {
      "cell_type": "code",
      "metadata": {
        "id": "dVW_zJ7_qdOK",
        "colab_type": "code",
        "outputId": "4cb28a1c-3629-4ee1-9446-eb17bfbf9f0c",
        "colab": {
          "base_uri": "https://localhost:8080/",
          "height": 521
        }
      },
      "source": [
        "perceptron.fit(X_train_multi[0], Y_train_multi[0], 1000, 0.1)"
      ],
      "execution_count": 0,
      "outputs": [
        {
          "output_type": "stream",
          "text": [
            "0.9375\n"
          ],
          "name": "stdout"
        },
        {
          "output_type": "display_data",
          "data": {
            "image/png": "[encoded data removed]",
            "text/plain": [
              "<Figure size 432x288 with 1 Axes>"
            ]
          },
          "metadata": {
            "tags": []
          }
        },
        {
          "output_type": "execute_result",
          "data": {
            "text/plain": [
              "(0.9375,\n",
              " array([[ 3.240e+02,  2.154e+02,  5.500e+00, ...,  8.610e+02,  5.010e+02,\n",
              "          6.170e+02],\n",
              "        [ 3.210e+02,  2.108e+02,  3.000e+00, ...,  8.610e+02,  5.010e+02,\n",
              "          6.170e+02],\n",
              "        [ 3.180e+02,  2.062e+02,  5.000e-01, ...,  8.610e+02,  5.010e+02,\n",
              "          6.170e+02],\n",
              "        ...,\n",
              "        [ 6.000e-01, -4.000e-01, -5.560e+01, ...,  8.610e+02,  5.010e+02,\n",
              "          6.170e+02],\n",
              "        [ 7.000e-01, -4.000e-01, -5.540e+01, ...,  8.610e+02,  5.010e+02,\n",
              "          6.170e+02],\n",
              "        [ 6.000e-01, -3.000e-01, -5.540e+01, ...,  8.610e+02,  5.010e+02,\n",
              "          6.170e+02]]))"
            ]
          },
          "metadata": {
            "tags": []
          },
          "execution_count": 163
        }
      ]
    },
    {
      "cell_type": "code",
      "metadata": {
        "id": "lSQWa9iGeVwW",
        "colab_type": "code",
        "outputId": "d05101ab-3f4a-425a-c033-84cd6fc11933",
        "colab": {
          "base_uri": "https://localhost:8080/",
          "height": 34
        }
      },
      "source": [
        "Y_pred_train = perceptron.predict(X_train_multi[1])\n",
        "print(accuracy_score(Y_pred_train, Y_train_multi[1]))"
      ],
      "execution_count": 0,
      "outputs": [
        {
          "output_type": "stream",
          "text": [
            "0.9358178053830227\n"
          ],
          "name": "stdout"
        }
      ]
    },
    {
      "cell_type": "code",
      "metadata": {
        "id": "oyNKiNg5e_UA",
        "colab_type": "code",
        "outputId": "40336e42-72c0-42bc-bf2b-24d9a1262a48",
        "colab": {
          "base_uri": "https://localhost:8080/",
          "height": 34
        }
      },
      "source": [
        "Y_pred_test = perceptron.predict(X_test_multi[1])\n",
        "print(accuracy_score(Y_pred_test, Y_test_multi[1]))"
      ],
      "execution_count": 0,
      "outputs": [
        {
          "output_type": "stream",
          "text": [
            "0.9418604651162791\n"
          ],
          "name": "stdout"
        }
      ]
    },
    {
      "cell_type": "markdown",
      "metadata": {
        "id": "7m16-q6MgikF",
        "colab_type": "text"
      },
      "source": [
        "##Animation of the plots"
      ]
    },
    {
      "cell_type": "code",
      "metadata": {
        "id": "7M7p32QGgh5d",
        "colab_type": "code",
        "outputId": "7e3a0fb9-649a-4bc0-c227-adced38a5f8b",
        "colab": {
          "base_uri": "https://localhost:8080/",
          "height": 269
        }
      },
      "source": [
        "plt.plot(perceptron.w)\n",
        "plt.show()"
      ],
      "execution_count": 0,
      "outputs": [
        {
          "output_type": "display_data",
          "data": {
            "image/png": "[encoded data removed]",
            "text/plain": [
              "<Figure size 432x288 with 1 Axes>"
            ]
          },
          "metadata": {
            "tags": []
          }
        }
      ]
    },
    {
      "cell_type": "code",
      "metadata": {
        "id": "aHIM_sVhlrDk",
        "colab_type": "code",
        "colab": {}
      },
      "source": [
        "perceptron = Perceptron()"
      ],
      "execution_count": 0,
      "outputs": []
    },
    {
      "cell_type": "code",
      "metadata": {
        "id": "ifT73qcvmIOS",
        "colab_type": "code",
        "outputId": "0a01c03e-f7f3-4b2c-874f-7204f8c1d98b",
        "colab": {
          "base_uri": "https://localhost:8080/",
          "height": 286
        }
      },
      "source": [
        "wt_matrix = perceptron.fit(X_train_multi[0], Y_train_multi[0], 100)[1]"
      ],
      "execution_count": 0,
      "outputs": [
        {
          "output_type": "stream",
          "text": [
            "0.9375\n"
          ],
          "name": "stdout"
        },
        {
          "output_type": "display_data",
          "data": {
            "image/png": "[encoded data removed]",
            "text/plain": [
              "<Figure size 432x288 with 1 Axes>"
            ]
          },
          "metadata": {
            "tags": []
          }
        }
      ]
    },
    {
      "cell_type": "code",
      "metadata": {
        "id": "apRB4F1hhigO",
        "colab_type": "code",
        "colab": {}
      },
      "source": [
        "%matplotlib inline\n",
        "from matplotlib import animation, rc\n",
        "from IPython.display import HTML"
      ],
      "execution_count": 0,
      "outputs": []
    },
    {
      "cell_type": "code",
      "metadata": {
        "id": "0uoH5e9KhlWx",
        "colab_type": "code",
        "outputId": "dddf111b-86e7-4bde-e415-dfa2fd03f4d6",
        "colab": {
          "base_uri": "https://localhost:8080/",
          "height": 269
        }
      },
      "source": [
        "fig, ax = plt.subplots()\n",
        "\n",
        "ax.set_xlim((0, wt_matrix.shape[1]))\n",
        "ax.set_ylim((-1000, 1000))\n",
        "\n",
        "line, = ax.plot([], [], lw=2)"
      ],
      "execution_count": 0,
      "outputs": [
        {
          "output_type": "display_data",
          "data": {
            "image/png": "[encoded data removed]",
            "text/plain": [
              "<Figure size 432x288 with 1 Axes>"
            ]
          },
          "metadata": {
            "tags": []
          }
        }
      ]
    },
    {
      "cell_type": "code",
      "metadata": {
        "id": "zV5rWLsJhqgp",
        "colab_type": "code",
        "colab": {}
      },
      "source": [
        "def animate(i):\n",
        "    x = list(range(wt_matrix.shape[1]))\n",
        "    y = wt_matrix[i, :]\n",
        "    line.set_data(x, y)\n",
        "    return (line,)"
      ],
      "execution_count": 0,
      "outputs": []
    },
    {
      "cell_type": "code",
      "metadata": {
        "id": "aklza4y-hupv",
        "colab_type": "code",
        "colab": {}
      },
      "source": [
        "anim = animation.FuncAnimation(fig, animate, frames=100, interval=200, blit=True)"
      ],
      "execution_count": 0,
      "outputs": []
    },
    {
      "cell_type": "code",
      "metadata": {
        "id": "eTyHKDTEh4pj",
        "colab_type": "code",
        "outputId": "94978c40-ab4f-4a07-c499-133b53f25246",
        "colab": {
          "base_uri": "https://localhost:8080/",
          "height": 309
        }
      },
      "source": [
        "HTML(anim.to_html5_video())"
      ],
      "execution_count": 0,
      "outputs": [
        {
          "output_type": "execute_result",
          "data": {
            "text/html": [
              "<video width=\"432\" height=\"288\" controls autoplay loop>\n",
              "  <source type=\"video/mp4\" src=\"data:video/mp4;base64,AAAAHGZ0eXBNNFYgAAACAGlzb21pc28yYXZjMQAAAAhmcmVlAAB8Em1kYXQAAAKtBgX//6ncRem9\n",
              "5tlIt5Ys2CDZI+7veDI2NCAtIGNvcmUgMTUyIHIyODU0IGU5YTU5MDMgLSBILjI2NC9NUEVHLTQg\n",
              "QVZDIGNvZGVjIC0gQ29weWxlZnQgMjAwMy0yMDE3IC0gaHR0cDovL3d3dy52aWRlb2xhbi5vcmcv\n",
              "eDI2NC5odG1sIC0gb3B0aW9uczogY2FiYWM9MSByZWY9MyBkZWJsb2NrPTE6MDowIGFuYWx5c2U9\n",
              "MHgzOjB4MTEzIG1lPWhleCBzdWJtZT03IHBzeT0xIHBzeV9yZD0xLjAwOjAuMDAgbWl4ZWRfcmVm\n",
              "PTEgbWVfcmFuZ2U9MTYgY2hyb21hX21lPTEgdHJlbGxpcz0xIDh4OGRjdD0xIGNxbT0wIGRlYWR6\n",
              "b25lPTIxLDExIGZhc3RfcHNraXA9MSBjaHJvbWFfcXBfb2Zmc2V0PS0yIHRocmVhZHM9MyBsb29r\n",
              "YWhlYWRfdGhyZWFkcz0xIHNsaWNlZF90aHJlYWRzPTAgbnI9MCBkZWNpbWF0ZT0xIGludGVybGFj\n",
              "ZWQ9MCBibHVyYXlfY29tcGF0PTAgY29uc3RyYWluZWRfaW50cmE9MCBiZnJhbWVzPTMgYl9weXJh\n",
              "bWlkPTIgYl9hZGFwdD0xIGJfYmlhcz0wIGRpcmVjdD0xIHdlaWdodGI9MSBvcGVuX2dvcD0wIHdl\n",
              "aWdodHA9MiBrZXlpbnQ9MjUwIGtleWludF9taW49NSBzY2VuZWN1dD00MCBpbnRyYV9yZWZyZXNo\n",
              "PTAgcmNfbG9va2FoZWFkPTQwIHJjPWNyZiBtYnRyZWU9MSBjcmY9MjMuMCBxY29tcD0wLjYwIHFw\n",
              "bWluPTAgcXBtYXg9NjkgcXBzdGVwPTQgaXBfcmF0aW89MS40MCBhcT0xOjEuMDAAgAAAI2VliIQA\n",
              "Ev/+963fgU3AQO1rulc4tMurlDQ9UfaUpni2SAAAAwADlGX8NcHagVEZp+gZ5GiXuxIXZoivu4Nw\n",
              "KpZ9kTjq9NcMLdBo2/NxOAUYzZaQEPwYIxI7CHlQGdM12xEHUk3L5H+oupi5gW+JwN46Tjm6uDo/\n",
              "bzVOPQDDQSIhWSNmsefdV3EfeuLh684Ib0JaJKWPGagAABT30dTKwdurr9FpRQVZBomarrorXmCt\n",
              "KaCnv0jHsGBI79BM1e8w/+6X+1kyKykttKBQgzs+rBokU2RZ7QTdHmifPVcWKhGoifdhQgVhG67D\n",
              "LxIsRiR2fuoXRgOcvqohzF0Znb+DNsE0I311c3RYvHKGtuQSKhyXaqsCMEFpHCc4Tqv09YIGZnWb\n",
              "pLX2WthUgWE2NapDCbWxnsnwkAojw/Ax1DjXolYMGL37gjjV0XFMFlnRE+GqrxFZhQNMRDDBQTPr\n",
              "dsGBoFPPqw+8Q00oJZ8/GlLwOQspcU2d/8HhalctSGBkUy4FvOX6gvB0HL//9///WuDEjT3YMjot\n",
              "N9+INdyTzmUqvAvDUf9VHn0ctaYv54fOie98EPCmcA9kcQZX3xh/6eIVB+k1+2n6up/zhOjfvmas\n",
              "xKds4+yJ15Pb+mgZBzEz90EmcZOb/fa8hixXLXcmRYZC7wK5dp94VNFnswATpIpl16hpHTUX6oJ/\n",
              "fEI0LIX2x9CcycD3O4MnkNAFm1+Fu6Gw974ZMIGtj6FpNhp85JyFdAInHu37s2FmV64lN+uj4CsL\n",
              "nYNBLoyA2NyTZapqTICC06yPtGsLDhe9PF7oQD/Xxd90e6F7gjXNskgcgUD3Fp7GCmq7nMmx1rVs\n",
              "/PGcStZy+/+A3U1Fy4KlB/Cusj/9BoqtvrtYkR2Uk1UljHzq52F3sTQXcRZ9bRI6RNN/FLvwesD/\n",
              "BMjrwijkp/jOn2nhr01CSxDjRh5I4i+yXh4gTAnJK0stQnIX8TcetfeKeCZcB/QAZ5A5bL+yAqLa\n",
              "C9ZTqtp4eJfhz/6K1g00dFMTU2/j6gIz5S9QIyrQTtj5nbcbANUwHyqhWfQPyKVcP8dIv1opFTRn\n",
              "UyoO3UiGuw2PX/ihFXVdxrbHHiQjxT3QuJtKh0KVtnUp3nQ2Lv+d/pbDRpCdaLRx7Z1ysmGo+PFX\n",
              "Iqaok52qUm7IccwfY+YB/0H0YuAUAie4rjVipBL0L3Y1brAhToFhzSxTg7eAydve3m2GBU3Uee+8\n",
              "IXlIP9MeyObZOMJkQ4PYjtRoi9M+eZqMQLfSOrD8RoTrhuNJVAwcIPPR09cdPnKqZaJTMZDlZWiz\n",
              "mUcjkrCF3FgzSrGJ4/rQR/ghaqr8w2ec3cOz7ItClNJZnSppo3wr8/hkVAvWiC6d5kCMBDWl4OKG\n",
              "c4kkk/KluBalS6r59XC6u/KOjfEdlpDJvBWeX+F/B7Dghy/6V3pyxbLv7BjYsBuGdQ2or+RPezDy\n",
              "flZEfXiyFwMzzbaOvDWgxTX7h3z8CypY5JZ5pqyRk4TbQLhb9hhXSoa255X/2VjHr77YK1TgCIoD\n",
              "egu8KdylyFW4d1bNqjeI6Q8lwODbV7qc4O2j0mYF1csuCAxf4r9GbvWaXTbx2csAYTdiwxmSASl5\n",
              "JlEGn2RTn9xkaRTsjIb8EwYKA2wiXB0xo/jzdA7Qth/pXK2m1JKm9WMPfV1ZJDNFzXUl+98jpknm\n",
              "Odvu9RjEz1riXAOo7nDHWVkYMvH1+Jj6W634Lltju1GkQzUn5JReRWAoWVAgKjSv1kdWfeY/+o9P\n",
              "wwU4O+2VKr39Ns9Lkj6zVbqsQMQryurTwUB2q395X+kLBsNp50yu82DHH+2EDGxwrzD0OHKZLAXA\n",
              "esb2hL1ZPSUBfDfUZPWt/LQO3HEK4VKnA0qj3oA6dvxa497sCIrmXrv2dnZXjgmDB8ckhIszejRv\n",
              "YQuUuw5ZTFBvWrsrTp8VMQ21BZ3muQyHtbrrNo6dA6oi7yWsAJeUWixCeMSHM7jnkSQTAJ8v0vEJ\n",
              "vkl0hgaVjW+ToMfLEy1wcaylPxqPjIG7ZcIeUOpT6WC3rV95H2lh6UNUiGcjhz+6reHtJLvz+ui8\n",
              "ESP930kWhTYX9fC5PIu+3QBW8JbZKWmBak7jcJzsskemkPn5jTrs5VOUCSQU0CtQdn5yDCzFEwUq\n",
              "rgdt8r82KyCTGMQhtjsl2vra9IGjRBP9OX38UAyTglqv4wxXOQPvufb8MbCOd3KJLb1OBDwrNUzx\n",
              "K4ZG0liBsY4sYE/J4F40hWU557JqFzBhRfnbkifW1yJQmoQabUHAUpUpxQd/M+PixQggstUgbhES\n",
              "ToLkpXBxW39+bqIvu/0YamNv/rtbcRzSg0+QekyZwF8ev9/jnsnOSV3nEAMb0zYOmNt03Or9Kq5C\n",
              "GVPMN/BH6qeUSXTldgufAqMcsfb8FdddEZ1BqOHLimVWkxXItbc9dTVp8ongutIjJYR4Azf4Svpa\n",
              "8tmM2PPVTwV92/IrJB3w7sbeK4DCriK7cjRvE1C3rpZBGv+RF2zyueJUJ2FsNoR0tQhIWg4yCT9g\n",
              "9xcYn8JRY7kI3nicFtKF0Lfa+rweKXx6Bf+9WNIGM2kggDzSkiGU6uRg6nBFfsLpBoE/HxUs88kI\n",
              "cx1lvbc46A2+SS9EFA35Q66LPgZ9Z5VCplaSfyQYj+C3yx3OV3zJ9pDsDbNW893bixjYPsG2Ld4H\n",
              "I/7py296iFStqJQTozRd88PHaaF1AFowdYknAz3JEftSRh99M2njkznsk4WZp86W5zjxczWdpvKh\n",
              "UU+JNwesCzpM6ydM1wNX9nAd1glcrV/iUrGzTsdVM99hvYbs6tUL4cWjUX7SWgrK5+GC8rVFTXjI\n",
              "HU5gcJbf0/8X0GJZat8DbpGy8H/37JyR7rHhfDxfS7YJDFRI+/wlZTgnTKbUPU9IJUFo1te/wkj6\n",
              "S7ooBPPKg8HRNeF2X2Gg0CDjfir4ixyOo92w3XdvgZf14oaMmDqSoUk1CwV8DeZZvUAAdjIHd2qJ\n",
              "AIT6+sW9BiU6g+uSixxX8qrkO3t/CA9Pg81BFwHyedVUh+Ruqno3nrfYho55byiAnNC+KrUPC8Vk\n",
              "RueWEJnAOb4Vq4U7UOHjICP86zGAgYjwYhQI/yIbx5WKdgzk7VFpSVU444ANyYROSVtoy0ShOu6h\n",
              "PK3JvU9qrRGpeG2dmfyjfws7eK3UsbgtRBhv5AF7T94ehGtzd/dHtOUSSNuiXtLcUX+mPt2Zp6de\n",
              "t4b7zys+iMSZd2EH+TJ4+g5vbse0U0kvr9yr3m4iovYn81Q9uoBYx1niD46xdv2gobcdHaMFvgBt\n",
              "GYGNMPOWZBgKxYZHDNSPwzKu8gsgx2+CUKura4RkDqNgKxnoBig3rCRHB9osjUbnANDJEIl7cLPh\n",
              "aHvaBdFxeVN+0l72t7vSlftvUGwr3DN4EM220UVOdlDgIhEQlNFLUjTs34VI+oAUHY/PWvHmCnEl\n",
              "x+f/XsNR5BegiIkYG6TqBi3G3LEKVaDW0tGLeQsBBeAz4NogKb1KtxEth5ImcsJQnztnkf2iMf8T\n",
              "4rxXUdYhl165STJUpv1UqlAIwRtXAZl2+On0zv9HfGONWWBg/Xy0Y3z2W6QgLUhWQwZV28RVtTNc\n",
              "f0Eg7MxM5frst0oTOGRBJL+y5WrBqEWImqLO9GrIj8UXh3c87j6Y13bDN7n1fuVDPnhV9ljP3/gq\n",
              "96LPQ3ZkOYj1uDs5Nc/vep0z/NWKbfMJ0r3hBZxsU2exqbocTZDb6I3fdWXrCUHDF9QCGESKiehO\n",
              "v+JySvs36sLts7wDvV8aW7eqScyKgXpeyqxWXy5SCWV0Fat3xw64kkJKJltAFAp8pMgv65cDwQGi\n",
              "iaCL4lcH6vA2eY+2bs5ltVpesn4SNKrqACJvPkmEOijteZwgrby9AWwfBh4nOBZFbiGBzIffT+Fl\n",
              "P/MG5nfo4BjmHR7KD9t3H0xM1PynEAKD+MhpsfrjSJqXkGwDDIuym9RA31dhQ9QZJXOzTsV8ZuG+\n",
              "64EtttIXVRGUxr9UqKxxwu/7+fA0C49sNz0juPIFJGSMxYLFA/Z5J/XG0Ag9I816SRnX8DqPLepL\n",
              "C4pNTtlSe3g+MUZ6AmLBVCyoZ0tL0yp6NeHzF4XUht9aKXFXTXri1KB+APFKZeLOx5u0D0x70zAa\n",
              "QMdOMKy1K3bwlrKTdgdGcjEeZcR8muIb/iqhiqT7FM9C8iJvR2zrDoR3zO64er6rzMAbs3gJcoNm\n",
              "iAY2SUskE6dFSUmfpuN1hsQPvCP0Id+bTymsYI2uzSWmWT75mZCwSpSe2SeMc2gSHXywMCHjNTWT\n",
              "mRcsa1wcTWsIwTW0QDWVmec4dOXZdKwXHv3XptwiWdNgzV2GtQRvxTgoshtDjyhuAPKyZsczdKSh\n",
              "zqOeBB8bDZAYFIhZ0zS3gXMicXds/6Sc1lXeOC7TEDzU9I/X9I70zfandXvNqXi1oCQbWDhG2PEo\n",
              "lRLS04STwwYNZLLwd9TLoIIbXCHHJywu4Up//jiwRbvnRX881THoFoJDTKqEawA5HO4rYc2c9R8H\n",
              "rF/fl2o1Nn+R804NtQR032+z80E+3SsmTqdJtqvfQZv5ogBM7A8r6vxX2fuYc93u88qJm6icFPQO\n",
              "vngXAtW1N4utLMCXNTpt9cHlfv48E46S1QZFoFqeALvYlhe1T+k3+P1BhBCSEBqdN2IY2LkX2PEB\n",
              "9avasBVeIDPhyTVYaOKeCTgCRY0n4HyA8QtzCAP6rURSxQNhScv/Kd2p6hWVnS/IuxfBd547zYPH\n",
              "TG/ISem/ydXHUN5fRTBG9blJ6re/RNDZUdsc08q4ECdktQdIyBbnplyGltbHrv6A5lE6Sg8rIw5e\n",
              "3X9UN7Zjv2TpT1mL17Q/u9PjmsqQCVNapKCh9ouxM4u81At6XHnL54A6aXKFzFtrY4Vq71ygd/gT\n",
              "f7BADUjjjJNUPP9bkKIgJ9Jin5Mb2wD8IZ65qOnCCtj4Piwk7oQdsvEdfsiVRdijYoxJCF5unKXu\n",
              "9bz+yQ8l3YRmVOIn3uLdel9EVFuAQxeh6YXLEMI1zY8PNP76rgWnNkFZljdi3NWsGxhZDnT3IfSC\n",
              "ZBQfm7xES5g3BMPn4TLSdJDAE1N7HPhCGN6MOMKRKbQ/7cDOOKpOHjG+AGwsE761ADEs+QAk+Z1o\n",
              "KpNHReEcLKK/uI6Ma6Eqbs3BfQ2qxX30OE11wl3tX2zBxW0sWUDEPIjtGINDsHHkgBORcUQ4QxCo\n",
              "1EwsG8Qz1XGLZOSHcrLFR80FOIwnVsCXQgadlbbAamZmka3tR+w7KXF1JPxnJFHtPxGifczuR9vX\n",
              "ZTTVfR7T26IQUv2J0SF/UaFD4H6Y9EXVkpzNSbLsOrnM/DSbgor2usv9oE1vP+o8WnacRIPWhKPv\n",
              "/+3Da6jutL3xVkP4fh0jSjJ/Vru2tRh8MdJX5rBVYVdlPNHfC4IunsfExqrdoxJ2dr76mZG1UYI8\n",
              "WHxussr0vTCoWnap/K7pisyVaKmgbn8mkUbzknDeeW9EG2bfVR71YD1oHYH5VL3i6ELu8SqzH8ZT\n",
              "DeJizZukZAHVaqBOTQiyfFyKroYgb9r8FIxCKB77r+r4aiLGgT5WJrsICWHZTaMBzfcQuUCpDI3F\n",
              "NwoSaR1i9JJ5O3eZDiNE5aHky2kCYBpQC5feuUlQyfy0BExfwgBITShLGICg8C3YFKfHTnevZyPX\n",
              "auR8yR2XeDj+N5EjUEqDzf0ygtQy2t3cjoyrXly23Acjg398thQIbRHpy14bPQrQfdnAtXH++IsP\n",
              "yieQPPU05Y7DPA+kvKd+4bTh34+/swcVdPfNYUdmz4X8vEZvV5FyJNZyhH32QMwIVxzTNtRmLQVF\n",
              "70ZGpu+urbxIJeMC0Exq9qc+QfYAv9Hj//fW+8PRePjzRaTkz1X1vNzA6JQoboqEz/vtuCjDOHtz\n",
              "Xh+KNNj2Il9oYqRmMzJFNPC6yMRDcEe8Ncovij/PtXgPxHVhMgKBgAdxSeOIpKPMLHJ1oVJRs91O\n",
              "nGcUCOcXpRmvKcxeh94yRc8jjvxHaltPkhYKcpg84rVIXPRxnfLV9kjiZ/TBihpz/ixkHDFgLrzc\n",
              "V73aHjQIsO+IMHsBrRBZI87F75PM7VSBlA3Rm99Ti5r0WxiZQsh5gcUJWp+QGyRSkiAXOtf7HJq+\n",
              "M+2R0piNEEuIRtiQGH88kdNWmXeGQ7KF02cfiW/CCkl46B7WkReqid1n3zUqoSW4dfRRoDRDb0lf\n",
              "r/lGxF2veqL7WoE3RcQPV6LcHIS1TpDimmXSS98hdZxlyjoaoCEaCnNFwFQJDU0QlTt5dHBM7xFB\n",
              "0BKBQDkrIXWPL63/sEJ4sIzEhPizLRM8XlfMyfV5DUIyeyYYupNFrHFWiwwShmuPyyR1+u9YWHH/\n",
              "s38g4wfPE2nKZqi1QsjdHa9+j3wQo1sdF/Wp50yUJWS1dl/fwW1AlO5PdkhXvDa6wgGaZdRjiEKv\n",
              "rOgxifkwqNonxmJttSohtYys/EM3m/m+SSw/12Xht8yPXZ1ZPVjsE+WgwdEKii3aVEDQ7Up7dcEa\n",
              "oHkivjQV5lyoObLST4O/g598VsdS/+3ddqIdf+OvSpw6jKaX26IW+Qi+XFEzCracPwaWs1yjM2iu\n",
              "0kZzQlXXQea4uq8Tcp9E++EK6KGDkxXj7Iiono+ukTs9ndfcA6ByqPlLuT0VLvjI5rmdUQ9Nhu0p\n",
              "WywZqN6LJ/DLFL1vx6aOCZPV9EHV26jL19+6FH+N/4mJorVQbsW/OJJQjSzC9zleUu7q+aZAdp11\n",
              "QwjfgW5jpk0TX0baRElfGANnRsINQDozA03wIX6/aaAuojk02Rpi1fB2kxKiEL+lmAYHSL8kxGxF\n",
              "9tTrdZVyuM+iuFgmAsJg32oF1R2u2LlmhTDi7TwH7p4pcIE5Wf7hwFhGJTACPsDAE0NdKmnmhx6s\n",
              "LZA2p3IwzLcQz+cb+gssYfRKLkgRfBMLNkRHrpryat4fvBRKWe6wESHt4Js5kle5x1q6W14BlxSy\n",
              "2qerz3f/JhK3e16N/Yx5lOFFa6TrdzzfRMUIaZXWVjWYUZGMvAN39QFb/eaZ8ReNpL2G98qtTMYm\n",
              "qD810HCUQqTJiLLEE/NYjPCu1+0yzRkws/LntLxLdhwFzCqpGKOWLJ1/ewJL6YvlBPeM6D3yV3HR\n",
              "VqbYzefPdGOg/0E7QylGPDfJSAv+lNm6bURsU8gxndm6s3qBNFoZif72JArit4oqI+LyOcpiI6rG\n",
              "cgyp/+EVcAUIzIoYiT4eU79GSMwSFVTrqsZFXACF8kIVRLtTFp2gV4ixRAf11oc6Rk/LJ6DOAsbY\n",
              "JBiJr5bPD65iNWv1bdTVM4AAAPXe1E5ThqnJ2yq6+fo5CYKJ+U+jCSvFdc1tFKRiLJsuBiahHMhG\n",
              "h9LO4dh2ny33R63OjxAee9DcXh/rqGqCDl2NylVGiKzH5V4OnkjkgtIGMiUg1L1w+Aovnqn2oBEj\n",
              "q7ETLC899tDvBfxseaabQ3bwUbCJjI9rEo1//Ix95Sz2z9PFcIuNYUnjsrbSbYFZJeWlCn9g4h6T\n",
              "9B7Qto0sEO4vCLFlN/FekG1rgLwL1AKazg+So0HNGj86o6E3fh1808bln+Iq0lKPqa5B/O6CXsQN\n",
              "Fap9e4B8Qzm35s+5wzDB0uQYrA1dw4jueK+zaZgBmewzKICHVAH7h4HKhaL8Fx5H2pNRPgm50dQs\n",
              "RGjnJYmmIoz0sHewAtfZLhV9zDKdG6tIlauPbJvJK/hHTqP+08o9O9uYqsL0q5ybCeu7fixwsJ6T\n",
              "PdpbdUoyExRSyoeQLvrGGIPVsb22QV+p/7LGILmzuwqRRwBICEzUuz0SuQD9nc/t0zCwiYFyk8an\n",
              "k7PZpvkaPcnQkhu9nDFNtTshduAAluQ+89zDnDvscQsmTjgUVS+5wDDFSZBty2uiOZbjOVQjDvp1\n",
              "l+T0YF6ubGITilz++Eb+mqJzD6orqiEdz9xrXKMKfnp2Zu2hlmxkWZyzMXqBW9fS2dDrLNRqiElc\n",
              "eWiYjUOYdwXi/wunPPiGA/30eZsZ+ey9jxJZH6JUxVLbJ0bE+W8cpHHhupCBYgco0BGV7LdLCH6B\n",
              "CMEcwHoTwccqt/T3C+Qw+uut2H9Qjgc2ysVCDRlKtS0kwITXp/Ym07nTsUQoW1ZcGvjYLaOw9hnn\n",
              "kzzn03IlFdfDmmaSqrL2yaNAomNuD3biIylZrMDMJ4rmT/h2k8ymLtzIiiQgIqp/ChUrkSrQZ3sv\n",
              "vu65JTQB8YHVbMW18DYAi8/fV/J3mLWK3c6fGR5T1FqY8UMchAiBJaum/qC0kVBB5REDmqL72bcR\n",
              "rGQPdZYNWbZNGvL8coTJe1cOlkpAjEY2/+IB0yV5n8AoIuYsL2/bf3LWi/RzB4n/HY4WiSWgxEDc\n",
              "lp7xBKVH7MBttYC2pakxYdcA2jnfUm/xJU0BcBzHWMg9ThUbhDVafib/+/GuLob2HAn8VKsgqMXB\n",
              "pGURVq65/aN4QoCQif/J+GV+64IAak3H108uRdRBi09Pm/QNyJn0ybagyYSfsojO8nwszA80Jwu8\n",
              "CR8Qi8BAeNgOo9dxd+t1cgp9kZLOgk4LWuuAkhFiisoNKbjX7W2EVedtr6RBN+f37KBlAu5kDoWa\n",
              "E0DJlTFEo2PdgqutGb4mQX8BGOUpWnrojQpH9/MYlNMvknCk+zVke6GPjR+fKswB6KTG+jDhcd+p\n",
              "gf/66pt+fyZHZir6trPVEnE+BM7m3pJHtskVvlTcWQab1/H4jzXlqFN8PLBDXP7xpw9DihcObmm2\n",
              "pOTNp+2cWM2k4xJTnZOqTWk83q/rjsrnBawGQfeJs8MHujxU9jf/aVC7QZTCtaX1GrgCTO2RWhAm\n",
              "MT6sHMLu4jRXpe66mj/L0Aw1z3rySjBQ0x1wLO0JHi9lBCbw1YN2aL9hS0+ASctBPQRxIAVenILh\n",
              "9/LNx3e45MRIiUBp6+Xnj2dOZ6fzLnWSuc0LPy5TBJ/lNCZHwqpjgeAAtYMgqaA8QxgFyGXQMOUe\n",
              "SSMMmh1xLEUu71UiymrV+dfAzEQTJEOoLTwx5+g3bSbOYW/6rFpEIATOXQXH/TTQkATANbqXlwYn\n",
              "ONnZeADp1BA8PGEOJPgmMNDqWmspS/Nvz5NQOH7qFWy/CeK/LPOgj/9u9+Lc09dnVKHNXlJZcHMv\n",
              "cnIZfMfp5CVWEJPNSLwfDQ33nncWZtZNB28rjzmUwcQbxhYb5Rrl6cj4dGVs41kEijrVqHZNeX+w\n",
              "qeRAuaAr2yQPbn+XvafsVd0tGItiNOuk+70egov5a+p9WXkxXLnLsc2I5yawRYzcFBUPfPLl2qwh\n",
              "mdloY9OYiB/5klVh1KihskCTnljdgy3RUxf4VmVPaO8dX9HJ+TxfXVmI0r3RBpprDkOoric2znNM\n",
              "oCOARdWlljPOrcBR/zeVVigk472ONhYdb1O9MKEApkpopXXLBwuJUxgDTyQ5LPn61PdZC1oJVouG\n",
              "aeLHj6crA/ZL+sq7+oW8YuSQnmaghu01tiHq2+pEC44pvFgASO/Po1UzWzGzdAASykHV2hgABZ7I\n",
              "J5xoEdGjRHOZeWejUo0e8VoDWXX9GtqAE0uX6mW0igcqxobk99b7MLTV7KrL1AWNvLKNQqRFSBMg\n",
              "/2O269T6aBbLE1oEoJhx2sh9S2yKnbwDyGFFhRf/VLdWl6GHlHS9Q30H2k2JeoI/VwUOE2HcF1i/\n",
              "mwpAH1WDEHK4YSE8k77avTjXcHrmhHWuvobCu58yRcfVgdvH4rGGyQlvbpCssh0711in5h1VJ1Px\n",
              "kA24lLkHg7BX2Nagva6ND9ZKsXgtkdXT3zRDE2QxSucPh1vicl3ewbtHnDneOttzGNsgMQcM0Jl5\n",
              "v9htx5KETdjuf7gMJX5MvjydMO5rdl51tP3MqPutniiqO9SUPxK48tHU8v2Q9pW/j81ax+5VlIAM\n",
              "1YNM73e1mfrDncb0D++qx5fq1jUf71raXnseuGfKGYwEMwIjYSg9VAXSfLjTe6aYTk7/OvRlWVQG\n",
              "U8rv829Wpceo/Xu+meVBu7e26Uv9RipqW/s5AAaiYgp6dvh+Xf84dC979dkZ/EYCLFfeH3ReZy/H\n",
              "VkP4W0U15c1b1KtkwvNDAVSxsCZ9p9Clkr8gPy99+cC1GckN32/mZkpROHj0AgYuHM4EfGY6+MyY\n",
              "sVCfZIG1RQcBM+KIX/nhX7QAmwn4qhOF1NyUUW0xcnC6vuNTizTRHBMFFtat/a8/qBBUS3tx1mKy\n",
              "uP+gaQvSoLz73ITT+zUad2i+y+4lllnrFq9Q7EZ3UwsPropjYGyFk27QWHi2alDY3juoLCoBR6NK\n",
              "uXWax0SbH3NLIfwCStdgDkoGWHriFP1Q7qTHNBIi26bA0ckdHpX9umKNSspL8EAACLz5yaSCS1Xl\n",
              "rqeDldeYFEV4skWnT2pSjcnZL63wFHJ0kdS4t0kKbwZ5jhRSGfZveTxicU5W5hWtHS0Ua+wS7Rwz\n",
              "/c7wS4askiD7bfhngQAAeUt8OLkZNfepZdfgQBO/JLJa2R6NVk0xkeM3ejwCGasJqlsTubVjGFrU\n",
              "Bh23bceWIwTfXYxf1kQJawrbKwF99bxTXxmHU9jMbH2m9scWs/9g7YkccPF3VF0QCDQaAtoLLEv2\n",
              "GaEq0UGsut1qa/EC57Dz2+7r/lFLmeuMu+crUu/Ajp89+4nlrE+MdNpevg3pcem3XNK0nD/aNTS5\n",
              "bbySTnw01uVLVMCAGNQ2aPp9CB1fNC9mJMHFDTNu9/4Ti2lnkTJAb5KNVbDh1h//8dKI68VwAvm6\n",
              "z8qbMfaRGk/gFlGBputras++1uvMlzlmftyeobIgZvjsJQQ4shipgbkBjJRXYTO+NCxACfwRDEjb\n",
              "VO7pFuNXxzO0Jel15L+lRPgg039v3l9a1OhpHgppPp8MOWm7RmMb35I03dWdV2RT6FNVc5kvl0SZ\n",
              "9gdD6YphO+0feG99vyFhrOqYma6sGXqMjhrxSKCMY57/9gJUb7sa2HBbC6FounFVIPxS9Bm68x7Y\n",
              "K87Yb5zaqh6d+Bc8tknJZLiaXiHl/h/pHbsjQGn947Mv0Q+V23xjkGPRtP9gclbZeDn+CZepUjfG\n",
              "OQY9G1CsjeWnUlbfb40Y89E/jeAizbsHuStpW0WO35zQW9RcdjUqcslByGorEt919B+XzoqXMHAU\n",
              "Gbo3kx7LVOk4hFpEKUmqXek6ux+whuIEdKf8CJuwv4cbOA0/C3VGAl1xPBUx+a0DDenHP4gy3OK0\n",
              "6IevAAxz/ONPkBVIDBKCKU3Y94mpVy1rVZpLv93JTePE2IhhJLFyg5wbiEofxTya1//6P6cNYPli\n",
              "6LVX59LONUMYH+RBtj3fXYX/nCL6C7FNofzhHTXNbP2xWFFxalYF1oVyHmhcyLzLgGi4z/WxvLJ7\n",
              "YAj1q/tY3MVNB11P8OdaPHIiTX1DAv+nlOOXPWGda1aPivxv2V1TbGGnI6dy8c4yTfRFgHDPDlBh\n",
              "Fy3re027eXIbcQi+V+JUsQtNOh40E+erEDXXOgytvO08q+EWaR/zDYAfLovtOJN1D2Ll4/IwX9zh\n",
              "qBJRh/AM6loulJXCCNEz8Z4mvX5TDyitjbFtpir3yaJYTblyVQ+UAoef1Ciznh/WrfIqcV4fwnQd\n",
              "gVe0fFcgTrkFxxj8HSqNiCGKpY89WcHDlFyiEk0F5a+4HmWo1BC+VRCKz39czH4Aig/6V75bH9Ot\n",
              "ycfPWiFiep4BbxXyOe431Lgc/V5wPrkVTR2JyGQqS8qjtHhqODG7iwsu2O8h02bUVIXbNoJxnErv\n",
              "c11d94l/ZZZ5MahFLZWw9xrNMGDzYX9JRyzCC6R4FqCFZNFibFrnZ2B/d69tLmoBoyLCsPAJfeLg\n",
              "IXOQn/3fRyrA6XbyF3llRsGoZ2h17EhK3NWAyQ7ueoV5HZ3v8Hb3nmbL7CrVB8ycivBORFxE8OPk\n",
              "l1fJ7gLKFSRXIN6tmUdYq0LEcLsOrLUxm5IUhgrsuaq1wDqqpjzcu5nA0ioO6w5IjS9IgR+rGlvr\n",
              "/IL59NduHoVMy/E0+DrMvS7bw7XOaBimT7mDh//RtJBi8NROIxKjPOdnWg40npXeGQPSaFt9VoNo\n",
              "O/atWFyxXGEkInaLxSok5O857SY7y6KUcOIn1FFgHmFqp7/u3iIZufeoTTgDvYTFGU/NYyUne9XC\n",
              "ijop6PDuJj+qZvp4Uk8g0oj4kR9SGsIyF0NmQe4h9aVkpR526pUUki/iAADpEztBdAMPAAAEQUGa\n",
              "IWxBL/61KoAijRhlAJt7jH3yDzBv0g5usCxg341gEDna/wkvc/g2KebLw61moqvWsyTAKz4UL5Sx\n",
              "h7ceyVl2wUjGOokg1F73g+jSM8z3D37j5mxgEKL43ZixQROjn7BhQoHD+w/uGuDD4+Vc5WPObTUg\n",
              "F4wVUe3R+TfPh83MVyC+h3FEDfVFrRza2Q7WIwNO8sSpFrazvBHUyT0z+7eo3EXTV+kQ3CZUm8vX\n",
              "2M84G6/lQSuuf956EHziFvS8qt8d0YvO7aAkkcHZqv+ApiYEu+pM+8j4B5D9U2d4UrBopV9Fup/u\n",
              "LH0GmZg6SUcsyWFONWzVMXxQqhGlbcNRlGipN1VGJ8dB0rhYt5A6ZUIpWJU++jpAoU4ezCaP5G6w\n",
              "60oQe0IjgrZoQ3EfSXlMCodoErL2YNVF9BrzngHbBImYjaNJC2KXECDpz0SdylTxLbF+t/k7B7U2\n",
              "+OXMQ76lR2zOkuKclS4oeAoTmIa7ubxjyAcI7j23rofWueo5H6wFN0p3NqN7d2zefYT9JwBtXV+2\n",
              "rZi6SZK9MphhhqLtstsofKv3UREH/dgC3Dt225NcFhUoEmSH3pPfevAX/9NHxMCxIMaikxoee4BI\n",
              "Y+g3mTT4vfXMzH77ZgKqQeKVszSVZQT8KZPzdpsJDDpoFcZLYtI3aPcg9gfC+NBOL1AiYAADrAqx\n",
              "JVaB3a8X0AhFzdj/rLL1Utx+WRYTr5heBGr9tktH1qqizyU0LzSViohis94kyfY8fley1BdumR4L\n",
              "PGK6AQw9qjrZigBoLWAMy7Cx1/PWl71RKFUrq5Bhlq/1LQUwpReAzjD1oLLQi9g0Ruy48WKNN0a/\n",
              "c8N4FwBk0jXv6ePhZ1cT80ZpVh55s22e9kzvG6TaRSrNzlyPWuPkrX92twuFrInQf1EE4/N8SZG7\n",
              "oBsqlZQkLngiB3Q4YwjBR6xAHPlkeCkI7OmQiQBOKdcB3VZXgvSVQ0v/4+1vhWV9RBwmG03AkDM6\n",
              "VvFje7xdgq3X+zJYWxuWfr6RQuP844EUKQWNOhfjs6ign9plM2OMqt9epjJ/tCPTgnR+qzOMYK6k\n",
              "dIfLNG3NYaOuoBefy9fcOxFxVqD2lGgzQUE6AZZ/FF13tReeqVUrnNqS0gwuwLFI9Div0bm0/39a\n",
              "+fmta1K7U+VXYAJIjR1pJ3yktozOl2KAE3aVhFZQP0VxgjcDXQ7MYMUrBa5xHK3jbdBIXpjoeZ9w\n",
              "a2jveS25mk04W7jNYa4tFfb8LVcDHbdtX7+HBELDR7/VXHNOEJlx02cApvvDYlZP8PPQQaRRXz0m\n",
              "7eQXl9LUfQlsaFCFxImn6cyoKH3c2Ef5Y0MMtV2c+Xzx8PTHpmZqSUoyxRzpbCi9vziUdDWoj2jW\n",
              "y1cAU2LvX4K6N7OEbsyKiJgBggdoMNMTa9SKUzRAkwwogEF+aHkwelVtWT9lOPDkuOkKIL8jsQGq\n",
              "w7yIuAAAAytBmkI8IZMphBL//rUqgBbIIduAVdd7ZmIEVXtna0r4dxvsJm6rRPK5Y4y4CYWTf5h1\n",
              "dfPtQT9bij3gYMvTflHljsdIFbY6JQBWxnu9N9iE7woZHTIXyc+J6LL/tPFCXbdNaAnUkj56+2Y9\n",
              "ilJVQ4g69jGghJV7ZRwgLGvfNfEJYwUCQRJvQqZL+JhgdTMr1GYAaMqkk13sCozbavgfzGaxIQA6\n",
              "qLBCuBtQUYNrf7oexXn0/XDPxFML/1LHuEiWAilTnjmBVQ4ifRSrz+z2TeHeWZLTb7NLAaSCAp8B\n",
              "aPA12Wsk5RYnaIuSMskDoWm6RJiG7cgvU3NTGT7LLaOtKtytxPqGZIqUJDiMt/fBBJ2OpEbcYzAB\n",
              "PKniBlslZy6Mr452lErDULCM62WtnxCqzmmohi2IGZ/w5PHztpQccAo1s+OQk3dxH4yQGnKmh0uE\n",
              "Rf93KjlCYxTOfuv6+rIbrnXvK+pm2kVk2eXY9bVKCBhy8+egAkC281fwHxZdh8xboCalt2rVwD48\n",
              "/MDbzl4GLgp2Z9xenBp2kSUbsOyRTapPlvyQ7LnZfjMUJmJLzKH/O1qsQv2pjank4Mw+m+VmNXBB\n",
              "MDoE6v0ZENzqtn9OKwJ9sg86SetGqzk/YGn7r1GV+s7ZJeCaBjBXs0H01r47wjv6twDq8L1NCXLA\n",
              "oRd7f8UYYjA+qqBRVd2p4fXTNmTdq/RqT3qp8ueC5vyhhMshycpF+HeEuZe0Wc8GilqKNP6fYo12\n",
              "iLEAI4f+B1q8weNMwECxG6tbJZlPVKSvEVzzXZ/DRpfzxNyNLBeQsBozbYxp1nrU2dQWXQ2L2h1O\n",
              "172mvT9yxlHQvFimsG7lepg1I+9/aLy0mUFqN+kClpK1dor/61r2AYvJi5TIt0YBhQYrGmseP/BW\n",
              "DIFFjlgwbZpLV3kWO4EPwjqCEI/2X//W7EcF393mK+LY5jFBK3WU8jkq6PMthSVHQSFoQaLtmaBr\n",
              "Jom7XY1M9PxrLMirq+v7dbqbIHm00QiztyJzK5/6Nv7QaRo7X00QCtWNbN8ltPPw4+G6zWGF8SWN\n",
              "NR4G6Smt3+1GNEw0ZS2HmfO1ukXBAAADhkGaY0nhDyZTAgl//rUqgAu5szDIANT8LwhE//XAFkRD\n",
              "lba8NxN0AhGr3SNsoSHkf0QfkyfrD6WmyatQ3v+26+w5EZg8MTuy7C5sJWnkjGfIHzCZz6ZhC9pO\n",
              "s15Ec4+qQEyNVLv7kHQuhR8LKNPTU5XD4jxWDWCFxKS17JjEMNn7WG2jkVFXcBCaBF44HFHBawf0\n",
              "4qwp3ysJP0KHhXLVcCzhGprVXFZctg7aoNbgOr9zDYN7EyOOtjlnvekd2QgLmephTvaVhGEv+S1M\n",
              "7YRRNlerDzNcRBGo0epPNpD8Hr4idvmOQihYAFB89CZG9CZOY7OdxYYTq8w9SxxVeg7u2KNP8fZX\n",
              "pInC7LHXpZ4p0EqAz5/g40GUxFFbNTj+B+cVi7M0rCRMp65YTfqrMOeOzBtgvemwk6X63WYG36a+\n",
              "U4nKVwwrytEiiguOpJ3GgeV5dzzOicEDnOhayCqQALyEBjRLhpo06Wt7K7kF+eIuEYhNlwTdTTLk\n",
              "KzVCGS40RMi2xKbFFv/LV+ITPAL4B3e41EW3JaV60mVJYV9Jmd/hw95PXXO25YEWlbJdpH9W0MFI\n",
              "qMALd8DObAMYLtt2HRoGs8CkP0UTggF9pt4TzBC/ygNZ54wHr+MfrXaJLnFLuX/MhtMNoeozhhPR\n",
              "+NwPt5zRsKwFVPdlVGhHPTcSkIiNm/TjGA8PTrCp0+PFPMybm9f3QJVKViMwkqUbLpdmiEMkhSFj\n",
              "qqgg+9zrr78n9ZU2BDzebRznM33hnNvBnyvW2TbgEjikwMfw+DMX+nQXknrXfd59Xq2Kufy9PkY7\n",
              "TZIUcndwTu6mG4kHNvrR9jXABDgsnfhNnrq2j3O4PDCw5TWCxGaGycp0X4Qlrxq9QcBeMVEv3LEr\n",
              "ozf5iTsOpyhTRv61KOdg3uL+lKXF0t5kD03iXtKJOwb6PpNeogFUd0nRUzKfydw09n0JWJ/WePKx\n",
              "5L+W+MRIqRcHAHPdZBZv14o/uodJVwUD8M2TIUUhSsW2Z3ADpz5XJYwqqURbOGQIoeRqsfFSB8ho\n",
              "qPicmhxI1OEm+epKVQ7/E9ZPXAohCt/wACrFy7WMtNMFA5W4QKtmq9nPcGPudAtvMYftOIYKgISB\n",
              "fC06elYkh18JAMJ8sbnwgrEDjf7gPa116FgH0Mp0PYrqCXShY6OBWcQQcXxdNKiW5Df5SmoEamcy\n",
              "ustj37IfvNOV8tI8zX/AAAACvkGahEnhDyZTAgn//rUqgBbIHFQATPxYfDBYkZZtNDPrbLkitG8Z\n",
              "S2QiiaU1PWeZbb9uilQdTtpRSeMbFD6HV7km71J11bQewPI78El459hcekjQ2M0HXjVtYnnQhQ2K\n",
              "1Ey3FPxOVi7R51yp1G27XHvrurF5Jsl831zgLAUig2lD5QETtA+iATNifC25zO51c+27RNADOo0C\n",
              "4+niU9bpfnKS6HzyB5ptjFS5uqeSHUYeUG0+EIaND+Nk67aZMxn2xwVVvO7YWzlmUwGXHIk3QNQY\n",
              "g51nPtmHpRCH1arP4eVeMZd8LXk29yoTh4uebusGlmATWT0Jdfi12C2sAlsup8/AWXNZQqN44Bid\n",
              "69bf+ty3q9SYKALhjJoA3UBmZ7FyGYvXT4rQisx8SJ8lxlWPPCZMiZLJdu5Y6Bmv0+5WX/Jm1Nrj\n",
              "hqmFqwLuE7Rk1yrFTx7He0agQCAEzkS1LVEEaMT4OWWSOAagQX6ymmdCWJyXhU4QYXNZxOyTlrJA\n",
              "xJmrEchByVGNE56qiw4v2RjjkQhen9DS3J1ITc3BUHtoBWB/7wDSVo1S3ILPDkn1BThU1Ti/PciZ\n",
              "0GiiM7snF4D+RVqsPQ03P4z8H7ZWCGsb5vosfOuUiBswj8YvweULSxgISniVnJaGO/fx8QevFVLM\n",
              "rIbDkLITMMwCPzWfnIkHGJHeukb4zloJLPR4/+VeN9RtrwehDoRSy32M6Vq9I3X2Rf0+SHBYryZq\n",
              "JIBsMZv59at/ZPayaTDC0cAz93p80FAgfIYSZ+KOMt3uFtnpP/MLxBUCo5QGe0F7m7Qh8/9vsG3M\n",
              "3F1Pef/LSBFavh5Z3YCicgeuMX2Oi3zuuQxI2X+7rnB8TLZ4RjMXfmetw8vSalZVctmMBHcDAcdl\n",
              "ve85SbAGAvmxLfKpExv4HTMoHPqBvlpslQ4x/U5Z+nL9Fpk3gQAAAoVBmqVJ4Q8mUwIKf/7WjLAF\n",
              "4cV4oAtvOkOPM6iUnoRtO0fAbBojUqZ5PcWetBfymZCL8bDNCnYvT/uZZpamTJ45DmAIOuvXDVTH\n",
              "ZSYppb+zkha+dicnqw7ImFVwljFtBK5AraxzSURoPvbnZ96JDyBJFVd2HBCpk/uAwb0TrhHV1FwE\n",
              "sE4qaJBAKlNBFU8gWL6vwBgwYfWPC3Fn3xhkoZ/T+xQJ6VAoVXJfTeLfJkMFcC6AYGeH31L+o6bC\n",
              "V0kAz+LcOBtafFMxUrBPp95CEIW4ELxd1At26AgTpM/YbDrOajwk97wL6e3riaaGZtqb7SaY6Pgr\n",
              "Wufw+B1ck6kCT/ILkeOyKPcQE97GVytaCPX0s5M6KvVmZfmRT6KgRuIDr3TWJiN601al+qeQJniP\n",
              "XLl6gbWd26dYb2IZLjnyPHU4t1n5LVNMsAckhHqm6Hy+M4ohyU22QPeZ2AlbokhD0z9FEHxvQTWh\n",
              "YCx67BvQ3qj6/LjMvUbSeY/1oN6hYZ4FVKPa08Zji+c909BRKlmxDX9SQr6WYdIa413paiUj3CzR\n",
              "m9q4Blcos+uYQs7L1T/UhO5bW9tnbcR/+lWSlsSjYhqspyKddoWhN5GJzqbnneOUMiY+c0hg9ghO\n",
              "mmabNHLTLpmVq42WseBLgrYMh7fQ8jygOp7yAXd7rZaceCZXGbKAD0sfv/pcCpUiReI4kdnnQpZr\n",
              "9zBu6QpQGzzIMJ9zyOUmRkeTKwNRhQiNxo+BPPYGvD4+nTbH7lqP1/6qk1CilldEzJLVJBcjWf/h\n",
              "Pjkbz6gueTMSiFNoD6CDC9GfNKfXaUyv/7NfOvy2Bq6Y94r2xDICGFo5x8KeG+3vF9N8nMDu5/dF\n",
              "jUEAAAKdQZrJSeEPJlMCCn/+1oywBeG7fADfjyWPlHN/+2W8q9cKrx4wAb5c017VRsos8QWMGJVH\n",
              "GNOK5bOrEigOaqaIDg5kxR/4KdaUKLjlp1seNx/80Hc+TOs0BHhzz+/VzVaa7SPQEOfnc3KVAFal\n",
              "2WIJ8Ue6dJUrvIKVS0Phf+VYaxZKwCqulTSQibAhWEJMeH/N4xFDMKJpuElwgfrbIIaqSVBRFQGF\n",
              "W2ovEr1O7T+kCkvqRBhqPyPq0CCm70GBkQPEe9RDfznYMJedOwqBhMLpbrFBlLKCAfxm8dDNnEPS\n",
              "uoMosgwuOuNg/IV3l4TaoEYvYVlARnpZcUr2pe3DUPBs2QNdhXR20Egw05/2is/RGiTrySmThMkD\n",
              "mD6/vixgU3tT+02bWrVY7UmC7EbG5x/6qmm7BgWDap+CVE7stSG+eI6qRO3OLntNnTHThtnIEsbp\n",
              "6GOLEpc5UCag3DJv+UsTbfaWsboW19tadchoWIErWCcUMIXuqB9Vy9WAY56MdAE5IOk/9K/uS5jP\n",
              "herGK8UplShucrWlb0yfd+FXgdiUuL3emTJmnYy9h9OYoUCdUKtx5yjb5rq/d9p7aptx+ppFFrc8\n",
              "fnq2GrBjhYi9w98Ri7oTf9hQBmdXDWbcJcGldnaorHII//xGHfH9pPCZ4kBJiPHZL7voRKjL/fbe\n",
              "//e4gAbFzK+iDZX5kHR23CJwOPBqfvtiUIi/kwAfDQo6KpzMhgWM1qaD2CPaPZyEscPtiTOj8P1G\n",
              "XApYtzbH8DIxfyBLFBVokVB7ArZKGhlqC/i1mnnrJEUYstk/pm25fjTZreDmyv6HQbEJtvehh+3W\n",
              "qnMzb9M+Eqa9oA772+JzfRA04JbKBi/pccoZ3baVHH8dSYwi55HXQphYUHyqbnHBAAAAb0Ge50UR\n",
              "PBD/AA589wk9nf2pepCLFfMghrvVg+0X8kWOrEwAOUZKqE6PAmvqzs6yZdsyAFh+jvDGC8qHVL3N\n",
              "3RoEumWBbAXinn7rxM0abGeWSEsEWB67mDWEVU11dV7BIkRfnfd6/ZpxL3eeLDMpHwAAAHEBnwZ0\n",
              "Q/8AH7r47E+D20dnEICX+wfYqwLXN6WDp8v00c8/jpuvWbQAnwCslqkEuwyrW69XmQbkf9UB2nOq\n",
              "XhimPi0QnBz+gp8sRxiC3lf/7CAD+ekGSSKjs++eH7AAAAMADws5rn9PRTElGcPLF6j0gAAAADUB\n",
              "nwhqQ/8AD9pPTJCi/gLawO5lj/z+JtQB62otCHyRC8BN2jqA6Y3hxo8dscHzttuKCACXgAAAAo5B\n",
              "mw1JqEFomUwIKf/+1oywAqXzqCG8ATG55GNZbHftsw3Luox9iSPe6UNYSei/KY5KmG5FURn/j5o+\n",
              "2AgGtb7i0ou6TUgFtYjxdp1ZjGkEeScVbCJyktms87Kw/fUeP4a8K61lR20aYi9yHXsCSvq7DnHv\n",
              "eVZaUkj3h0idrpuI0GcK4DkGyK/Fe+YDsYsv9a6luwZ4cAyt1aQt++pDPmeY5yF9/yma0+u97UDf\n",
              "n3eMKzJmRG3M6tGxEMBy4ow4tkqckzNpbt5g2i7YRx7tN4BE7IJyyafSzIIfo3TxC7maOQ9pmS7F\n",
              "+TXxL4KbJjdX9PoP2rKdY/YtmbdlmUUuwouZ2y5YFrgCZBron8SiI1XqE8wkPeo6zwTnuGU7k8Mf\n",
              "rpVu+ivEfi9oJ2CNHUeCcB+wurlOuLfzlpDzyp5w72xvzG2Zen7d2VDw308LMYkNMfYN4plxop92\n",
              "9SUKb99GOb0OfjldBqX8wyt8izX2lBIn7QVtB/7FKOj48mkm2JnsFFL5A/yC+OVhS1UHtZEgIn84\n",
              "hBWpCvw9S/gb5EHiiCC1gfBKMsi/dTg9Lhi6BMG/wZw0Y6JZd4GsnBpkP6y0k373Lku4L3XM02Ak\n",
              "lTPsah6ILy4EzPjoTgd67wAAgaBZ0hEEreiF9XA3ojb2MaX5ndWXBXHLNVpWWt9AS63yATPN8HkJ\n",
              "42hh0EWR9b9bp50ax9qOipkyRL0VnhC2HRNtLVPH2jnm742xj7QiWvlkHEM5ebFC3eJsCJxz0mJG\n",
              "Py7wXo0qIQzic9yZeAHEPppjZL9KIKGOKe7wTg4bT4wAw0m3HhKdT7jXaGsYj76uvm+8hrLldr7z\n",
              "DkBpKfA3r7TWshgcjR7wUm3rfcBhmepV9UkAAABXQZ8rRREsEP8ABz8b9knFsSKip1N4c69fo8iw\n",
              "/rLN6HOb5q2MmRrnNzAYEct0S18U1qUbMYE5e+2j3Wsbl5Xql3Ff+tgA42oME6AA8Uu7kuUB1gF2\n",
              "dSqgAAAAJwGfSnRD/wAP3DqFqf1gI9vziX2CpPjXxnJ2xesgiPi+5CkOYrsD/AAAACYBn0xqQ/8A\n",
              "D97QVQPItiNA3ATqUorhBBMJNVei2KYaqsLUAC4b0QAAAp5Bm1FJqEFsmUwIKf/+1oywAu5Zd4BS\n",
              "d/cCOYNUUZIx+larzh91M7qTfUcJck5jWB0Zmq2mUaNqdn+p4SpwEKSEh/Bmn7PmnsGRD6LaUMDE\n",
              "ej+e50azt/xNHB03TtJoi3MyXtiR8Id9k3UizdeHnSyecayhoTLyScTkLV8/8eskAonIBHMdOicd\n",
              "UHvyAX9jSWU+fFuaR9e3VreXni7UPmdBa6rZtvrfUhe4sH3PCIEecq/8Uc36IcleOsnXG3LwiKSS\n",
              "BumF66a4WtJaBwcalpmqOlPpz7DZdIAoNrpdQxKDWH36F4lZv3T8jTI7/ohvg/7l8PYNXiFFZf+B\n",
              "fbS/2E+zRZlqk8yudJW0UWbcu8G/rHIGQrdAivkWdMv5yOHmDtxgYjohcuHvg5rjBNndtuISTXsH\n",
              "Ayh4CqDyzdKG3+V4rNW76BstfgHs/qnET6+je2sdScINMt57uqQ2jVtvn9sbPlHxHQL6JuT+4wLW\n",
              "p7MF0tHw26VsgosIIGQhw3mPpsRmRpgrTC71Ge5v8giuExNUUPuKFSPQgCqbl7l2NAQ3nZtSlkeT\n",
              "zdQlVlzY8ZsnwSe9EDBn3mudqX0xoAGcrN+64/Zf248MdkvjvKWx+91pJOyidhQ/laUAsCLq1btD\n",
              "VtwixmiR2bhDucFabjY6KAukCO3y53LfYqquFw64DgWMtsDqLbnsouF6/lOJTCretG4mdzYtqBzk\n",
              "pNSK/Tm5eqruM3RLaRtBVzIkYkorK2AnVIXmzyEDMAAnsYxevjG7hQmBItnfvHsMVOt8lShEYwWj\n",
              "tmnSZTnvFFk9du2Iz7JyqAuFtUqddrzrO/3jTvKf4SCS0OPlDBB4w1KtEXuO6mtIFIsuR/cVkUAI\n",
              "I8jEW4lhbQGY5G6M1jtUI/WjXaKBAAAATUGfb0UVLBD/AAc+fBIYymqk7/dnxWHo5XWEuJ7FY+T8\n",
              "uHHzsnu7vUBW5OGMxBh74DxRTeTfYcGVsH0Ixb/0oAHGIGVSY/1dignhpNrbAAAAJgGfjnRD/wAP\n",
              "2iTe1XrUIbNLD6QjXKlvyywxUoG74O0H3p32QYIuAAAAJQGfkGpD/wAH7ZCGWKLEw/qPg4/Pcmk2\n",
              "RODeMyx9yBTTDFyARcAAAAJ5QZuVSahBbJlMCCn//taMsAKl86gilAA2jECyM6sHYWB6zh8XPwSJ\n",
              "JLnz5fS8axU9rHPVfgBboVXoeL41iGGBLtuT53o3Gmhg+TfcLTR/qMSz7aJT0b/zSwz1zV9pHU3K\n",
              "EDtU6plgUzmt8FcDjMuD2gkw7E/7FbTO6BrzwffwLVi7U0p8mXAKdql3+GNQm2GybzehQi7oxO8p\n",
              "7fnqEBVBwQrm+tGyqWZ7U/RR5cSkq3njTiNDXVi9GcpGQ0l4l/013TyoKlA8YH2jgP/VSukbaKSR\n",
              "+FVvqsVE1A5K1f21rW5WDzHleoQIkYL+CsAo9owfJjIyIDGmZdbBRAvqwfp94McaZnpC9pj0q6kN\n",
              "9i4JWIbZOdzaU1oQjMmV0G+nrQmvB6O7KvcKCNJK7uLu5PODkY66wMAK0hBfVj1v0AKces73ekie\n",
              "ywOigyRPaZzLdc/i5xEdY/uGo80pruBnP+wPo+zm2/8tJqec8GK11NQ3HJZOjJRcFBWAny6xmCpP\n",
              "QwgEDno9eUE2Ij4xWtC1N1Igy7vdDCKAGMDZgckqj3wecvaql9UVWPd/Kk/UYG+uMwtj6WobW5YI\n",
              "mmNedrMLIueACQwuQYOo0BP0GfM2xBDs8MBJKrBhzBlw6Pd+JYrbDNNsp2tveuwAlLYdnpawZBab\n",
              "9bUhxl67V7ojMABD3szMG5IAF/VFH6CEX1gMZ48pxZhbCu7twbMaI5vPp7TLsYBowLmi4iY6K0s1\n",
              "lq8txuxUBq3rvvJEUrGx1SJ1bg5SKPIycEf4KNFnZnvHj8tkDw62wuhO1tJVxwzEzYebDw94XO18\n",
              "DMUD9/8/uxWQHbKa5nfSfBKK3ZtbzaeBAAAAWEGfs0UVLBD/AAyOqaJf/zdfaojUmZkDwYfT/zDL\n",
              "Xji8KwJuEEkypThOOHLGH0hsX1dYX9db9AYjF+RuGPaV2szEPc4Abp6+qgRFnNCAObFw+M+IhT3x\n",
              "uoAAAAAvAZ/SdEP/AAfuPssDO91YtyZ1A2Qw8+Sbs/KqLgkVOS1sKIGREzy8nYgVT7ngTsAAAAAi\n",
              "AZ/UakP/ABufHhzFKzlEgbd6RXO1pZ4Rrc9PdVzxyTBPDwAAAjlBm9lJqEFsmUwIKf/+1oywAqXz\n",
              "qDigAc7n6jm2SQcPLuWt8QXbSbaKOSYXJWHWqD26TNTeyQDurYiE1PJWqx6Hb97Tx4Cw1WPHd7o7\n",
              "gpBWf8f1S2WUmwct/9Iunf2Y1kxj/1mPf2D3jhjRtw8cdXsq2kO+bjU6QpLZt7LPs7Av7BC1ujGo\n",
              "8XLElYVX9JrEyePqM9xt2C4aWMrjgfCkLWazUxi3y6HRG0iSgP2RFVh+DmQhN1JIHp9zIo6jZJ/7\n",
              "hTrtEQ6pOwgN6IO17+6OTxZgcERPNCr/wNyyF5BMzZG16MA3hTOdtKvQf85OPT1wSFMGebEK6Ewy\n",
              "euYDGnpSSajCOAoLuP8+SabHgaf73A1xoZXicwAZNu8dkQpcsOvg5vAFzEWGSDAWNmzMihVqkdG3\n",
              "Y/t51LX01s1DOb3jSl0K+U/x+4vVNMS+tlM7+7PP4Mp+hJttHDs+gexL7Xy/4f6s2rFuKxftgmhi\n",
              "7YZIS8FlehjNy5IuD47b/ZBR+SvHpMvmcmriyrqpnMSiW1mWxP692csaoYgTFFIcxxjTIycfLEqq\n",
              "hNY1Wps1yfrN8A6xGxkLYo3B7i6wdMOyT/zSoxT5NCw7ehtfjxn+NBzWFWiJygKEte4fUZekvr9a\n",
              "ln1xG/rKpyALKudDg5AYjEsUiRFGuUvV2w7tYDKfXPW8jZxkf4KbK3Yek7TdcBv6Av0wAbgqZi70\n",
              "YPEUwWefeCuIvHjk84EBlFBV9B0AeeEn3nRLYRQmQRaEqW8f1gAAADxBn/dFFSwQ/wAMjqmYqS90\n",
              "hdRhXoyUJ9ZeC0nypPUTFxBX0XYtR4GU1XuaEGHjkZxESYLQpcx3AS0ucUEAAAAfAZ4WdEP/ABub\n",
              "pRj3XwkbPJ0WbKQd01PcNL9LVPQCpwAAACoBnhhqQ/8AG58eHMUrOUSBt3pFc7XUuZCVMnPgoodx\n",
              "w6ciCG355WO1STgAAAJGQZodSahBbJlMCCn//taMsALuZk3OZx8dRQAt+5wzRF5H16N1A2wHMr5A\n",
              "PZjv46XjnZrSPzKGQTvNmkG0pHKA2rk9CRyLZURAY56EsH82Gcrw0R6d1hH4paNLWDfIA9Rpc2Yh\n",
              "nTWxMurXbjraVjxGtzrFMMSsCrzM4073tSkkcFLF6FjEOWboh9v7cnSsbEHz6kx7/l6I0toaoAy8\n",
              "KqujbGo2anShRXcSf3jUJKs+I3VNI+XYrZE045s/es0MtxrmBMZl6Azvf7gvJ9MWDUjUanhGxbnP\n",
              "mAx41bFIw91gjD/4pLvrqp4UgqegxFCqLQh+Uz9yJlRnJZ4hRR3fQryOlKnPmL959djhTb/CVl2C\n",
              "/e+PvXB6JThqubk7xIeQNF+x0ZepS3CtUg0JgtjKC2Erj8U/v0xAYPweItNv9jqtGls8HGderiuk\n",
              "/lSsM2JhYYYzU9EMU81OkykP9JszshIC6v7dSM3urgeM0HsSYai3QmPSe2o/gEZD9or+2SGbrakM\n",
              "X9w68Mw6o9dM8k6w3CxM51tI5jr3I4benpvrh+noNJT8Ft4wxjoNnYbPE0MoYsHkxWfLHlgQE+QF\n",
              "vS2QeqRTAjaZcaOeSSFehYjBA87bS+/4tNuh1cFctDf5GDLvQhQkrixj/B2wa+tSTd8xPcPw/A0/\n",
              "09RoZQjrulSUG6GgARG+21Tq8mDOxiDO+6zHu6O1sXIUlYcsjJQ2DYNww3/Br/y9jUMct1HzfwBc\n",
              "dEeiV+EdfO9aHF5j61vO2f7YK/bqHeSUTKlhAAAAO0GeO0UVLBD/AAyND9CUGc0kD9Z7lRhjzJYQ\n",
              "voMK24wxW4oTOPhK24I5qeB1CvMqPQ83CF1PT4QHxtGgAAAAJAGeWnRD/wAbm6UZOSmB46EOqGxs\n",
              "96pWUcfH51NSPSe6m6Al4QAAAB4BnlxqQ/8ABR0fr+jRrJeQ+xasYaVHd6HfcpfIAfcAAAJzQZpB\n",
              "SahBbJlMCCn//taMsAKl86g4oAHQJn+tosZnmFN+PTAwwnCu1SPxhEJyGqD3FmvMnOInIEeuVKDq\n",
              "IS3roIGiLb13DJ0Hy1F8+Te4nDGOBLPp3ny5rG/em9lOEkq1IxYqYng2F39qRj4MiyadyLaorSUi\n",
              "exBpbQW2zHmqkc/zbectfwOBhzfMOO1BJeUAsWkq/hXqfpeP5W1d7Uon9moyouxISaVygjjmc8bm\n",
              "ieWgzvbH3jcJnpQ847G/3KLFwwu2IVnBD5myoPfdtS+Z8rmQI362//6ft3GXzLpwiAuMuxikJfPe\n",
              "apnVDSXWfoKlFARCvCW5LZWtXvERRmLIm1rppN61Ab50xZ47UfY3nU9Md06mHTGFmaYV5JMwdpPT\n",
              "bcH1ax282OmCwGnSL54U/7jf0w9eJ6aepo4Dmcs0XIXBszApceHb7I9xixumvdPzUPciqyl9s+p2\n",
              "F9febO+WDkH0QZ6L31j/ur5Qem0Ypvsitapm1qXMtQoOGYU3R42lZlwhAPfPYXvrO04eFlPAdLNQ\n",
              "PjMq4JY6EqYStG3I69wlky9czoa6iyAo1tP+MeBG9ja88K42GT0g6mApYnkwpoIbb1gVuS+hg12n\n",
              "G4bzrEVidy9J6ptRe21dhbtfQ+3R5Z65+Lm4hLoOxzPB9iiRT5SDbaONE+byT1AYBYZmeYMfRiiL\n",
              "GtZW9GMW3FdsLk7CKAGLr9s+esG0ZmBXutWx9Pvdyk8Z4SdFlPvxd9nuULbh4/1nSnEkqE1EUmmn\n",
              "HpyfxIxlXWNaoCQbyVfFtLr+jCzJ4F5y/vLWZBSBiAThn8322zTFaQTMc9pqvqm9BZfhDdLzAAAA\n",
              "W0Gef0UVLBD/AAM3qlj//DTbK78noV9r0gLfxwNUMiQAZiklfOL75R3EPHqWOA2/RI4af68f91pr\n",
              "G81Ej8eUoEcSudCrq8ZO+3sCo5BU0F+Pgd77Ahd+1gOwNiwAAAAgAZ6edEP/AAUcXEaapOJoWub1\n",
              "hVajkMAEkfyhSHrZok8AAAAkAZ6AakP/AAUdH693puj/sWBsWp3YC1e21MZx0+gJeGmo9QekAAAC\n",
              "ZEGahUmoQWyZTAgp//7WjLAC7mZIsr3gAOZ/Tdf0CFx0eMlSHveYQxN6CCLzVNjAXMO16CeLCcc+\n",
              "aBChnPi+W5nYgwFHTtMcCQ2MMp1oP5sxLo/kXNusAtXapitfMBY34G4DP065ERTisoCApt4PqDX6\n",
              "hp39RLY2nlQp6RIgrmoPlxIiM1Xc9tpK0QUOSh1FTvWwaerysQ14QD7wP3bK2m4a+IF9eWx7xyWE\n",
              "n4CVxvT6hH0ONet6BNxr7zm9/uwXBZKkoUK38gcC7MppXVXrwTY9r6j6261a98uZ7eL5meV6QRXU\n",
              "SpHiUlMzPd8vX6bBm6/ky5KwyaSZhMtrmJMo+Q7irW3OB2VJOH10xEjiOSKwDZpYUkt94eNpYdUL\n",
              "F0E3i4Yd03AkqR+2JJqJNXaJKhPnpoTcgVGVwautt/l0OBcVblaUUXQkL/MtzR2lkH1724X2S9T2\n",
              "XomkfY7VuhE539F8AR6gs5/OgCqtwM6lJbmuiNqTOiVJeMYzpMRBMUmunh412hJc2dfmBvnN0hzX\n",
              "G2FYOY3B3dyYEH6oO0zxz12+RNX6JpSb2E7bj/EB71b2EH9dZA6yuVWkmUpipcuu9ccG1ItPKDjt\n",
              "rc3VGLsefdjJFVZdjVtMEyBlCqL8AphFeWuvKhEgfWGljyzfxKQ05yN54vF5eEk0WjanhloGZ3gs\n",
              "ik0q0s0xsbUyZxNQtAOzdseUyG8oASWHVntjzuehCwVRRvCQcZB3DGHg9+VBtuLG+NzGvZ/5329S\n",
              "dZxovSoMyUQDxNTuDZ24TIbF2JBNq7o3NVb8AzlsCOaU9zk8XYIEavdMLwAAAFpBnqNFFSwQ/wAD\n",
              "N2JxFSnDHl6XfY5iG4GBxLLfQAbZdXTuq5odMGm5eoEhEq4VwkmzJcOA/el/h7boU94f1TDiQ5iF\n",
              "ejAi7v2zdHo3WW5Fcrm0GJAdiQn1boAAAAAkAZ7CdEP/AAUcXEceSn/meWqAvEkxKk941QAv2Q6Q\n",
              "iQ7qHqEPAAAALgGexGpD/wAFHR+vT6HWNS66/QC+SAmfW94CX/fRVKUx++c+WFexEKL6Rq9IEnEA\n",
              "AAJ9QZrJSahBbJlMCCn//taMsALuZi/AJbAyxSV0Bx6ciyxMKqwi8sB4WMPSrC4dYbtHMb3m/kqM\n",
              "m8tUBzNnL+ZUzu5/mTJewIEje121bKT6S7y78KCgQeyntzTsH4uD9GEXc/Wnz5UDY1sFZcrZd+p/\n",
              "KXuTc5OkrYhPy9dvciU4CJDSJXvgcuZCs+sa1C6gL6sZPr7n3ovtx5HlmmlLopiWWbvIvvytmNrr\n",
              "d2V2tAonSHUZSHRaz0N4sjl1t0PWz4nqoyXd0DUwlkgxN9Loap9VykbpzToOAyHRhhGHw/8ZWoKz\n",
              "zQ7Lb1eR9d6ZHeS4ncRZP9D+VhdiAMeaYQQidIU/iV9QqCWyPubQU5154weLkC65gdeJfT17ugxv\n",
              "r2zJzVLzZ98GaCRmwKPioJdya1+Lpdt57brclhyNHeQ/e3EBhwPYeEHuj2hrdF0dKQX/LKIX6Xg+\n",
              "AZJCEZ/h1P/SUx4LZmp+2c85jQ+SWM7n/xrHHWLvCu/ffsdBmxGcg81eaqU+WZiunXc/Tu4KeF2X\n",
              "nXrOmvpF1FJSYKHphpf6gZLQOOnWwmX8fiVlofsTUURr0zVGNgMKlo0gnn+HYiUEucQIoMFC7YOB\n",
              "+4uTQlApDhyZhTdHs770XgOv6h/SiAGEJc8S/KcX6HWy4R4Ta+bFJpQXMZtsQY3BGjT8X8E/21yo\n",
              "not9bhfgeFEBjZBt+pLEUVNCeXOc34kEIStJM2BOW9KUO65tkFTG8FpucYG9qxAJeYmy0d4eizHy\n",
              "sFTbJdc/1Tqva2Xtdy4TfcICdQhbPFN6x63xnpsrVaDS4YLraSqGlemkG1vZvAttg6uN14xftIrI\n",
              "dNnz5H6oHcEOEbkXmQAAAEZBnudFFSwQ/wAMjf3nRU7dC24Y+pheDdN3eGmRDuJsx4IvWtMS+CQX\n",
              "MIG4/W3gAtOmh9VBbF0KInrKQvrOjBpFeWQX1LxRAAAANgGfBnRD/wAFHFxGmqTiYBMpQhzrLkqk\n",
              "K3LjpBWZnRNxCAFtv0Xc3roopPAjeTwdY0LpbkAu4AAAACwBnwhqQ/8AG58eFJfDPvX1wPY9Gv1Q\n",
              "RSl2rt3uFiqUow1MCRcmvhEwQ50TcAAAAolBmw1JqEFsmUwIKf/+1oywAu3zp6x4+pIAGsv0O6hh\n",
              "VXwo+PV4J84Tgq3cHiToBjYSMBkqgEiuLOrKbf4HGL9KKwNElziTmjY/yolZ4JayxCnk2R9eeUIQ\n",
              "fsliRpbe2M7Mln7ZL+5SX0wS81YjgDGCL1qrIrEK2dWQ+cn8FeIlYgNg33GOJf53nkTikF7Z8oOR\n",
              "dBzi1VLZ6ztGRnMJy9KPVqwBUZeSEH0fnc+j+acjzd6LEjpDS5e+L/+0WN0LcS7oqqUkbTT8Xw8q\n",
              "eJQtJd5NUW23q1W7leCkBdo1BRaL68XtINvPb7BwDKcTNVPBvaV8uF8XeMTi/+AMMU7KBq2Fox14\n",
              "8CSmzJHUNa1VHMWXHCxCejfns7Wuz+qM+fAiMf45fQ3GNVC1lLDsmhhcFL52pBaNl67bw+BeiGxY\n",
              "ZTwUsuu58yUDitfQUAST8ZL3sHAL7j6QUJ1hneFEMAif37M90oV0mK9NxrAE66Y2PY4hcZXpbRNj\n",
              "COKVgE/8y0xnHSIBOfN6Js4BkQnlbYU32abNWaSYNZE30agzpl9RWMmqA1qL5Wzc4et/Hm/mW8zS\n",
              "YQszuZY5ySxHt8mE8DPU19/j6Iw+aEBXb6gJYeMaBQy9lsVHatjhX5FMnVaZ1PH8QLulEz1anXAX\n",
              "oM0jtNNTvMNcQFJmpz9mcbhH6BcRr2mBRdgUw4Ceo95pIo9sP0IaOxqUYRfpXbN3jLc5WXZPMB1x\n",
              "0pNb9bf77LhCpYYpzuHu5Qo/42mhe8s17rEL2Wfm8wQ/4cKl6btFnj1Fk6ZCV/oJpcOM3rCPtGZz\n",
              "b9tFQ8bHQ/DuEWrT+b05w9xOx6HcSF2vO4QJC/V5my11iaYhlOxrxD7VQEp3E29BAAAAVUGfK0UV\n",
              "LBD/AAyOqau5ADMi9QBrDv0IT+mP973XPgjabmylQABZviELb2NpFe/4qyGf87jkhNF5q2CoX8ea\n",
              "owRu0K0CnShR+HNforhyhy/Argcx8D4AAAApAZ9KdEP/ABubpQ9UDDluGmd/EKDytowVjwp5l22W\n",
              "qZhum0I3ADqAK+AAAAAqAZ9MakP/ABufHhSXwpQ+2sXGZBw8WLXMMHEIP94s9gxRzNtdY4aeiAb1\n",
              "AAACeUGbUUmoQWyZTAgp//7WjLAC7maH4AJUu+VoO9CoR6gPKrCLxzVDBgYsLYSTJBvFJz31WvA4\n",
              "kC5Ez1SZTqU8SBNmvRFmaQszHl9w2ogA2nCKOnB4rwIoin40vmamTawS8a37EH+LYZR/OD1YQp+x\n",
              "ZR+OcLb1Mz2AkEaQK+CyF4JC+uQcxJA9E9OUmV9FGhNXxAyglohleG8UATNI18+7ac9MR979lIFw\n",
              "tfMkX8VKF7TwtWMy5w1tNwlXrYnXxTlFXVs92WhsoeywLtLRfGsFaDH/AYJOoQOUqGE0pQs/QvYr\n",
              "xSnsb/OIAZ1thwLvCbbaDWLiI7I4zt4i9lNkW2QmYw/+BvIE1ypz+gyODDwDEW/7Ds7XeQeqEbfC\n",
              "ygZL7/vZ7b/q2gVv9rF1dpHxwQ2U0A6k5dzyYIrM71PK38BtdxdkKN7JBG+VkTLHF5FnBpcBC7c4\n",
              "HrSAWWvgX6/qbZdpznUu/Xl8cFkyNbifYDJFF31mD3Zt0QxPbs97eTf6ym3V5SssXV+iVtYrIx45\n",
              "7jXqlzhGQwEbbGpxmX8tdQqP7NF1sicZlEIrGph7G/STLus8xPKDcCU6LI4Yda0AC/cOrkDqsv/F\n",
              "khGkWknPyEhGA2ZBADachvNJeBh9oC/GjbJAt/fsZM08L/bm/a4/w2DfPWW85p/lP9SLGyvCjAuq\n",
              "A2AkpcT6I3ht5mtYPJaZCayDDpWzfO4dJ2r3v96BJcexIQmE+54VC63Z4ZySf/dgTTbKae5dKow/\n",
              "E7ZUFDFC2+zZnb8B+f2WXNblXkmOSJuDEpIUa97rfmKsBUBr6stfBBhQWsGkQHZHzI/MFtdEkcx+\n",
              "ehK9cWIkr4D5gQAAAFVBn29FFSwQ/wAMjqmncJed/4/CyyWxnvbjFHrnj5+oR2wgxxydyhsiquAA\n",
              "BZ2MNyFQSuGf7/mHO7+Ag4rtw69DchxbyD7CyFkZv+ABT6rLMiBpcljxAAAAIQGfjnRD/wAbm6UP\n",
              "VAwfRE76edDMa7xz9Gic75Aj4BgUkAAAAB4Bn5BqQ/8AG58eFJfCrM3oRJNT0OYo0fLK0A3uB8wA\n",
              "AAKXQZuVSahBbJlMCCn//taMsALuZkiypjABl6UhyHyolmIO0LjpHF++6GWmNaxxjshUP6xJHUDK\n",
              "3N3RAxI/o4AkynQU7MFkJccf4lIswfvHJvIkIsek5qvfYfVtlPOkxbNFH6gOK5Gsmq5Duae3z2Eu\n",
              "BMxkr+KEhf0Iw+cwasaKayvt+WAIOmYAKBjft9rthMHcvo2eD2c07CSZhtV+jlc9IafSNuTVTxuZ\n",
              "MF+zhg+7P9dho1qXtAjEXp5r749yTK9Qvf3Yz2+c58u9BH1ZzGuohvouwSKWU5KSDxbS3u5VDYY0\n",
              "aYiLFhs4Tg1MAsW7QCUXWD3bjK4pXkN2eXyBtsGRDaevowvI+fhiDjhChNdTdwq554ehnl8cApiH\n",
              "DFWud/Vk0OoR9qdur+Z5d7b/AbKDfB6ZwaIT9JKhVeu7Oxd6xFumh79rmTMdqliX7cfhkMMTrNEp\n",
              "QWsISV/rt++UL6WS/MyC6ouzYsOlWBznDRsQV93SX8U1qa+OId/7oQseG5pAOOL5cS+uUMd/5yYC\n",
              "yPryV1j92ifYIKlDWC0fTMgqTs4zvyhUc+MuTwd6udTOozLM6HXOzYGxw+29HWKh1EV4F3Eod5tS\n",
              "IhCkMAXfHi04bM0NYUdB6/jTSn/sLSKyCCxhB0fRJk9hMfeOAEAmvAA+K+bCjJ53YJ6XyyxrrRP5\n",
              "BGk2IrnBYTXR8lO1ShdTqVOLZetGFDK+OMVN2mQFb0tne3YpgNaGwHEQapjIhs91NMfURk7pGCTV\n",
              "ZuypMLmeV4V9Pzlx9ycw3DXaNIhA6j0syyBnTGVTS4YaN0z/t9IygVxqcp58maVGb9BNmskI57+t\n",
              "BcDAYYr836T9ngyv1FN5F6n5bWyng9HPy5GIH/ZtYMSjNUX4VMSBAAAAaEGfs0UVLBD/AAyOqadw\n",
              "l5n7rKEBcvXv9VJCSi4iO3Y2HiXrgA0u4b/jz/WWSfKmcVf62E/kZHtAgwDkowrepb/VBE9GlXo7\n",
              "+AHdg4kTFHm+lH51k5yvebrA6yS6Xm8ko08BRi4KL29SAAAAKgGf0nRD/wAbm6UPVAw5bhpnfjPQ\n",
              "5jX7ImiBwAW6uPaAQ80rt67sh9oEHAAAADEBn9RqQ/8AG58eFJfCrM3nk3Qv5WFT9+l3ZABdK4pN\n",
              "5IhkAWfbrYBounryJOQXpAm5AAACnkGb2UmoQWyZTAgp//7WjLAC8S74z/F1gA2/y3BN4MAndRO0\n",
              "fhHi5+FM7hEO9qsD9CKgc/Elu1Y2FvEZ9ua6YanVgNG7xjXiY4ZAHjN+CXBOpNvdEtkZMcJqE5zU\n",
              "xEIlPfyHA49vQiSr0ZPQyXjVWvmXgFPltcRzpzrn/9sfIQif5EJZFeeSApeDfEWqp1pIkOWbGb9e\n",
              "QRwSqkyWXtZyyK94P1wSHTe+3y0FkogHSKdJERubNcnu1/C96S3g8l6Ml6z+RbhBYmH4+c1P9tG/\n",
              "cUMxEwfrgrrM4CQX4jt0mUG37Vg1UkaNz0UtiOF32cW50NRvt73pG3iXEypWRJJWiA+tBbRw6MO3\n",
              "7QvlaJxq5MUr4qPZcFFo6BLUZAjN+OHxzau6UF6yTCIcSQv7TmY9LkjCK+8i+SZEB4+c8dtGCk/D\n",
              "IVTGIF6iihI0OId5NHQzEo6MiQwmUHXaSXmxSnUtZmkTU3fn58EZ/WJHYJKjdfNqaz5dIp2vOWgA\n",
              "BpkUuFdWIaB56LNZs1Lwg8wHw4D6VNphrS4XClcJvgTDZz09NhkJFP7EB7MI9gliTHN9OugqpKhZ\n",
              "6TIjbDBDeZZmgCDbzvxbfXJsZCYDMsyFyXYQHoVnblCwPEyNc7vXMxOUez2HZO2C26XFGw+7TdDy\n",
              "ZQNKNpjcY3F8cfYukUEI4wYpdrz06iC+xZojJqf31kjro1N+9CgKjIERzr6XcGXqVvgHZZcEzmwP\n",
              "Y3FamEi16NuoPGwomNXY/Fh8GppFeUzvuBaFCoFkMX+TQRo2wSPnV844R+6XI5lCpeju9LFuBhcv\n",
              "QJR8vDCbT1qBRdWJajp3itmcKQI8F5zvnet3V7fnfZzM8CwZ7AleoINHg9jA4N46wf6xBsrQNgP1\n",
              "G+fqm8p4A44AAABtQZ/3RRUsEP8ADI6pp3EGp78DFrCQK5Q0/l+ouu8xLPhfXuTgAcTVxeTPdWwB\n",
              "CQ1Q9shDsVHLAOlSsLf2wJ4qj/yqg+I/5M3gHbS3e/ujrBMBszuuQvN39r2kCoqfrRVMLl4KUNna\n",
              "uLSsifCzHwAAACwBnhZ0Q/8AG5ulD1QNEudFeEJMaS8Au8tnZABc6szAKBSNIdZY1TD8SHA44QAA\n",
              "ADABnhhqQ/8AG58eFJfCrM8YSfF7lWhB2H4eAFsMZwK/LQ2nOVCUD0nINmDdwpsQEfAAAAK4QZod\n",
              "SahBbJlMCCn//taMsAXhxXigC4Lri8C33i/aj+XGkCEUIWkZ+j+RxOTXnZtNLSzFIG5Rcoo56qRb\n",
              "74gE3SHpuKg9YdpQu9zdFtk8blp9TROn7Ei+kKo667Q034nlibHM9cs3hirHNjP0Dz/fpf7nVJz+\n",
              "F2uWYEc6P+LVXRSdIuDPGXE3ivPVhDfby+SBrBS7ZdoH32cZjQdinkMhLvfh/sEotLH0DK/lq1Si\n",
              "ZLhio19TwlmX8wxa9JIJAVLPp9aiC2tjpMbc2EhygTySkKnrK+3c4L764Kwc3g9wY+qtprJh5wQT\n",
              "G1csE1iPKL1jd1fNUhTf5V0ej6tJXWeEy+bL1tDj0+OHh4wrtXd95PqOB5yXT3wD6fOfsydzCdHA\n",
              "QWm3iRPcPXb/IQBL16vTwCcqIDio/IbcDB8O7htdtt82pysB9cjNrDYiIFfAx/0wVzQKa7d/xWcD\n",
              "18PJGgeGzz+fJKbjRFDYnk0nrPLeQlhVsp1olpwqSrGRcxsLVFYxUID8ph1ZGVupRRiROYFa4MyG\n",
              "gHKvKb5uBTB6LN9NB/+/WY8sdZ6/G64GkDwBPdrmyBlt/pq9A7jF368j0RhL6MgSQFBMZzPWj+Mf\n",
              "eBalGiSPXBzy7Q1yALXpVAp4f50mARKQFgxrEybQJySwHe8LvM/+ASvXlW4x7fPZGl7P8T/Yn2zI\n",
              "ZYKbl+UIvK6eXHZB0ZfDuw47dDIA8eK7/YHXQzeZaVujwBUZ1wizD12RLwwjxzksVhztYrUYgalb\n",
              "OYvqFvm0OZjLOVviv1ZUfYksX8CwTSfBDN8LqkEdAMIERvlSzyUcpvloySorTjjg3tpkWdSgj19t\n",
              "os0yiigQM6iZTMFGMkSjsAmL8HGs4RijRkZtdZLQkcS+NK9EEkraD+fB7upa9JQPYX5Hy446wG35\n",
              "lJfT1SuntDPhAAAAbkGeO0UVLBD/AAyOqZoIanZjXXA9PtD9KQdTIrzQrOxGlpGqHCquhc6iKfZo\n",
              "QOPDLfABxk5UmZ5J4h3h8vhtB+sApgw61cpnhMPc1HRBXXV5YNkNmmrKvUg7De5NMQvC/Fsh/IEb\n",
              "LITdV7A/5VzAAAAAOAGeWnRD/wAbm6TnAfRmkYEPqvDSfufADhj6gbyJMOO83lu+fuVitbB0wjlw\n",
              "KB/kfHPPe/t7xAd1AAAAQAGeXGpD/wANrwy3HrrfBAo29sxvAF6y4/SV76uExy2RWjw4LgrNSiGm\n",
              "z39XWd8v+yLSHA3FUfKXabyQsD9OYf8AAAKZQZpBSahBbJlMCCn//taMsALuGfnCNGQAG18jwmzy\n",
              "wZVeKsiDKbdYY2HNWjj+Wzu1GhrphZXcM9wuWX1gfrMo2V5WeCA2wAtLjhnmtF3rkIOTCRVkchcO\n",
              "RnPEezeqpRAtDGRM9d4MZaLKAVzfIN+C4/1vpmpRTf7j/Mzg55qbad1eauk5Ljx/IRMcJCopGR43\n",
              "MOTCumjz6NSN3m0dxOA5vD5Vz+nMeWDOGvDBlqRgvUOFIV/zWiWe9CygIwE+Ng7h+gD6rY4GdY88\n",
              "DlZCnZpUFt8ppWFA7slPLlKxzFoDMnRBCG3/pkNqUZQz4lVI5kqRgcAk4C+3beLEJJuYjQBLOUDD\n",
              "okgodkv8vIPWNgbHZxTvRJhYgVj8BMQl8X/ltSdH8IvBfvJALZ97mCXKtbV7L3TD2DE6PBmOIxK2\n",
              "0iMmQrR40bC+SizV5GrpNN6RnUbNBnQQEB0gwgVXawG+/lDV2DQNd4+/89B2TTrcHgrQGFLhIH8i\n",
              "dT4PIdLQQmKhplEx9MNcF5ItllHXxGvprI8d8pVld7a5Guom/CPEqAEaW7+1Ebi/QHdVu3SMwNf1\n",
              "7dZGP5BEBVBCTg60kgT+OGCwtl1N7/EQGf9+Uuu6Ir8fawyUPmAQWi44feXmBhxAg5uuDUrq0FDe\n",
              "0yceYLqqPOBhk4TDsqt+o0wVceF9oL6lVEN1Oby/LrvrwQ/7TFrLtgA50MhlH4ITLLd4r+QAsL6m\n",
              "E0LDhsEXyo05sOT+/NRzwrxTnI/GyG8nZBL490KjNASqINm/tLnaTPWViQBhg9nRDvM5sTOwEZEN\n",
              "xUK0ph8lActRJziu60ErsDzCRz3TZb2LBeRlVxDk0UBSlVlHDabA3V36CRTMtr8Z2Ao2P6Q+EzLg\n",
              "xHaCB5Z4qbgAAABRQZ5/RRUsEP8ADI6pobaoaPHq26XhPnlRL1T9UT71N1UrXUAMAGn3KwpfKENd\n",
              "kJlfT/OfD5BChZ3QbL6RN8td1o+wFV2wXMkOvh1xmYYT2UWUAAAAPgGennRD/wANzdKPxAzlmgDn\n",
              "GJMk4QLPx4wAk1xaNvRsfvN6mM41TFQIUMnwxh9+2TB/2PuI3HjoUDfBQM+BAAAANgGegGpD/wAN\n",
              "z48XVwuPQ2S0OJRqkBHvz8AC3p8lnzUIF2qDgjnsC3fyRbMWtsJmmpttRVAGDAAAAnRBmoVJqEFs\n",
              "mUwIKf/+1oywAvGBQWmMGgBT58XyTLjVZCbDe42M3QRqu2Y9hl4G1kwmYpUOSogGmVc6bNxGSZlj\n",
              "Ex9VAdK2Q0rw+QqN/yMrgaEpkOoxsN0Lk37dTbAmUcyN2Y/eOytLmJVgbVLYUrKYzcCzMRXx8v+d\n",
              "VJ9WiIxMdwdb6P8VZK2N2ZyPFhnc92QkK7s/NjpHcnob0XXeE2RDh2EgloA27iGrZM2S+bJR9oUR\n",
              "GznjnjerRN6wRh249fThGfOLg8wBcQ2M4fxJij53u9LNGv7OJgzaEZ2x+mC7wqmtDZwrbkh8lkOR\n",
              "tJRHY9nMCGsiTJT1XBSrz+/5yWxtFrYW+xqCARVn4ShajPl2M5kd9O87aaAzbQeeuiWh7K/5TEk5\n",
              "6QPVkDTD9a13HFQgFPTQZGFM/Cx/Hbo3q7J0TRseGS56Q725/e7HjLZs/QKfxUt63Hmc1r0NGRix\n",
              "vn3QU6fer9pjtxVWpZzg6wN0nnD99uSdQY/nHXDa54o3P8CBfd/Te/EPwMZW7665Xz4s94riYi70\n",
              "kzj8VZTQrlkMcVR2vZAJ9R2Vt0SUf/TYGbrXObnFZprVUBxOITtXrJ7/27IbqFFlHAwl0AzHw6P7\n",
              "m+b8OoQ0zA18i3i5cFZc91OxPlihT661gN3yhiBsltYAVi3U8TU5pX+EPvwhh5eV/53PseKWBiF8\n",
              "SJ7FO+YLeaix28b6JFwmchXmuxN9LfOrpKFVmuKs0HLjxzAWfINbc6Q1UTCpq6aEE4tOB3sH+Dns\n",
              "AHNzrK4NwfaEc7RUI5H2bmB92N7pntvNaJxESB1VqrftOwKcj3yTPQskFyk2TA97nyUXAAAAUUGe\n",
              "o0UVLBD/AAyOqaN4Xfb/UUJW6VcqjYxRiAgBxMeocK8AN1PtOU/xe5f/NZXI8Xf9BfOROl/Esw00\n",
              "7JQGZsHU33ZOUA8p2ZuVC4TAEPupSAAAADkBnsJ0Q/8ADc3Sj8QM5ZmvXXxaM3MeSbXwscAFvBjE\n",
              "d8plbLty8Ypes2HrjYajOw3iMkTmiTrwAakAAAA6AZ7EakP/AA3PjxEXwdxPoAbrGq60lABdNG50\n",
              "DWq88rCDCiAp6Jk+XCiUPvqnUf2S8s90YshVMvnBwQAAAllBmslJqEFsmUwIKf/+1oywAu5mSJQH\n",
              "QAtvP4TYTiwaerP+Kpe36ufJVOgP3BxMob8yybtPpqg1YV3cdFgipaAZS6x9pjYfLIN2uAi+Lbs6\n",
              "N2FmIDiraqO/zRRY+uF0xau9n8slOuefPkTe0JTk583gznCfs7nyvHX6XfNq9w0/jI0M8c4K1PQH\n",
              "WsPg5UnLCPuQpHqfpTc9TSBwZ3brLsA5SP4Xapcr7W6OpY38F76yFeCzWImxt3Sx63ZvLAMWrOiD\n",
              "frf/px3NSFYth6Xj2VXS/gx5QpLV+HhQN1kAiX6u5TfB5pVBN4s9b1O1LylS751mkWMyvs2ZGOVH\n",
              "VTJ3i9n7wwutfxiZfgqRr3j4SgoomZGBcumfWaoHrk2SY5WSqsm2il7GxU8elMtOE4xzWbfZKeKh\n",
              "n3gn9ENZf3jhiDvKU08tCUWYlwdLTT7DSTON4pe/nJA5/TsCXgBUE+YoLRp8BXy6F5YtNnq/rLh4\n",
              "5HOY6zVoyNPHGSVXXi5DySVpis+38xhofmK9/Fn3lFUqgHS4kc3zty1iHc13aMkchcjuRXeyv9Yz\n",
              "VSS8MzkqG50BHOabQGDmC3cgzDRQrnmgd0WP0v07/7SUzwoFSrQHoTd41L4z3fm5NWACMAboxVYL\n",
              "PKftb+USC5tqbHC6q2qA4YrZ2TRA8N7gHLqMxvluPEPCN7gVjDGMphc4yExWfVjxfh8F9+NFF08O\n",
              "a3MqzTUNqhrOPh9iKvZKJ7VxqduEd0/74YSo7rE7DNoe7PwVmyeixllE+/sRdd3+SHLw8r4qjHwD\n",
              "+MySqYs/oh6RAAAAREGe50UVLBD/AAyOqaN4brBgiZtzRgnWl/wVJtHygAF1SyrqU46G7o41kZXj\n",
              "oJ+VISuvvQ/pIMPgRrr7zalofvgvntdxAAAALwGfBnRD/wANzdKPxAs9/9cgBLPLBSBk5HDZhm4n\n",
              "g6VfIHfTyTFOYUGQhZr5uCggAAAAKgGfCGpD/wAFHR+IO9sHTCltAB/QATnzB3BLH2E+P1roM90X\n",
              "H7eh45RjgAAAAh5Bmw1JqEFsmUwIKf/+1oywBeHFeKAIDUuyf4cSAQ4M/YqBsIjs+9hGxs5SBzmW\n",
              "C0nQndqmvrTglYWqLyVM/b8vWwj6gl0B5ya6++J6b733iJATmg27fFb6tqRPHhOdGTKv3xUNXwQw\n",
              "Nc+Bo2piZH2rjmh/IziYwH8ejiWpipbZXnaeny7ob+XS+XYCv+sO44amLkMbws5K8bDeI63LLkk9\n",
              "jof8qkYQQc2Fy+HVJu6L9IC6EyDrTPv3rQD3e+Z13Taq54PsVu+dvZuIhC+lQkXeJlfdgyp7z0gQ\n",
              "+dZYf2lZWoDrgW/6Av+OpeOLZF1hqrKash5IqVeUCjx/hoPzpx2u4Lwp9TX/KFgniQpK7mopv3Kr\n",
              "wMMKKxJ24eZT+yNZ+rrCkfv5r1Iv/c8PiD/+hSX2cDsChbJ5jJL438U3WIdNhl7iI+E4plOjOFuE\n",
              "qV4eGptmmH66fJctkUx9d00FJrIcCt1Afu+7t6zRmdm6Za8IY0LhPiL+wtn0DGXlyrfobMkv4VEG\n",
              "HwrgvKKgykj/2vu2sJTJBeJ4vfdo8U+pLOm4R7799MQrnePILp3uqBWg+0WNCIHh3cslcn8EQ9XB\n",
              "A8rMBpOTDEJQmJRPEHoFuek32qce0UdD5N2F4EaSUvXhChAIZLGuyS0LUxv4hBxcL5njMokHvK7h\n",
              "XAAKLsvi0CVSzmIy0R0HgBJmKxjVo3Dore2feN8fQ2emjNvwa9YP8QAAAE9BnytFFSwQ/wAMjqmj\n",
              "eG6wX1uYyHegIQYQOh+f1ABdNFwr+VPhZ/LmDoh+0fXxBkjsTBkwmJBBTh2Ibdl3nnufMICZ62IE\n",
              "SkeH3FcMQhqcAAAAFwGfSnRD/wAFHFwL57A10Y2c/suYGSLcAAAAHgGfTGpD/wAbnx4Ul8Ks0Q4/\n",
              "1VQbkY8sily9irwGVQAAAg5Bm1FJqEFsmUwIJ//+tSqAC29rb4QajOAC289RUPp6McK2Fec6hGCK\n",
              "XNnos3IZDfD9WyhPboJCk8hSAkAoHTi2kmIMuF6dLWRaVCKMADr7jr7NzGVHz10d5lUe00ikku+F\n",
              "6Z7+ri72DsNfH7Yd2rboYw71//QLAQA/B6m2+jALYntciTsDGCF++dLgRlGAt1KzaeFzIfxuzcYR\n",
              "+x0EeRSBlo5YjPe+dJW5aAh59CMxdtlBIDpcmzckUPbol+bNtmsWeikjopB70D8r/d4+ISb/umkP\n",
              "MVs4y4/6O+/nLS5BD0wt514mm4Yg09QHmD6M1z0WC1JELmYfNypFIqKFAKnDD4KmWOpzNSB++iPj\n",
              "vvrGmnL+1MQY/3SZH0zbHjil0qRHo+Ksj7l2VY8+P5AcFY3CQYkrUFJ4SODNE3aZsunhUOlPtLET\n",
              "oaFXHKkFI++ul5ge2kSxBPuP+IeJq79WeKTYd5V7hl/W3Dygsnju1SZsrR5raZnl8Q3Cj7V9P4+o\n",
              "qQlRdcDm0wRQg6aTwJC+j2/W/68C90AT7/2rWciBh9SrRFRDaYLc8GOMhkBYK5In51Yd8fPsKP2o\n",
              "+IMJtd1YpxR9aSuly5w72Z+tXS6nwP7Jow/m6U37eM7XB5lMfkLOcjZAc5pVv/geufoVcu4ScnDj\n",
              "Z9F65UOiKcwTUogPuVmmktCRRxmwMZLYT8IY8JuBAAAAXkGfb0UVLBD/AAyOqaN4e0mj1gJfiT+k\n",
              "IjQjngqbtFVRcAFe3q9VLlk7oV3Mf97aFbCCAmZ74PjKol1FncqnpWR6vUON2qFCNNVJoPnyHACH\n",
              "Z+pHpHnQ5s4R1gSEBZcAAAAWAZ+OdEP/ABubpQ9UCz+0r9xUFrtTugAAAB4Bn5BqQ/8AG58eFJfD\n",
              "P5xYY7X6eThdBh/QPYoAMuAAAAIEQZuVSahBbJlMCCf//rUqgAtxk2qVHAAsIZKpKU35QRxJ8mMR\n",
              "fEHy7mFK4vUl0y1zfbnlpw/7OQbhtfphpGHePPX8qP9k+uhtkqN6plzeL/Oj6dGuFAo4DelS+RET\n",
              "wAFWScQcJRQdBA3+0Etp6g2A0u+QVUy3CQSQYA0vTHPzn/pwpjGx0wQMaZp+yRMDNGVEFj0HAm2t\n",
              "IsfvgbTFCRl9ad082wfa0HIsidJeTQ06chT+a6X6molCZTBTw/xF0jXDhCUKgD3Bl857g5GZ5Laf\n",
              "TFjHUARYtYSwwsuha0yMG+9ARFBfiwZp+BqYn3afHqT3LYkPmrPGLKJInWDlZ4zO6q0k32c2w9+a\n",
              "GDFmEq5W4otzRrju2xAF6I0KrsxBaY8VZNFpTAwMBb6GWN0NzXNNWvzdPBNOYzY6sYUisPji+NdB\n",
              "opqtV1+FFYz7dMhfybzsn2tx41jb6XRcRXPXnbd0kqHKP+b413Uxm7Z5EDWNIG7UonO/6VLCAr9l\n",
              "+3NxTP2egsVKpew8Zl3eb2d/Vj6gSBMWXmaZK/sBw1dfpzIqbyuuriTbXlJr6BfVaxTpKgciRLr/\n",
              "FjsGZB15NqiAzrcbhNq39mm/xS/WGCe0POq/1pbSfxrlMTXv3wVLIaIhw8Doka8ZjXA7M5rP5sOY\n",
              "CZ5y6ieQO53k9OOWXoYO6j6TOtXzEvbRAAAAWkGfs0UVLBD/AAyOqaN4efVSYJfzXmE3W6cNThwA\n",
              "Ldb1IKvz8ZoAv033TggfZZP9cqp+jeLRpd+WEn9o/AX5uDKqN/OTRVPyz632SrUjO2pyCDHqcU10\n",
              "BEqXhgAAACABn9J0Q/8AG5ulD1QM5ZdT1yVSYC1Ox39D1tKq5WAGVAAAAB8Bn9RqQ/8AG58eFJfD\n",
              "P5xn7oIEaomIpfX5nNcF2wJPAAABjUGb2UmoQWyZTAgn//61KoALcBu5GpUkAkMsAVLlRu/RfqZ8\n",
              "5IZVKQq/UmQR9Ng8yW7JC5Jqg9ktIiVnYSvBv+uXirACa+s0x/CKiG9jCxah5T8fV2evf8qt2tJd\n",
              "BbfvNKYSZu+qCIaiWchOFbF7Fo8/Vp0nYeyE994qTOEzMn98JTNfXFY9UsYPQ9sbCiqbWHwhIeM/\n",
              "A/4N23WyPFNsWLOl55aJZ0QYzxmJYpzsNT/60ffRgSi1/ut29ceEuqA7yY8YEopUWXShI7uUQ2lz\n",
              "wWHzYFFBeVKYGcz385BZhApv5xSbiU5nzgY9gMcGcveO0d399JVeWVzCxLk5paRBVxtlwwZPwBKz\n",
              "JcnYA7RaHkHVtGjaRxj5HfNdLwaRXd0j+wIlvMIX7j3T6N39q8B0yjRUcuAsBdKnhYaeef/eI2ui\n",
              "t6iN05pv/A2PoMSVNr9vQ05IK76BqVLwBn+2eFOmU6zHj+W8dvaPnZSptfZpA1W52rSIR9FA7lbP\n",
              "IF9nz/LTqiQBOWAO5obPbdbTD/AAAABnQZ/3RRUsEP8ADI6po3h59VJgl/NeYWTVEVG4FNRsrit2\n",
              "6w8WIjMAFsMDmAAn2fvc8EAnaJsmZALpw9ShvPm2bf5/cma3v/Jb018mYcTGXPqctROmmGmzz5v6\n",
              "Q7eiZPxzIuJsBJHJkwAAACABnhZ0Q/8AG5ulD1QM5ZdTxs9uzf4zxrK80lZDENiJgQAAACEBnhhq\n",
              "Q/8AG58eFJfDP5xCrKrK1XlAurfUlHjEZWynAk4AAAElQZodSahBbJlMCCf//rUqgAspkUKgA2Qt\n",
              "V9HoMPKEo/YRC29EIY+nITUcQ8C+BP2RTPLRRDu3gVn+3VG4kUrKPOCFPAoJf/WXD7Yr00+dibbL\n",
              "kydqS0L6EhbHwqJxGi4eOY9AAg3nZTh99YAdQwBHYT/8hy6dDRT6WS+xc9EoD4Ta74n37l1H9tT9\n",
              "Crw8luyOJdic5yZaVH8uIe8GLG9uuqEj09GCCGZNjg4qP51dAz1QLJoVGgSB4qU6uYL2COVUnYPZ\n",
              "fyfeoqAj1G22kxW06UM6J6AgL/0EHpSNcFbS9Miv2lVgcQ6F+MqugpeH1Fr2jdoc33olnmFfoe1C\n",
              "BMbJPeAdyTjjjV+yE4IlCyGPf003YN8HF9p63xSsZDQUokGMLjWOi2kAAABXQZ47RRUsEP8ADI6p\n",
              "o3h59VJgl/NtyP7mv/7uuqZLC2214AC5/CeL/zJ8l5MBwxj4C0K4D1/EUC15Ny7QiILVnrPlP/yT\n",
              "edtCSmbrwaqpKCFLM9AQxFbMAAAAHgGeWnRD/wAbm6UPVAzllwB5VdIJFxCSIZRYAIAJOQAAACUB\n",
              "nlxqQ/8AG58eFJfDP543yGnpB4OxDc0CECpf3vq+LhMIAGBBAAABEEGaQUmoQWyZTAgj//61KoAL\n",
              "cYvjTEimerlACtqrwD1bFAZWvx3B6MWBNGz146yyRoLSxZ350jSlSZGZqR/eqO5dELZ0VHHZ7FQY\n",
              "07yaNZASp5mKm5nYYl9l/EtIj0CTIkWSUYiwC/u8fqntk6AVeZOsIx5VMRZ5Nh4NLcA7rUD4sgnd\n",
              "WR5284yi/HlN2NtI+Z2Ubi0oQD1/rajkGzeK4jZbx+vu+tF2cdLSlw97eruWiYFmBKUZHx2Sco7I\n",
              "m7yx7AhCOC8KJcNTyxRBcwHKalwykgnvl0SpFz7yKj+7jPtX5czMS3RuqMn8BYZ5g/n/2jMffO99\n",
              "Ek/rVuzvcI2rUULn6P4lyAqKCwogEHgAEcJmAAAATEGef0UVLBD/AAyOqaN4efVSYJfzcW8T1nbH\n",
              "f5uNBzbC+YAONdNcWXzL+JQKHeGzoR/alLcqV9Y6qZnyDP4A147alT+QP+b374WK/ZcAAAAeAZ6e\n",
              "dEP/ABubpQ9UDOWXAHlV0aKbDhsGRU6lAB+RAAAAJQGegGpD/wAbnx4Ul8M/nH1r0G2D3oytnCDm\n",
              "N4blGikjrXAAl4AAAABnQZqDSahBbJlMFEw///6plgAkLQLNsxog0UYx0BtJ/jaNABNOp4yXgmIg\n",
              "4QQrZv4/45fYRhCez+e3PkcM4Rd+xJ4lOEol33y4NJKiuGESIyq/K3Hxboi9Lrf+JoUEebd+3n4t\n",
              "uccqHQAAACkBnqJqQ/8AG6DLVfvntUcvJER9WeFVRBmHM2NBr1sq6vIHkFCPCaQjuAAAB7Ztb292\n",
              "AAAAbG12aGQAAAAAAAAAAAAAAAAAAAPoAABOIAABAAABAAAAAAAAAAAAAAAAAQAAAAAAAAAAAAAA\n",
              "AAAAAAEAAAAAAAAAAAAAAAAAAEAAAAAAAAAAAAAAAAAAAAAAAAAAAAAAAAAAAAAAAAACAAAG4HRy\n",
              "YWsAAABcdGtoZAAAAAMAAAAAAAAAAAAAAAEAAAAAAABOIAAAAAAAAAAAAAAAAAAAAAAAAQAAAAAA\n",
              "AAAAAAAAAAAAAAEAAAAAAAAAAAAAAAAAAEAAAAABsAAAASAAAAAAACRlZHRzAAAAHGVsc3QAAAAA\n",
              "AAAAAQAATiAAABAAAAEAAAAABlhtZGlhAAAAIG1kaGQAAAAAAAAAAAAAAAAAACgAAAMgAFXEAAAA\n",
              "AAAtaGRscgAAAAAAAAAAdmlkZQAAAAAAAAAAAAAAAFZpZGVvSGFuZGxlcgAAAAYDbWluZgAAABR2\n",
              "bWhkAAAAAQAAAAAAAAAAAAAAJGRpbmYAAAAcZHJlZgAAAAAAAAABAAAADHVybCAAAAABAAAFw3N0\n",
              "YmwAAACzc3RzZAAAAAAAAAABAAAAo2F2YzEAAAAAAAAAAQAAAAAAAAAAAAAAAAAAAAABsAEgAEgA\n",
              "AABIAAAAAAAAAAEAAAAAAAAAAAAAAAAAAAAAAAAAAAAAAAAAAAAAAAAAAAAY//8AAAAxYXZjQwFk\n",
              "ABX/4QAYZ2QAFazZQbCWhAAAAwAEAAADACg8WLZYAQAGaOvjyyLAAAAAHHV1aWRraEDyXyRPxbo5\n",
              "pRvPAyPzAAAAAAAAABhzdHRzAAAAAAAAAAEAAABkAAAIAAAAABRzdHNzAAAAAAAAAAEAAAABAAAD\n",
              "CGN0dHMAAAAAAAAAXwAAAAYAABAAAAAAAQAAKAAAAAABAAAQAAAAAAEAAAAAAAAAAQAACAAAAAAB\n",
              "AAAoAAAAAAEAABAAAAAAAQAAAAAAAAABAAAIAAAAAAEAACgAAAAAAQAAEAAAAAABAAAAAAAAAAEA\n",
              "AAgAAAAAAQAAKAAAAAABAAAQAAAAAAEAAAAAAAAAAQAACAAAAAABAAAoAAAAAAEAABAAAAAAAQAA\n",
              "AAAAAAABAAAIAAAAAAEAACgAAAAAAQAAEAAAAAABAAAAAAAAAAEAAAgAAAAAAQAAKAAAAAABAAAQ\n",
              "AAAAAAEAAAAAAAAAAQAACAAAAAABAAAoAAAAAAEAABAAAAAAAQAAAAAAAAABAAAIAAAAAAEAACgA\n",
              "AAAAAQAAEAAAAAABAAAAAAAAAAEAAAgAAAAAAQAAKAAAAAABAAAQAAAAAAEAAAAAAAAAAQAACAAA\n",
              "AAABAAAoAAAAAAEAABAAAAAAAQAAAAAAAAABAAAIAAAAAAEAACgAAAAAAQAAEAAAAAABAAAAAAAA\n",
              "AAEAAAgAAAAAAQAAKAAAAAABAAAQAAAAAAEAAAAAAAAAAQAACAAAAAABAAAoAAAAAAEAABAAAAAA\n",
              "AQAAAAAAAAABAAAIAAAAAAEAACgAAAAAAQAAEAAAAAABAAAAAAAAAAEAAAgAAAAAAQAAKAAAAAAB\n",
              "AAAQAAAAAAEAAAAAAAAAAQAACAAAAAABAAAoAAAAAAEAABAAAAAAAQAAAAAAAAABAAAIAAAAAAEA\n",
              "ACgAAAAAAQAAEAAAAAABAAAAAAAAAAEAAAgAAAAAAQAAKAAAAAABAAAQAAAAAAEAAAAAAAAAAQAA\n",
              "CAAAAAABAAAoAAAAAAEAABAAAAAAAQAAAAAAAAABAAAIAAAAAAEAACgAAAAAAQAAEAAAAAABAAAA\n",
              "AAAAAAEAAAgAAAAAAQAAKAAAAAABAAAQAAAAAAEAAAAAAAAAAQAACAAAAAABAAAoAAAAAAEAABAA\n",
              "AAAAAQAAAAAAAAABAAAIAAAAAAEAABgAAAAAAQAACAAAAAAcc3RzYwAAAAAAAAABAAAAAQAAAGQA\n",
              "AAABAAABpHN0c3oAAAAAAAAAAAAAAGQAACYaAAAERQAAAy8AAAOKAAACwgAAAokAAAKhAAAAcwAA\n",
              "AHUAAAA5AAACkgAAAFsAAAArAAAAKgAAAqIAAABRAAAAKgAAACkAAAJ9AAAAXAAAADMAAAAmAAAC\n",
              "PQAAAEAAAAAjAAAALgAAAkoAAAA/AAAAKAAAACIAAAJ3AAAAXwAAACQAAAAoAAACaAAAAF4AAAAo\n",
              "AAAAMgAAAoEAAABKAAAAOgAAADAAAAKNAAAAWQAAAC0AAAAuAAACfQAAAFkAAAAlAAAAIgAAApsA\n",
              "AABsAAAALgAAADUAAAKiAAAAcQAAADAAAAA0AAACvAAAAHIAAAA8AAAARAAAAp0AAABVAAAAQgAA\n",
              "ADoAAAJ4AAAAVQAAAD0AAAA+AAACXQAAAEgAAAAzAAAALgAAAiIAAABTAAAAGwAAACIAAAISAAAA\n",
              "YgAAABoAAAAiAAACCAAAAF4AAAAkAAAAIwAAAZEAAABrAAAAJAAAACUAAAEpAAAAWwAAACIAAAAp\n",
              "AAABFAAAAFAAAAAiAAAAKQAAAGsAAAAtAAAAFHN0Y28AAAAAAAAAAQAAACwAAABidWR0YQAAAFpt\n",
              "ZXRhAAAAAAAAACFoZGxyAAAAAAAAAABtZGlyYXBwbAAAAAAAAAAAAAAAAC1pbHN0AAAAJal0b28A\n",
              "AAAdZGF0YQAAAAEAAAAATGF2ZjU3LjgzLjEwMA==\n",
              "\">\n",
              "  Your browser does not support the video tag.\n",
              "</video>"
            ],
            "text/plain": [
              "<IPython.core.display.HTML object>"
            ]
          },
          "metadata": {
            "tags": []
          },
          "execution_count": 173
        }
      ]
    },
    {
      "cell_type": "markdown",
      "metadata": {
        "id": "MpRv0F3inveY",
        "colab_type": "text"
      },
      "source": [
        "\n",
        "\n",
        "*   Animate the hyperparameter epochs\n",
        "\n"
      ]
    },
    {
      "cell_type": "code",
      "metadata": {
        "id": "ZDAi0rfCn7J1",
        "colab_type": "code",
        "outputId": "9ec653b8-c3f0-45d9-af81-4ecd0114d364",
        "colab": {
          "base_uri": "https://localhost:8080/",
          "height": 269
        }
      },
      "source": [
        "fig, ax = plt.subplots()\n",
        "\n",
        "ax.set_xlim((0, 10000))\n",
        "ax.set_ylim((0, 1))\n",
        "\n",
        "line, = ax.plot([], [], lw=2)"
      ],
      "execution_count": 0,
      "outputs": [
        {
          "output_type": "display_data",
          "data": {
            "image/png": "[encoded data removed]",
            "text/plain": [
              "<Figure size 432x288 with 1 Axes>"
            ]
          },
          "metadata": {
            "tags": []
          }
        }
      ]
    },
    {
      "cell_type": "code",
      "metadata": {
        "id": "ZF7jH0XTpwUN",
        "colab_type": "code",
        "outputId": "4cc1707e-ac30-40b3-ddbd-b500b9162cd4",
        "colab": {
          "base_uri": "https://localhost:8080/",
          "height": 50
        }
      },
      "source": [
        "print(epochs)\n",
        "print(train_accuracy)\n",
        "def animate(i):\n",
        "    x = epochs\n",
        "    y = train_accuracy\n",
        "    line.set_data(x, y)\n",
        "    return (line,)"
      ],
      "execution_count": 0,
      "outputs": [
        {
          "output_type": "stream",
          "text": [
            "[10, 100, 1000, 10000]\n",
            "[0.9375, 0.908203125, 0.763671875, 0.75]\n"
          ],
          "name": "stdout"
        }
      ]
    },
    {
      "cell_type": "code",
      "metadata": {
        "id": "hdKuC2njqIT6",
        "colab_type": "code",
        "colab": {}
      },
      "source": [
        "anim = animation.FuncAnimation(fig, animate, frames=4, interval=200, blit=True)"
      ],
      "execution_count": 0,
      "outputs": []
    },
    {
      "cell_type": "code",
      "metadata": {
        "id": "R-bA_1qbqM5J",
        "colab_type": "code",
        "outputId": "f2d0c348-f389-4963-fd2f-f25d5c120cbb",
        "colab": {
          "base_uri": "https://localhost:8080/",
          "height": 309
        }
      },
      "source": [
        "HTML(anim.to_html5_video())"
      ],
      "execution_count": 0,
      "outputs": [
        {
          "output_type": "execute_result",
          "data": {
            "text/html": [
              "<video width=\"432\" height=\"288\" controls autoplay loop>\n",
              "  <source type=\"video/mp4\" src=\"data:video/mp4;base64,AAAAHGZ0eXBNNFYgAAACAGlzb21pc28yYXZjMQAAAAhmcmVlAAAOH21kYXQAAAKtBgX//6ncRem9\n",
              "5tlIt5Ys2CDZI+7veDI2NCAtIGNvcmUgMTUyIHIyODU0IGU5YTU5MDMgLSBILjI2NC9NUEVHLTQg\n",
              "QVZDIGNvZGVjIC0gQ29weWxlZnQgMjAwMy0yMDE3IC0gaHR0cDovL3d3dy52aWRlb2xhbi5vcmcv\n",
              "eDI2NC5odG1sIC0gb3B0aW9uczogY2FiYWM9MSByZWY9MyBkZWJsb2NrPTE6MDowIGFuYWx5c2U9\n",
              "MHgzOjB4MTEzIG1lPWhleCBzdWJtZT03IHBzeT0xIHBzeV9yZD0xLjAwOjAuMDAgbWl4ZWRfcmVm\n",
              "PTEgbWVfcmFuZ2U9MTYgY2hyb21hX21lPTEgdHJlbGxpcz0xIDh4OGRjdD0xIGNxbT0wIGRlYWR6\n",
              "b25lPTIxLDExIGZhc3RfcHNraXA9MSBjaHJvbWFfcXBfb2Zmc2V0PS0yIHRocmVhZHM9MyBsb29r\n",
              "YWhlYWRfdGhyZWFkcz0xIHNsaWNlZF90aHJlYWRzPTAgbnI9MCBkZWNpbWF0ZT0xIGludGVybGFj\n",
              "ZWQ9MCBibHVyYXlfY29tcGF0PTAgY29uc3RyYWluZWRfaW50cmE9MCBiZnJhbWVzPTMgYl9weXJh\n",
              "bWlkPTIgYl9hZGFwdD0xIGJfYmlhcz0wIGRpcmVjdD0xIHdlaWdodGI9MSBvcGVuX2dvcD0wIHdl\n",
              "aWdodHA9MiBrZXlpbnQ9MjUwIGtleWludF9taW49NSBzY2VuZWN1dD00MCBpbnRyYV9yZWZyZXNo\n",
              "PTAgcmNfbG9va2FoZWFkPTQwIHJjPWNyZiBtYnRyZWU9MSBjcmY9MjMuMCBxY29tcD0wLjYwIHFw\n",
              "bWluPTAgcXBtYXg9NjkgcXBzdGVwPTQgaXBfcmF0aW89MS40MCBhcT0xOjEuMDAAgAAACtBliIQA\n",
              "Ev/+963fgU3AQO1rulc4tMurlDQ9UfaUpni2SAAAAwADjiHS/hatTswBFZIxX17C3MySYyQ9Sg2s\n",
              "3eRsrO/qdbLhigJK8YkU1lXzgACjJtRHVAz/c5lahVoKyDsmQPSc03r0aA/BFGkh52ifQwfPrpUE\n",
              "mQ79QMHo5TZKgBFeS2LiyEIciOs0G3DapxEH0gBEjCKZxY9whSLd2ynL6x2euDz/z1ypbVBLj/Ql\n",
              "uIhWhPMfWYPxQcwKkvEUxvT7fqgOwhRfwco73AFnRBAsedX5AKP+69O1NCnUqg185hthpbakO+2c\n",
              "OMAu1HX3eugk1nkePxI27d4SbTvVaXK/8x6prcUkZSe/xYt/0rxrml0FykrkbvsN8UXu0gT8yqWn\n",
              "kkvGMmH9Zr+hMDSwxPebqkQa/G9PyTzCoOTw3RjTtlX1nAiOEYZFTQmc1EDpq4TDPXay9eBMn0dR\n",
              "CfbhsAAXJ159pSPdoydMWYiMg+ZkykJvplaN9rQ/6fXr2AwNPl6mUyYhH7+rrTNa9X3lr21FayJV\n",
              "68UCZcxKcknkbklfT6DTC0Yppp1Ls4MzwcP6TMkjxY85+6+HeN0cU/8rwD5mG0ovCDdQYi1vLbeD\n",
              "0bwaJe+dPleZatLWERw3fnARSwSj5DB3EsSSF3RlcPSlEB+HJ6L1t7FNmaxAWT6ot4TT1ItgVC5a\n",
              "uKSFvKsM/o/vxEjd+6rANqwvlKTa58Xcn9II0VZ5qe/LfKlEq2kSzbPTAA1YzWKdBJ+I0Sa01EbE\n",
              "Jqv1aLmr+GUKgH/OOGgscPHnbT4wHY0dNI0du8vqipF8z1kGtt8jiA+T5Wguyr2rOAGHBuRACqoi\n",
              "ieFM4d7m5XRosG7+LtvDLPwfkA8MvKeIsJUjQA5In70IKIqwvPXPC//n+sef7CUaBUzjvLv43XCJ\n",
              "G15v5uZOkXRVh78LcEboHj+cAboZ3doE8CpTXeQtNwg6IzdQvB6604vqLVUQqDDnqbXZf16GvgWz\n",
              "tPe7VN5zMCQkJM5SQ8qKLOU6tEzADq6wJDM7iz47VAnAaJnaHyI3QCXLyDRHE6SwCNA/iLzKuUpO\n",
              "TNhViBP8+agcNISySvDnOTrsWU/ulNfB0mRoCbxd2waibsREkYgx2wPJihuIIJ5h7pop9m2LCW9y\n",
              "dUAOBiAQBpQbr+XUiop8nLmgSI/ZKcdgTNdiaxvjwfhYMldeoe3F1hc88Vn4Ft1lMbJoHsh8fs5p\n",
              "AePg4GynmdbVTO9ZI4H91/awJ4sb5aTqeUypuqd9CsyejkQnvzimw/1GCaC/AueN9b05PBogDMXb\n",
              "NP7wjJXsx7KirUyZQher/PHAUM+hCkoZ0eVPoz/q7QGZ+2HqUng8luHBBYO+FF3icvfNbwrtVzSh\n",
              "fasqaFxLX3syA/nV2+bimwHhh09ko8gIFvuCzL0AZvcdrxbX1kuqSx/1JLp+SeAew7xJRx+wIAhp\n",
              "ch5wKL9deERmFr7hkahgcbZxpkuAmRgfTL2/zK6IF9walc6+PpJrYiUaG52zDyr8XjKSVaT+t5Zy\n",
              "/76LhktbZab4fMlgVyDGFiLx55FhsFeH7GyK+GcijLKyH4YrdBygwZ5TQLz9aQHg4s2FAP2Vk2vW\n",
              "MxV6lg/1NCxCgTI+sWuyJYJnUHDBdArSKqD3wnArHYj9VN0nW8gkqxK4ZoT615KmDNoR6YXkCsnl\n",
              "8MyYUHoepX4DOuKaw0rnyyUrn5iW9VauNTtlc5PJOvD84sWzxN8uM2ajqtfbgAC1JAFavy0L+Ws+\n",
              "McYvL7sSHWmH01JXnorp6sonxTtn10GAF463CGYmot4XrkwpLZUw3rwy5GAk8FBFgpmeMWe7LIfY\n",
              "NMVhTuM/S0pldk2Jcdl/y4VCyxcxoRmcTal0UQPN5/lsZpgn2wnxosHKVmpuyFAP35kmyfSZ+iGl\n",
              "xtxvdvzfFWIhBb979NXNyPGWBZriHdci+LpIfFwYJRJAg09pMP4mEKqdkGFCpagAjBxhwFLLsk6e\n",
              "75ELmqlz+eNWRRGKyJzmRlnbsVBdShI1yzLC07IFutjUqiWomaQRAaxPqQtr0xOjhGByLnfaugSB\n",
              "JfgeGlW5b46YX2uW6HHRO0DtGPSDUnKH6XbUc7u4YRbFRSWUY9ixmqxoclY1aeKkE5VLtqHmPYcm\n",
              "NIftCUGludctFYvvXlSLJ66rGr9h+kSBg0/ymETL+QmUTL1ssQ4EU++B1T6eI8JF4Z1XosViQUwo\n",
              "BCQ4d3GL0tyYnhfta1qGgqoA1cEGZx/KtqvzYGkA6coPkvutLAeH1wemLk2DWWaKn/6/AlDTV9Uj\n",
              "njGZEgX37x/YCVzEgNKq9XCcXev1mdCjo4r+3VjKfa4AN1Lza7Yd5annzQDyPMgZ5PHZMj3HQ2Fu\n",
              "k9tCPBKpp8ZANWWHXDMWBEV/+CfU+lMj8KtvH/4ZwiIap26kNmEMz34yUANK9jws3DGuEu4jWdVF\n",
              "XfeqLggMW1GyFcaRVGL9pHbFpIU1D9D/0IGhGmGfpjplz7Fp4lfTuzCrxkB0Vkh/z9a+JetgmL24\n",
              "QG5WtxUXamTcIAd5D+XBBBPatlSDLZQM1ICVkWzD70EsNjNQoCLGV7KojYN4pWu0x3SK7SPAmwMu\n",
              "ljeolaDEfX1V9aHeE967GZEJRB4zgS0/WiFf+9/EEjDO3yj553YCBr2aG5xCAecjKRFcaJVzlFIe\n",
              "uFWy0vadsQQPGaRjLq6wZ2i7zJRNV6TgjCRyKptG3ybleJ1g7swCGov0KW5Dp4ZB9NYm9r3i65b3\n",
              "OqiLR1VhMTBKWTz7YEqMsZ989cuyA0H0pNRjAzAs/M8XPLwmprSz7q8B6/5kyD4+tlepo6Ta6cde\n",
              "dH9HI/dbsPz+BPGO9z+6BeQ/A9kQ8zHIMoakUjnmqRl0oimn7vWh2ZHyBEPxUoCVv8Glz7nllAv/\n",
              "JXRwGWI501+VwXVhEfKLH2QazHmtHDXKSiUlfGbrtk+hLLjihRmgVWKuFYVy64UN6eFjcS6Ijyf0\n",
              "f5v6BxvQ+p50rHrFWMrVRwTttmV/bHwaPy/hVF5oLuqEEgtVCo86jKzJm4CE3mmZY0eBBQDp+H8z\n",
              "NgD6RMHJZdwkfUdBvp/rKyslH5gLRbkejLHObAR0oLBztLYW1ZGe8sp5vLZC8KqRrLvHLq4vzKGN\n",
              "VBhQtp7X73cCpJ9cskY1KS6wDAAM9BWKrXD5tNVv/BpIkPk5KEtJX6JmbfOUY5B1N2x+aLO2ezKf\n",
              "HS7P5Pjjss6cLN4UfBJbyfggOKK2qOYRGz5pxGCHNUoMo2i1HPqPz20WJWCHG0M6fsHoB7vT15Qd\n",
              "rY8Vxw857roIQ/VEgf75m7sIvp2WiEVvhGOvNv5yV1cnqa29E6UhqqrdUKhV7XkJyNdz5Im7tlig\n",
              "zuVuUJDt8keqJ9iZ4frqfn7N8E31ugf5XQnGQWb8peGs4EigVLuScDbP2cW7Ws0g86BLaiIC6cih\n",
              "zUqa76HR+rRCNPWxDclYuxjoINnEDqxXoWVx0GN1jEV/OlQ9cqs7o8+RDkyRCV/oy7MnFTXExiBi\n",
              "z4L21BjvDbKdf0O5iZPwTTUBTdt1CNy8igWUUw/sh3CmONp+pDxHlVajPA2t2EVS/+NSqkqPRczn\n",
              "XLGqBwdup8d5S7isMfTY4VBlX7Dk7HjdnN9a7qtm1Bg3LKCXk8WDdckEz8iu/Vlq8/pQp68HCyft\n",
              "tWyIXcSzQK7Q9Y6NLzDFIAAAaJFMDPWZ5Q1t0QAAAFVBmiNsQ//+qZYAAAWb5mGcl1AATqgc9nvk\n",
              "rhNI0nh3zSVS2ueW7913YSIGtPd6jltKryWv6gyq0QqkbsyvtzqYNd9UfMw/x5RTUvpxM2S4Jawi\n",
              "QO1AAAAAHkGeQXiCHwAEScNYiO7cmMJcXAdIvdlr6Ng87q8S5QAAABMBnmJqQ/8ACawbQrPus41x\n",
              "glmwAAADVm1vb3YAAABsbXZoZAAAAAAAAAAAAAAAAAAAA+gAAAMgAAEAAAEAAAAAAAAAAAAAAAAB\n",
              "AAAAAAAAAAAAAAAAAAAAAQAAAAAAAAAAAAAAAAAAQAAAAAAAAAAAAAAAAAAAAAAAAAAAAAAAAAAA\n",
              "AAAAAAIAAAKAdHJhawAAAFx0a2hkAAAAAwAAAAAAAAAAAAAAAQAAAAAAAAMgAAAAAAAAAAAAAAAA\n",
              "AAAAAAABAAAAAAAAAAAAAAAAAAAAAQAAAAAAAAAAAAAAAAAAQAAAAAGwAAABIAAAAAAAJGVkdHMA\n",
              "AAAcZWxzdAAAAAAAAAABAAADIAAAEAAAAQAAAAAB+G1kaWEAAAAgbWRoZAAAAAAAAAAAAAAAAAAA\n",
              "KAAAACAAVcQAAAAAAC1oZGxyAAAAAAAAAAB2aWRlAAAAAAAAAAAAAAAAVmlkZW9IYW5kbGVyAAAA\n",
              "AaNtaW5mAAAAFHZtaGQAAAABAAAAAAAAAAAAAAAkZGluZgAAABxkcmVmAAAAAAAAAAEAAAAMdXJs\n",
              "IAAAAAEAAAFjc3RibAAAALNzdHNkAAAAAAAAAAEAAACjYXZjMQAAAAAAAAABAAAAAAAAAAAAAAAA\n",
              "AAAAAAGwASAASAAAAEgAAAAAAAAAAQAAAAAAAAAAAAAAAAAAAAAAAAAAAAAAAAAAAAAAAAAAABj/\n",
              "/wAAADFhdmNDAWQAFf/hABhnZAAVrNlBsJaEAAADAAQAAAMAKDxYtlgBAAZo6+PLIsAAAAAcdXVp\n",
              "ZGtoQPJfJE/FujmlG88DI/MAAAAAAAAAGHN0dHMAAAAAAAAAAQAAAAQAAAgAAAAAFHN0c3MAAAAA\n",
              "AAAAAQAAAAEAAAAoY3R0cwAAAAAAAAADAAAAAQAAEAAAAAABAAAgAAAAAAIAAAgAAAAAHHN0c2MA\n",
              "AAAAAAAAAQAAAAEAAAAEAAAAAQAAACRzdHN6AAAAAAAAAAAAAAAEAAANhQAAAFkAAAAiAAAAFwAA\n",
              "ABRzdGNvAAAAAAAAAAEAAAAsAAAAYnVkdGEAAABabWV0YQAAAAAAAAAhaGRscgAAAAAAAAAAbWRp\n",
              "cmFwcGwAAAAAAAAAAAAAAAAtaWxzdAAAACWpdG9vAAAAHWRhdGEAAAABAAAAAExhdmY1Ny44My4x\n",
              "MDA=\n",
              "\">\n",
              "  Your browser does not support the video tag.\n",
              "</video>"
            ],
            "text/plain": [
              "<IPython.core.display.HTML object>"
            ]
          },
          "metadata": {
            "tags": []
          },
          "execution_count": 177
        }
      ]
    }
  ]
}